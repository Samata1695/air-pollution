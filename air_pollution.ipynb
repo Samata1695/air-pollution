{
  "nbformat": 4,
  "nbformat_minor": 0,
  "metadata": {
    "colab": {
      "provenance": [],
      "collapsed_sections": [],
      "include_colab_link": true
    },
    "kernelspec": {
      "name": "python3",
      "display_name": "Python 3"
    },
    "language_info": {
      "name": "python"
    }
  },
  "cells": [
    {
      "cell_type": "markdown",
      "metadata": {
        "id": "view-in-github",
        "colab_type": "text"
      },
      "source": [
        "<a href=\"https://colab.research.google.com/github/Samata1695/air-pollution/blob/main/air_pollution.ipynb\" target=\"_parent\"><img src=\"https://colab.research.google.com/assets/colab-badge.svg\" alt=\"Open In Colab\"/></a>"
      ]
    },
    {
      "cell_type": "code",
      "execution_count": 1,
      "metadata": {
        "id": "RHkNZ3TtXvbH"
      },
      "outputs": [],
      "source": [
        "import pandas as pd\n",
        "import numpy as np\n",
        "import matplotlib.pyplot as plt\n",
        "%matplotlib inline\n",
        "import seaborn as snc\n",
        "import sklearn.metrics\n",
        "import seaborn as sns"
      ]
    },
    {
      "cell_type": "code",
      "source": [
        "import warnings\n",
        "warnings.filterwarnings(\"ignore\")"
      ],
      "metadata": {
        "id": "NzmtfEvT4Taf"
      },
      "execution_count": 2,
      "outputs": []
    },
    {
      "cell_type": "code",
      "source": [
        "air_quality = pd.read_csv(\"/content/700 AIR_QUALITY.csv\")"
      ],
      "metadata": {
        "id": "NAi79f2KX_6t"
      },
      "execution_count": 3,
      "outputs": []
    },
    {
      "cell_type": "code",
      "source": [
        "air_quality.dropna(axis=0, how= 'all', inplace=True)\n",
        "air_quality.dropna(axis=1, inplace=True)"
      ],
      "metadata": {
        "id": "YG1jtuheYB2q"
      },
      "execution_count": 4,
      "outputs": []
    },
    {
      "cell_type": "code",
      "source": [
        "air_quality.replace(to_replace= -200, value= np.NaN, inplace= True)\n",
        "air_quality.head()"
      ],
      "metadata": {
        "colab": {
          "base_uri": "https://localhost:8080/",
          "height": 444
        },
        "id": "eixXOOOSYKAj",
        "outputId": "5b4130c3-4575-433e-c886-ef1679ff8ed2"
      },
      "execution_count": 5,
      "outputs": [
        {
          "output_type": "execute_result",
          "data": {
            "text/plain": [
              "         Date      Time  CO(GT)  PT08.S1(CO)  NMHC(GT)  C6H6(GT)  \\\n",
              "0  10-03-2004  18:00:00     2.6       1360.0     150.0      11.9   \n",
              "1  10-03-2004  19:00:00     2.0       1292.0     112.0       9.4   \n",
              "2  10-03-2004  20:00:00     2.2       1402.0      88.0       9.0   \n",
              "3  10-03-2004  21:00:00     2.2       1376.0      80.0       9.2   \n",
              "4  10-03-2004  22:00:00     1.6       1272.0      51.0       6.5   \n",
              "\n",
              "   PT08.S2(NMHC)  NOx(GT)  PT08.S3(NOx)  NO2(GT)  PT08.S4(NO2)  PT08.S5(O3)  \\\n",
              "0         1046.0    166.0        1056.0    113.0        1692.0       1268.0   \n",
              "1          955.0    103.0        1174.0     92.0        1559.0        972.0   \n",
              "2          939.0    131.0        1140.0    114.0        1555.0       1074.0   \n",
              "3          948.0    172.0        1092.0    122.0        1584.0       1203.0   \n",
              "4          836.0    131.0        1205.0    116.0        1490.0       1110.0   \n",
              "\n",
              "      T    RH      AH  \n",
              "0  13.6  48.9  0.7578  \n",
              "1  13.3  47.7  0.7255  \n",
              "2  11.9  54.0  0.7502  \n",
              "3  11.0  60.0  0.7867  \n",
              "4  11.2  59.6  0.7888  "
            ],
            "text/html": [
              "\n",
              "  <div id=\"df-30a33978-32c1-4165-8e59-1c929ed755bd\">\n",
              "    <div class=\"colab-df-container\">\n",
              "      <div>\n",
              "<style scoped>\n",
              "    .dataframe tbody tr th:only-of-type {\n",
              "        vertical-align: middle;\n",
              "    }\n",
              "\n",
              "    .dataframe tbody tr th {\n",
              "        vertical-align: top;\n",
              "    }\n",
              "\n",
              "    .dataframe thead th {\n",
              "        text-align: right;\n",
              "    }\n",
              "</style>\n",
              "<table border=\"1\" class=\"dataframe\">\n",
              "  <thead>\n",
              "    <tr style=\"text-align: right;\">\n",
              "      <th></th>\n",
              "      <th>Date</th>\n",
              "      <th>Time</th>\n",
              "      <th>CO(GT)</th>\n",
              "      <th>PT08.S1(CO)</th>\n",
              "      <th>NMHC(GT)</th>\n",
              "      <th>C6H6(GT)</th>\n",
              "      <th>PT08.S2(NMHC)</th>\n",
              "      <th>NOx(GT)</th>\n",
              "      <th>PT08.S3(NOx)</th>\n",
              "      <th>NO2(GT)</th>\n",
              "      <th>PT08.S4(NO2)</th>\n",
              "      <th>PT08.S5(O3)</th>\n",
              "      <th>T</th>\n",
              "      <th>RH</th>\n",
              "      <th>AH</th>\n",
              "    </tr>\n",
              "  </thead>\n",
              "  <tbody>\n",
              "    <tr>\n",
              "      <th>0</th>\n",
              "      <td>10-03-2004</td>\n",
              "      <td>18:00:00</td>\n",
              "      <td>2.6</td>\n",
              "      <td>1360.0</td>\n",
              "      <td>150.0</td>\n",
              "      <td>11.9</td>\n",
              "      <td>1046.0</td>\n",
              "      <td>166.0</td>\n",
              "      <td>1056.0</td>\n",
              "      <td>113.0</td>\n",
              "      <td>1692.0</td>\n",
              "      <td>1268.0</td>\n",
              "      <td>13.6</td>\n",
              "      <td>48.9</td>\n",
              "      <td>0.7578</td>\n",
              "    </tr>\n",
              "    <tr>\n",
              "      <th>1</th>\n",
              "      <td>10-03-2004</td>\n",
              "      <td>19:00:00</td>\n",
              "      <td>2.0</td>\n",
              "      <td>1292.0</td>\n",
              "      <td>112.0</td>\n",
              "      <td>9.4</td>\n",
              "      <td>955.0</td>\n",
              "      <td>103.0</td>\n",
              "      <td>1174.0</td>\n",
              "      <td>92.0</td>\n",
              "      <td>1559.0</td>\n",
              "      <td>972.0</td>\n",
              "      <td>13.3</td>\n",
              "      <td>47.7</td>\n",
              "      <td>0.7255</td>\n",
              "    </tr>\n",
              "    <tr>\n",
              "      <th>2</th>\n",
              "      <td>10-03-2004</td>\n",
              "      <td>20:00:00</td>\n",
              "      <td>2.2</td>\n",
              "      <td>1402.0</td>\n",
              "      <td>88.0</td>\n",
              "      <td>9.0</td>\n",
              "      <td>939.0</td>\n",
              "      <td>131.0</td>\n",
              "      <td>1140.0</td>\n",
              "      <td>114.0</td>\n",
              "      <td>1555.0</td>\n",
              "      <td>1074.0</td>\n",
              "      <td>11.9</td>\n",
              "      <td>54.0</td>\n",
              "      <td>0.7502</td>\n",
              "    </tr>\n",
              "    <tr>\n",
              "      <th>3</th>\n",
              "      <td>10-03-2004</td>\n",
              "      <td>21:00:00</td>\n",
              "      <td>2.2</td>\n",
              "      <td>1376.0</td>\n",
              "      <td>80.0</td>\n",
              "      <td>9.2</td>\n",
              "      <td>948.0</td>\n",
              "      <td>172.0</td>\n",
              "      <td>1092.0</td>\n",
              "      <td>122.0</td>\n",
              "      <td>1584.0</td>\n",
              "      <td>1203.0</td>\n",
              "      <td>11.0</td>\n",
              "      <td>60.0</td>\n",
              "      <td>0.7867</td>\n",
              "    </tr>\n",
              "    <tr>\n",
              "      <th>4</th>\n",
              "      <td>10-03-2004</td>\n",
              "      <td>22:00:00</td>\n",
              "      <td>1.6</td>\n",
              "      <td>1272.0</td>\n",
              "      <td>51.0</td>\n",
              "      <td>6.5</td>\n",
              "      <td>836.0</td>\n",
              "      <td>131.0</td>\n",
              "      <td>1205.0</td>\n",
              "      <td>116.0</td>\n",
              "      <td>1490.0</td>\n",
              "      <td>1110.0</td>\n",
              "      <td>11.2</td>\n",
              "      <td>59.6</td>\n",
              "      <td>0.7888</td>\n",
              "    </tr>\n",
              "  </tbody>\n",
              "</table>\n",
              "</div>\n",
              "      <button class=\"colab-df-convert\" onclick=\"convertToInteractive('df-30a33978-32c1-4165-8e59-1c929ed755bd')\"\n",
              "              title=\"Convert this dataframe to an interactive table.\"\n",
              "              style=\"display:none;\">\n",
              "        \n",
              "  <svg xmlns=\"http://www.w3.org/2000/svg\" height=\"24px\"viewBox=\"0 0 24 24\"\n",
              "       width=\"24px\">\n",
              "    <path d=\"M0 0h24v24H0V0z\" fill=\"none\"/>\n",
              "    <path d=\"M18.56 5.44l.94 2.06.94-2.06 2.06-.94-2.06-.94-.94-2.06-.94 2.06-2.06.94zm-11 1L8.5 8.5l.94-2.06 2.06-.94-2.06-.94L8.5 2.5l-.94 2.06-2.06.94zm10 10l.94 2.06.94-2.06 2.06-.94-2.06-.94-.94-2.06-.94 2.06-2.06.94z\"/><path d=\"M17.41 7.96l-1.37-1.37c-.4-.4-.92-.59-1.43-.59-.52 0-1.04.2-1.43.59L10.3 9.45l-7.72 7.72c-.78.78-.78 2.05 0 2.83L4 21.41c.39.39.9.59 1.41.59.51 0 1.02-.2 1.41-.59l7.78-7.78 2.81-2.81c.8-.78.8-2.07 0-2.86zM5.41 20L4 18.59l7.72-7.72 1.47 1.35L5.41 20z\"/>\n",
              "  </svg>\n",
              "      </button>\n",
              "      \n",
              "  <style>\n",
              "    .colab-df-container {\n",
              "      display:flex;\n",
              "      flex-wrap:wrap;\n",
              "      gap: 12px;\n",
              "    }\n",
              "\n",
              "    .colab-df-convert {\n",
              "      background-color: #E8F0FE;\n",
              "      border: none;\n",
              "      border-radius: 50%;\n",
              "      cursor: pointer;\n",
              "      display: none;\n",
              "      fill: #1967D2;\n",
              "      height: 32px;\n",
              "      padding: 0 0 0 0;\n",
              "      width: 32px;\n",
              "    }\n",
              "\n",
              "    .colab-df-convert:hover {\n",
              "      background-color: #E2EBFA;\n",
              "      box-shadow: 0px 1px 2px rgba(60, 64, 67, 0.3), 0px 1px 3px 1px rgba(60, 64, 67, 0.15);\n",
              "      fill: #174EA6;\n",
              "    }\n",
              "\n",
              "    [theme=dark] .colab-df-convert {\n",
              "      background-color: #3B4455;\n",
              "      fill: #D2E3FC;\n",
              "    }\n",
              "\n",
              "    [theme=dark] .colab-df-convert:hover {\n",
              "      background-color: #434B5C;\n",
              "      box-shadow: 0px 1px 3px 1px rgba(0, 0, 0, 0.15);\n",
              "      filter: drop-shadow(0px 1px 2px rgba(0, 0, 0, 0.3));\n",
              "      fill: #FFFFFF;\n",
              "    }\n",
              "  </style>\n",
              "\n",
              "      <script>\n",
              "        const buttonEl =\n",
              "          document.querySelector('#df-30a33978-32c1-4165-8e59-1c929ed755bd button.colab-df-convert');\n",
              "        buttonEl.style.display =\n",
              "          google.colab.kernel.accessAllowed ? 'block' : 'none';\n",
              "\n",
              "        async function convertToInteractive(key) {\n",
              "          const element = document.querySelector('#df-30a33978-32c1-4165-8e59-1c929ed755bd');\n",
              "          const dataTable =\n",
              "            await google.colab.kernel.invokeFunction('convertToInteractive',\n",
              "                                                     [key], {});\n",
              "          if (!dataTable) return;\n",
              "\n",
              "          const docLinkHtml = 'Like what you see? Visit the ' +\n",
              "            '<a target=\"_blank\" href=https://colab.research.google.com/notebooks/data_table.ipynb>data table notebook</a>'\n",
              "            + ' to learn more about interactive tables.';\n",
              "          element.innerHTML = '';\n",
              "          dataTable['output_type'] = 'display_data';\n",
              "          await google.colab.output.renderOutput(dataTable, element);\n",
              "          const docLink = document.createElement('div');\n",
              "          docLink.innerHTML = docLinkHtml;\n",
              "          element.appendChild(docLink);\n",
              "        }\n",
              "      </script>\n",
              "    </div>\n",
              "  </div>\n",
              "  "
            ]
          },
          "metadata": {},
          "execution_count": 5
        }
      ]
    },
    {
      "cell_type": "code",
      "source": [
        "air_quality.fillna(air_quality.mean(), inplace= True)"
      ],
      "metadata": {
        "id": "W5Zpd-p2YLZT"
      },
      "execution_count": 6,
      "outputs": []
    },
    {
      "cell_type": "code",
      "source": [
        "air_quality.loc[:,'Date']=air_quality['Date']\n",
        "air_quality.head()"
      ],
      "metadata": {
        "colab": {
          "base_uri": "https://localhost:8080/",
          "height": 444
        },
        "id": "OFgY5OvhYNLq",
        "outputId": "3a541f6e-1d4f-4956-e8f3-d2d18e207046"
      },
      "execution_count": 7,
      "outputs": [
        {
          "output_type": "execute_result",
          "data": {
            "text/plain": [
              "         Date      Time  CO(GT)  PT08.S1(CO)  NMHC(GT)  C6H6(GT)  \\\n",
              "0  10-03-2004  18:00:00     2.6       1360.0     150.0      11.9   \n",
              "1  10-03-2004  19:00:00     2.0       1292.0     112.0       9.4   \n",
              "2  10-03-2004  20:00:00     2.2       1402.0      88.0       9.0   \n",
              "3  10-03-2004  21:00:00     2.2       1376.0      80.0       9.2   \n",
              "4  10-03-2004  22:00:00     1.6       1272.0      51.0       6.5   \n",
              "\n",
              "   PT08.S2(NMHC)  NOx(GT)  PT08.S3(NOx)  NO2(GT)  PT08.S4(NO2)  PT08.S5(O3)  \\\n",
              "0         1046.0    166.0        1056.0    113.0        1692.0       1268.0   \n",
              "1          955.0    103.0        1174.0     92.0        1559.0        972.0   \n",
              "2          939.0    131.0        1140.0    114.0        1555.0       1074.0   \n",
              "3          948.0    172.0        1092.0    122.0        1584.0       1203.0   \n",
              "4          836.0    131.0        1205.0    116.0        1490.0       1110.0   \n",
              "\n",
              "      T    RH      AH  \n",
              "0  13.6  48.9  0.7578  \n",
              "1  13.3  47.7  0.7255  \n",
              "2  11.9  54.0  0.7502  \n",
              "3  11.0  60.0  0.7867  \n",
              "4  11.2  59.6  0.7888  "
            ],
            "text/html": [
              "\n",
              "  <div id=\"df-68697e48-496e-47fe-9fda-f7480fc9ad72\">\n",
              "    <div class=\"colab-df-container\">\n",
              "      <div>\n",
              "<style scoped>\n",
              "    .dataframe tbody tr th:only-of-type {\n",
              "        vertical-align: middle;\n",
              "    }\n",
              "\n",
              "    .dataframe tbody tr th {\n",
              "        vertical-align: top;\n",
              "    }\n",
              "\n",
              "    .dataframe thead th {\n",
              "        text-align: right;\n",
              "    }\n",
              "</style>\n",
              "<table border=\"1\" class=\"dataframe\">\n",
              "  <thead>\n",
              "    <tr style=\"text-align: right;\">\n",
              "      <th></th>\n",
              "      <th>Date</th>\n",
              "      <th>Time</th>\n",
              "      <th>CO(GT)</th>\n",
              "      <th>PT08.S1(CO)</th>\n",
              "      <th>NMHC(GT)</th>\n",
              "      <th>C6H6(GT)</th>\n",
              "      <th>PT08.S2(NMHC)</th>\n",
              "      <th>NOx(GT)</th>\n",
              "      <th>PT08.S3(NOx)</th>\n",
              "      <th>NO2(GT)</th>\n",
              "      <th>PT08.S4(NO2)</th>\n",
              "      <th>PT08.S5(O3)</th>\n",
              "      <th>T</th>\n",
              "      <th>RH</th>\n",
              "      <th>AH</th>\n",
              "    </tr>\n",
              "  </thead>\n",
              "  <tbody>\n",
              "    <tr>\n",
              "      <th>0</th>\n",
              "      <td>10-03-2004</td>\n",
              "      <td>18:00:00</td>\n",
              "      <td>2.6</td>\n",
              "      <td>1360.0</td>\n",
              "      <td>150.0</td>\n",
              "      <td>11.9</td>\n",
              "      <td>1046.0</td>\n",
              "      <td>166.0</td>\n",
              "      <td>1056.0</td>\n",
              "      <td>113.0</td>\n",
              "      <td>1692.0</td>\n",
              "      <td>1268.0</td>\n",
              "      <td>13.6</td>\n",
              "      <td>48.9</td>\n",
              "      <td>0.7578</td>\n",
              "    </tr>\n",
              "    <tr>\n",
              "      <th>1</th>\n",
              "      <td>10-03-2004</td>\n",
              "      <td>19:00:00</td>\n",
              "      <td>2.0</td>\n",
              "      <td>1292.0</td>\n",
              "      <td>112.0</td>\n",
              "      <td>9.4</td>\n",
              "      <td>955.0</td>\n",
              "      <td>103.0</td>\n",
              "      <td>1174.0</td>\n",
              "      <td>92.0</td>\n",
              "      <td>1559.0</td>\n",
              "      <td>972.0</td>\n",
              "      <td>13.3</td>\n",
              "      <td>47.7</td>\n",
              "      <td>0.7255</td>\n",
              "    </tr>\n",
              "    <tr>\n",
              "      <th>2</th>\n",
              "      <td>10-03-2004</td>\n",
              "      <td>20:00:00</td>\n",
              "      <td>2.2</td>\n",
              "      <td>1402.0</td>\n",
              "      <td>88.0</td>\n",
              "      <td>9.0</td>\n",
              "      <td>939.0</td>\n",
              "      <td>131.0</td>\n",
              "      <td>1140.0</td>\n",
              "      <td>114.0</td>\n",
              "      <td>1555.0</td>\n",
              "      <td>1074.0</td>\n",
              "      <td>11.9</td>\n",
              "      <td>54.0</td>\n",
              "      <td>0.7502</td>\n",
              "    </tr>\n",
              "    <tr>\n",
              "      <th>3</th>\n",
              "      <td>10-03-2004</td>\n",
              "      <td>21:00:00</td>\n",
              "      <td>2.2</td>\n",
              "      <td>1376.0</td>\n",
              "      <td>80.0</td>\n",
              "      <td>9.2</td>\n",
              "      <td>948.0</td>\n",
              "      <td>172.0</td>\n",
              "      <td>1092.0</td>\n",
              "      <td>122.0</td>\n",
              "      <td>1584.0</td>\n",
              "      <td>1203.0</td>\n",
              "      <td>11.0</td>\n",
              "      <td>60.0</td>\n",
              "      <td>0.7867</td>\n",
              "    </tr>\n",
              "    <tr>\n",
              "      <th>4</th>\n",
              "      <td>10-03-2004</td>\n",
              "      <td>22:00:00</td>\n",
              "      <td>1.6</td>\n",
              "      <td>1272.0</td>\n",
              "      <td>51.0</td>\n",
              "      <td>6.5</td>\n",
              "      <td>836.0</td>\n",
              "      <td>131.0</td>\n",
              "      <td>1205.0</td>\n",
              "      <td>116.0</td>\n",
              "      <td>1490.0</td>\n",
              "      <td>1110.0</td>\n",
              "      <td>11.2</td>\n",
              "      <td>59.6</td>\n",
              "      <td>0.7888</td>\n",
              "    </tr>\n",
              "  </tbody>\n",
              "</table>\n",
              "</div>\n",
              "      <button class=\"colab-df-convert\" onclick=\"convertToInteractive('df-68697e48-496e-47fe-9fda-f7480fc9ad72')\"\n",
              "              title=\"Convert this dataframe to an interactive table.\"\n",
              "              style=\"display:none;\">\n",
              "        \n",
              "  <svg xmlns=\"http://www.w3.org/2000/svg\" height=\"24px\"viewBox=\"0 0 24 24\"\n",
              "       width=\"24px\">\n",
              "    <path d=\"M0 0h24v24H0V0z\" fill=\"none\"/>\n",
              "    <path d=\"M18.56 5.44l.94 2.06.94-2.06 2.06-.94-2.06-.94-.94-2.06-.94 2.06-2.06.94zm-11 1L8.5 8.5l.94-2.06 2.06-.94-2.06-.94L8.5 2.5l-.94 2.06-2.06.94zm10 10l.94 2.06.94-2.06 2.06-.94-2.06-.94-.94-2.06-.94 2.06-2.06.94z\"/><path d=\"M17.41 7.96l-1.37-1.37c-.4-.4-.92-.59-1.43-.59-.52 0-1.04.2-1.43.59L10.3 9.45l-7.72 7.72c-.78.78-.78 2.05 0 2.83L4 21.41c.39.39.9.59 1.41.59.51 0 1.02-.2 1.41-.59l7.78-7.78 2.81-2.81c.8-.78.8-2.07 0-2.86zM5.41 20L4 18.59l7.72-7.72 1.47 1.35L5.41 20z\"/>\n",
              "  </svg>\n",
              "      </button>\n",
              "      \n",
              "  <style>\n",
              "    .colab-df-container {\n",
              "      display:flex;\n",
              "      flex-wrap:wrap;\n",
              "      gap: 12px;\n",
              "    }\n",
              "\n",
              "    .colab-df-convert {\n",
              "      background-color: #E8F0FE;\n",
              "      border: none;\n",
              "      border-radius: 50%;\n",
              "      cursor: pointer;\n",
              "      display: none;\n",
              "      fill: #1967D2;\n",
              "      height: 32px;\n",
              "      padding: 0 0 0 0;\n",
              "      width: 32px;\n",
              "    }\n",
              "\n",
              "    .colab-df-convert:hover {\n",
              "      background-color: #E2EBFA;\n",
              "      box-shadow: 0px 1px 2px rgba(60, 64, 67, 0.3), 0px 1px 3px 1px rgba(60, 64, 67, 0.15);\n",
              "      fill: #174EA6;\n",
              "    }\n",
              "\n",
              "    [theme=dark] .colab-df-convert {\n",
              "      background-color: #3B4455;\n",
              "      fill: #D2E3FC;\n",
              "    }\n",
              "\n",
              "    [theme=dark] .colab-df-convert:hover {\n",
              "      background-color: #434B5C;\n",
              "      box-shadow: 0px 1px 3px 1px rgba(0, 0, 0, 0.15);\n",
              "      filter: drop-shadow(0px 1px 2px rgba(0, 0, 0, 0.3));\n",
              "      fill: #FFFFFF;\n",
              "    }\n",
              "  </style>\n",
              "\n",
              "      <script>\n",
              "        const buttonEl =\n",
              "          document.querySelector('#df-68697e48-496e-47fe-9fda-f7480fc9ad72 button.colab-df-convert');\n",
              "        buttonEl.style.display =\n",
              "          google.colab.kernel.accessAllowed ? 'block' : 'none';\n",
              "\n",
              "        async function convertToInteractive(key) {\n",
              "          const element = document.querySelector('#df-68697e48-496e-47fe-9fda-f7480fc9ad72');\n",
              "          const dataTable =\n",
              "            await google.colab.kernel.invokeFunction('convertToInteractive',\n",
              "                                                     [key], {});\n",
              "          if (!dataTable) return;\n",
              "\n",
              "          const docLinkHtml = 'Like what you see? Visit the ' +\n",
              "            '<a target=\"_blank\" href=https://colab.research.google.com/notebooks/data_table.ipynb>data table notebook</a>'\n",
              "            + ' to learn more about interactive tables.';\n",
              "          element.innerHTML = '';\n",
              "          dataTable['output_type'] = 'display_data';\n",
              "          await google.colab.output.renderOutput(dataTable, element);\n",
              "          const docLink = document.createElement('div');\n",
              "          docLink.innerHTML = docLinkHtml;\n",
              "          element.appendChild(docLink);\n",
              "        }\n",
              "      </script>\n",
              "    </div>\n",
              "  </div>\n",
              "  "
            ]
          },
          "metadata": {},
          "execution_count": 7
        }
      ]
    },
    {
      "cell_type": "code",
      "source": [
        "from datetime import datetime\n",
        "Date= []\n",
        "for i in air_quality['Date']:\n",
        "    Date.append(datetime.strptime(i,'%d-%m-%Y'))\n",
        "air_quality.dtypes"
      ],
      "metadata": {
        "colab": {
          "base_uri": "https://localhost:8080/"
        },
        "id": "-d5MIvcDYROU",
        "outputId": "90ce64ca-58ea-45ca-a5a7-935eb37bb10d"
      },
      "execution_count": 8,
      "outputs": [
        {
          "output_type": "execute_result",
          "data": {
            "text/plain": [
              "Date              object\n",
              "Time              object\n",
              "CO(GT)           float64\n",
              "PT08.S1(CO)      float64\n",
              "NMHC(GT)         float64\n",
              "C6H6(GT)         float64\n",
              "PT08.S2(NMHC)    float64\n",
              "NOx(GT)          float64\n",
              "PT08.S3(NOx)     float64\n",
              "NO2(GT)          float64\n",
              "PT08.S4(NO2)     float64\n",
              "PT08.S5(O3)      float64\n",
              "T                float64\n",
              "RH               float64\n",
              "AH               float64\n",
              "dtype: object"
            ]
          },
          "metadata": {},
          "execution_count": 8
        }
      ]
    },
    {
      "cell_type": "code",
      "source": [
        "date=pd.Series(Date)\n",
        "air_quality['Date']=pd.to_numeric(date)"
      ],
      "metadata": {
        "id": "ZPF3PhzjYS05"
      },
      "execution_count": 9,
      "outputs": []
    },
    {
      "cell_type": "code",
      "source": [
        "air_quality['Date']=air_quality['Date'].astype(float)\n",
        "air_quality.dtypes\n"
      ],
      "metadata": {
        "colab": {
          "base_uri": "https://localhost:8080/"
        },
        "id": "Nz2WpiSLYWG6",
        "outputId": "aa914add-ccb8-430a-aa8c-4036b73a092d"
      },
      "execution_count": 10,
      "outputs": [
        {
          "output_type": "execute_result",
          "data": {
            "text/plain": [
              "Date             float64\n",
              "Time              object\n",
              "CO(GT)           float64\n",
              "PT08.S1(CO)      float64\n",
              "NMHC(GT)         float64\n",
              "C6H6(GT)         float64\n",
              "PT08.S2(NMHC)    float64\n",
              "NOx(GT)          float64\n",
              "PT08.S3(NOx)     float64\n",
              "NO2(GT)          float64\n",
              "PT08.S4(NO2)     float64\n",
              "PT08.S5(O3)      float64\n",
              "T                float64\n",
              "RH               float64\n",
              "AH               float64\n",
              "dtype: object"
            ]
          },
          "metadata": {},
          "execution_count": 10
        }
      ]
    },
    {
      "cell_type": "code",
      "source": [
        "air_quality.head()"
      ],
      "metadata": {
        "colab": {
          "base_uri": "https://localhost:8080/",
          "height": 270
        },
        "id": "R2RHO0vxYXxq",
        "outputId": "857ba4ff-918b-4447-f352-581ba305d92b"
      },
      "execution_count": 11,
      "outputs": [
        {
          "output_type": "execute_result",
          "data": {
            "text/plain": [
              "           Date      Time  CO(GT)  PT08.S1(CO)  NMHC(GT)  C6H6(GT)  \\\n",
              "0  1.078877e+18  18:00:00     2.6       1360.0     150.0      11.9   \n",
              "1  1.078877e+18  19:00:00     2.0       1292.0     112.0       9.4   \n",
              "2  1.078877e+18  20:00:00     2.2       1402.0      88.0       9.0   \n",
              "3  1.078877e+18  21:00:00     2.2       1376.0      80.0       9.2   \n",
              "4  1.078877e+18  22:00:00     1.6       1272.0      51.0       6.5   \n",
              "\n",
              "   PT08.S2(NMHC)  NOx(GT)  PT08.S3(NOx)  NO2(GT)  PT08.S4(NO2)  PT08.S5(O3)  \\\n",
              "0         1046.0    166.0        1056.0    113.0        1692.0       1268.0   \n",
              "1          955.0    103.0        1174.0     92.0        1559.0        972.0   \n",
              "2          939.0    131.0        1140.0    114.0        1555.0       1074.0   \n",
              "3          948.0    172.0        1092.0    122.0        1584.0       1203.0   \n",
              "4          836.0    131.0        1205.0    116.0        1490.0       1110.0   \n",
              "\n",
              "      T    RH      AH  \n",
              "0  13.6  48.9  0.7578  \n",
              "1  13.3  47.7  0.7255  \n",
              "2  11.9  54.0  0.7502  \n",
              "3  11.0  60.0  0.7867  \n",
              "4  11.2  59.6  0.7888  "
            ],
            "text/html": [
              "\n",
              "  <div id=\"df-c789cdef-2d5b-42bb-9c74-447c9cb7d470\">\n",
              "    <div class=\"colab-df-container\">\n",
              "      <div>\n",
              "<style scoped>\n",
              "    .dataframe tbody tr th:only-of-type {\n",
              "        vertical-align: middle;\n",
              "    }\n",
              "\n",
              "    .dataframe tbody tr th {\n",
              "        vertical-align: top;\n",
              "    }\n",
              "\n",
              "    .dataframe thead th {\n",
              "        text-align: right;\n",
              "    }\n",
              "</style>\n",
              "<table border=\"1\" class=\"dataframe\">\n",
              "  <thead>\n",
              "    <tr style=\"text-align: right;\">\n",
              "      <th></th>\n",
              "      <th>Date</th>\n",
              "      <th>Time</th>\n",
              "      <th>CO(GT)</th>\n",
              "      <th>PT08.S1(CO)</th>\n",
              "      <th>NMHC(GT)</th>\n",
              "      <th>C6H6(GT)</th>\n",
              "      <th>PT08.S2(NMHC)</th>\n",
              "      <th>NOx(GT)</th>\n",
              "      <th>PT08.S3(NOx)</th>\n",
              "      <th>NO2(GT)</th>\n",
              "      <th>PT08.S4(NO2)</th>\n",
              "      <th>PT08.S5(O3)</th>\n",
              "      <th>T</th>\n",
              "      <th>RH</th>\n",
              "      <th>AH</th>\n",
              "    </tr>\n",
              "  </thead>\n",
              "  <tbody>\n",
              "    <tr>\n",
              "      <th>0</th>\n",
              "      <td>1.078877e+18</td>\n",
              "      <td>18:00:00</td>\n",
              "      <td>2.6</td>\n",
              "      <td>1360.0</td>\n",
              "      <td>150.0</td>\n",
              "      <td>11.9</td>\n",
              "      <td>1046.0</td>\n",
              "      <td>166.0</td>\n",
              "      <td>1056.0</td>\n",
              "      <td>113.0</td>\n",
              "      <td>1692.0</td>\n",
              "      <td>1268.0</td>\n",
              "      <td>13.6</td>\n",
              "      <td>48.9</td>\n",
              "      <td>0.7578</td>\n",
              "    </tr>\n",
              "    <tr>\n",
              "      <th>1</th>\n",
              "      <td>1.078877e+18</td>\n",
              "      <td>19:00:00</td>\n",
              "      <td>2.0</td>\n",
              "      <td>1292.0</td>\n",
              "      <td>112.0</td>\n",
              "      <td>9.4</td>\n",
              "      <td>955.0</td>\n",
              "      <td>103.0</td>\n",
              "      <td>1174.0</td>\n",
              "      <td>92.0</td>\n",
              "      <td>1559.0</td>\n",
              "      <td>972.0</td>\n",
              "      <td>13.3</td>\n",
              "      <td>47.7</td>\n",
              "      <td>0.7255</td>\n",
              "    </tr>\n",
              "    <tr>\n",
              "      <th>2</th>\n",
              "      <td>1.078877e+18</td>\n",
              "      <td>20:00:00</td>\n",
              "      <td>2.2</td>\n",
              "      <td>1402.0</td>\n",
              "      <td>88.0</td>\n",
              "      <td>9.0</td>\n",
              "      <td>939.0</td>\n",
              "      <td>131.0</td>\n",
              "      <td>1140.0</td>\n",
              "      <td>114.0</td>\n",
              "      <td>1555.0</td>\n",
              "      <td>1074.0</td>\n",
              "      <td>11.9</td>\n",
              "      <td>54.0</td>\n",
              "      <td>0.7502</td>\n",
              "    </tr>\n",
              "    <tr>\n",
              "      <th>3</th>\n",
              "      <td>1.078877e+18</td>\n",
              "      <td>21:00:00</td>\n",
              "      <td>2.2</td>\n",
              "      <td>1376.0</td>\n",
              "      <td>80.0</td>\n",
              "      <td>9.2</td>\n",
              "      <td>948.0</td>\n",
              "      <td>172.0</td>\n",
              "      <td>1092.0</td>\n",
              "      <td>122.0</td>\n",
              "      <td>1584.0</td>\n",
              "      <td>1203.0</td>\n",
              "      <td>11.0</td>\n",
              "      <td>60.0</td>\n",
              "      <td>0.7867</td>\n",
              "    </tr>\n",
              "    <tr>\n",
              "      <th>4</th>\n",
              "      <td>1.078877e+18</td>\n",
              "      <td>22:00:00</td>\n",
              "      <td>1.6</td>\n",
              "      <td>1272.0</td>\n",
              "      <td>51.0</td>\n",
              "      <td>6.5</td>\n",
              "      <td>836.0</td>\n",
              "      <td>131.0</td>\n",
              "      <td>1205.0</td>\n",
              "      <td>116.0</td>\n",
              "      <td>1490.0</td>\n",
              "      <td>1110.0</td>\n",
              "      <td>11.2</td>\n",
              "      <td>59.6</td>\n",
              "      <td>0.7888</td>\n",
              "    </tr>\n",
              "  </tbody>\n",
              "</table>\n",
              "</div>\n",
              "      <button class=\"colab-df-convert\" onclick=\"convertToInteractive('df-c789cdef-2d5b-42bb-9c74-447c9cb7d470')\"\n",
              "              title=\"Convert this dataframe to an interactive table.\"\n",
              "              style=\"display:none;\">\n",
              "        \n",
              "  <svg xmlns=\"http://www.w3.org/2000/svg\" height=\"24px\"viewBox=\"0 0 24 24\"\n",
              "       width=\"24px\">\n",
              "    <path d=\"M0 0h24v24H0V0z\" fill=\"none\"/>\n",
              "    <path d=\"M18.56 5.44l.94 2.06.94-2.06 2.06-.94-2.06-.94-.94-2.06-.94 2.06-2.06.94zm-11 1L8.5 8.5l.94-2.06 2.06-.94-2.06-.94L8.5 2.5l-.94 2.06-2.06.94zm10 10l.94 2.06.94-2.06 2.06-.94-2.06-.94-.94-2.06-.94 2.06-2.06.94z\"/><path d=\"M17.41 7.96l-1.37-1.37c-.4-.4-.92-.59-1.43-.59-.52 0-1.04.2-1.43.59L10.3 9.45l-7.72 7.72c-.78.78-.78 2.05 0 2.83L4 21.41c.39.39.9.59 1.41.59.51 0 1.02-.2 1.41-.59l7.78-7.78 2.81-2.81c.8-.78.8-2.07 0-2.86zM5.41 20L4 18.59l7.72-7.72 1.47 1.35L5.41 20z\"/>\n",
              "  </svg>\n",
              "      </button>\n",
              "      \n",
              "  <style>\n",
              "    .colab-df-container {\n",
              "      display:flex;\n",
              "      flex-wrap:wrap;\n",
              "      gap: 12px;\n",
              "    }\n",
              "\n",
              "    .colab-df-convert {\n",
              "      background-color: #E8F0FE;\n",
              "      border: none;\n",
              "      border-radius: 50%;\n",
              "      cursor: pointer;\n",
              "      display: none;\n",
              "      fill: #1967D2;\n",
              "      height: 32px;\n",
              "      padding: 0 0 0 0;\n",
              "      width: 32px;\n",
              "    }\n",
              "\n",
              "    .colab-df-convert:hover {\n",
              "      background-color: #E2EBFA;\n",
              "      box-shadow: 0px 1px 2px rgba(60, 64, 67, 0.3), 0px 1px 3px 1px rgba(60, 64, 67, 0.15);\n",
              "      fill: #174EA6;\n",
              "    }\n",
              "\n",
              "    [theme=dark] .colab-df-convert {\n",
              "      background-color: #3B4455;\n",
              "      fill: #D2E3FC;\n",
              "    }\n",
              "\n",
              "    [theme=dark] .colab-df-convert:hover {\n",
              "      background-color: #434B5C;\n",
              "      box-shadow: 0px 1px 3px 1px rgba(0, 0, 0, 0.15);\n",
              "      filter: drop-shadow(0px 1px 2px rgba(0, 0, 0, 0.3));\n",
              "      fill: #FFFFFF;\n",
              "    }\n",
              "  </style>\n",
              "\n",
              "      <script>\n",
              "        const buttonEl =\n",
              "          document.querySelector('#df-c789cdef-2d5b-42bb-9c74-447c9cb7d470 button.colab-df-convert');\n",
              "        buttonEl.style.display =\n",
              "          google.colab.kernel.accessAllowed ? 'block' : 'none';\n",
              "\n",
              "        async function convertToInteractive(key) {\n",
              "          const element = document.querySelector('#df-c789cdef-2d5b-42bb-9c74-447c9cb7d470');\n",
              "          const dataTable =\n",
              "            await google.colab.kernel.invokeFunction('convertToInteractive',\n",
              "                                                     [key], {});\n",
              "          if (!dataTable) return;\n",
              "\n",
              "          const docLinkHtml = 'Like what you see? Visit the ' +\n",
              "            '<a target=\"_blank\" href=https://colab.research.google.com/notebooks/data_table.ipynb>data table notebook</a>'\n",
              "            + ' to learn more about interactive tables.';\n",
              "          element.innerHTML = '';\n",
              "          dataTable['output_type'] = 'display_data';\n",
              "          await google.colab.output.renderOutput(dataTable, element);\n",
              "          const docLink = document.createElement('div');\n",
              "          docLink.innerHTML = docLinkHtml;\n",
              "          element.appendChild(docLink);\n",
              "        }\n",
              "      </script>\n",
              "    </div>\n",
              "  </div>\n",
              "  "
            ]
          },
          "metadata": {},
          "execution_count": 11
        }
      ]
    },
    {
      "cell_type": "code",
      "source": [
        "air_quality.loc[:,'Time']=air_quality['Time']"
      ],
      "metadata": {
        "id": "1e-bql1AYaCj"
      },
      "execution_count": 12,
      "outputs": []
    },
    {
      "cell_type": "code",
      "source": [
        "from datetime import datetime\n",
        "Time= []\n",
        "for i in air_quality['Time']:\n",
        "    Time.append(datetime.strptime(i,'%H:%M:%S'))\n",
        "air_quality.dtypes"
      ],
      "metadata": {
        "colab": {
          "base_uri": "https://localhost:8080/"
        },
        "id": "HQkezh2oYcsS",
        "outputId": "50aeba9d-3a7a-4849-8798-af035c03eded"
      },
      "execution_count": 13,
      "outputs": [
        {
          "output_type": "execute_result",
          "data": {
            "text/plain": [
              "Date             float64\n",
              "Time              object\n",
              "CO(GT)           float64\n",
              "PT08.S1(CO)      float64\n",
              "NMHC(GT)         float64\n",
              "C6H6(GT)         float64\n",
              "PT08.S2(NMHC)    float64\n",
              "NOx(GT)          float64\n",
              "PT08.S3(NOx)     float64\n",
              "NO2(GT)          float64\n",
              "PT08.S4(NO2)     float64\n",
              "PT08.S5(O3)      float64\n",
              "T                float64\n",
              "RH               float64\n",
              "AH               float64\n",
              "dtype: object"
            ]
          },
          "metadata": {},
          "execution_count": 13
        }
      ]
    },
    {
      "cell_type": "code",
      "source": [
        "time=pd.Series(Time)\n",
        "air_quality['Time']=pd.to_numeric(time)"
      ],
      "metadata": {
        "id": "c4mrHKddYeRo"
      },
      "execution_count": 14,
      "outputs": []
    },
    {
      "cell_type": "code",
      "source": [
        "air_quality['Time']=air_quality['Time'].astype(float)\n",
        "air_quality.dtypes"
      ],
      "metadata": {
        "colab": {
          "base_uri": "https://localhost:8080/"
        },
        "id": "8bgQPbONYf9c",
        "outputId": "9cc3812a-014c-4470-9db9-80c9d2edff10"
      },
      "execution_count": 15,
      "outputs": [
        {
          "output_type": "execute_result",
          "data": {
            "text/plain": [
              "Date             float64\n",
              "Time             float64\n",
              "CO(GT)           float64\n",
              "PT08.S1(CO)      float64\n",
              "NMHC(GT)         float64\n",
              "C6H6(GT)         float64\n",
              "PT08.S2(NMHC)    float64\n",
              "NOx(GT)          float64\n",
              "PT08.S3(NOx)     float64\n",
              "NO2(GT)          float64\n",
              "PT08.S4(NO2)     float64\n",
              "PT08.S5(O3)      float64\n",
              "T                float64\n",
              "RH               float64\n",
              "AH               float64\n",
              "dtype: object"
            ]
          },
          "metadata": {},
          "execution_count": 15
        }
      ]
    },
    {
      "cell_type": "code",
      "source": [
        "air_quality"
      ],
      "metadata": {
        "colab": {
          "base_uri": "https://localhost:8080/",
          "height": 488
        },
        "id": "fuUllE5EYiON",
        "outputId": "a87b27d8-d4dc-4078-dc24-f7ecc68186a5"
      },
      "execution_count": 16,
      "outputs": [
        {
          "output_type": "execute_result",
          "data": {
            "text/plain": [
              "             Date          Time  CO(GT)  PT08.S1(CO)  NMHC(GT)  C6H6(GT)  \\\n",
              "0    1.078877e+18 -2.208924e+18     2.6       1360.0     150.0      11.9   \n",
              "1    1.078877e+18 -2.208920e+18     2.0       1292.0     112.0       9.4   \n",
              "2    1.078877e+18 -2.208917e+18     2.2       1402.0      88.0       9.0   \n",
              "3    1.078877e+18 -2.208913e+18     2.2       1376.0      80.0       9.2   \n",
              "4    1.078877e+18 -2.208910e+18     1.6       1272.0      51.0       6.5   \n",
              "..            ...           ...     ...          ...       ...       ...   \n",
              "695  1.081382e+18 -2.208928e+18     3.6       1297.0     538.0      19.7   \n",
              "696  1.081382e+18 -2.208924e+18     4.6       1408.0     808.0      24.0   \n",
              "697  1.081382e+18 -2.208920e+18     6.3       1618.0     974.0      29.1   \n",
              "698  1.081382e+18 -2.208917e+18     4.3       1319.0     544.0      15.8   \n",
              "699  1.081382e+18 -2.208913e+18     1.6       1045.0     138.0       7.0   \n",
              "\n",
              "     PT08.S2(NMHC)  NOx(GT)  PT08.S3(NOx)  NO2(GT)  PT08.S4(NO2)  PT08.S5(O3)  \\\n",
              "0           1046.0    166.0        1056.0    113.0        1692.0       1268.0   \n",
              "1            955.0    103.0        1174.0     92.0        1559.0        972.0   \n",
              "2            939.0    131.0        1140.0    114.0        1555.0       1074.0   \n",
              "3            948.0    172.0        1092.0    122.0        1584.0       1203.0   \n",
              "4            836.0    131.0        1205.0    116.0        1490.0       1110.0   \n",
              "..             ...      ...           ...      ...           ...          ...   \n",
              "695         1287.0    192.0         723.0    138.0        1798.0       1216.0   \n",
              "696         1404.0    241.0         646.0    154.0        1972.0       1463.0   \n",
              "697         1530.0    326.0         579.0    171.0        2167.0       1791.0   \n",
              "698         1172.0    232.0         746.0    136.0        1699.0       1425.0   \n",
              "699          857.0     92.0         968.0     93.0        1410.0        922.0   \n",
              "\n",
              "        T    RH      AH  \n",
              "0    13.6  48.9  0.7578  \n",
              "1    13.3  47.7  0.7255  \n",
              "2    11.9  54.0  0.7502  \n",
              "3    11.0  60.0  0.7867  \n",
              "4    11.2  59.6  0.7888  \n",
              "..    ...   ...     ...  \n",
              "695  21.5  24.5  0.6203  \n",
              "696  19.3  28.6  0.6357  \n",
              "697  18.0  32.9  0.6737  \n",
              "698  15.8  39.8  0.7096  \n",
              "699  15.3  41.5  0.7194  \n",
              "\n",
              "[700 rows x 15 columns]"
            ],
            "text/html": [
              "\n",
              "  <div id=\"df-2d14a5c3-a8a9-4f34-b484-1262ee073f1c\">\n",
              "    <div class=\"colab-df-container\">\n",
              "      <div>\n",
              "<style scoped>\n",
              "    .dataframe tbody tr th:only-of-type {\n",
              "        vertical-align: middle;\n",
              "    }\n",
              "\n",
              "    .dataframe tbody tr th {\n",
              "        vertical-align: top;\n",
              "    }\n",
              "\n",
              "    .dataframe thead th {\n",
              "        text-align: right;\n",
              "    }\n",
              "</style>\n",
              "<table border=\"1\" class=\"dataframe\">\n",
              "  <thead>\n",
              "    <tr style=\"text-align: right;\">\n",
              "      <th></th>\n",
              "      <th>Date</th>\n",
              "      <th>Time</th>\n",
              "      <th>CO(GT)</th>\n",
              "      <th>PT08.S1(CO)</th>\n",
              "      <th>NMHC(GT)</th>\n",
              "      <th>C6H6(GT)</th>\n",
              "      <th>PT08.S2(NMHC)</th>\n",
              "      <th>NOx(GT)</th>\n",
              "      <th>PT08.S3(NOx)</th>\n",
              "      <th>NO2(GT)</th>\n",
              "      <th>PT08.S4(NO2)</th>\n",
              "      <th>PT08.S5(O3)</th>\n",
              "      <th>T</th>\n",
              "      <th>RH</th>\n",
              "      <th>AH</th>\n",
              "    </tr>\n",
              "  </thead>\n",
              "  <tbody>\n",
              "    <tr>\n",
              "      <th>0</th>\n",
              "      <td>1.078877e+18</td>\n",
              "      <td>-2.208924e+18</td>\n",
              "      <td>2.6</td>\n",
              "      <td>1360.0</td>\n",
              "      <td>150.0</td>\n",
              "      <td>11.9</td>\n",
              "      <td>1046.0</td>\n",
              "      <td>166.0</td>\n",
              "      <td>1056.0</td>\n",
              "      <td>113.0</td>\n",
              "      <td>1692.0</td>\n",
              "      <td>1268.0</td>\n",
              "      <td>13.6</td>\n",
              "      <td>48.9</td>\n",
              "      <td>0.7578</td>\n",
              "    </tr>\n",
              "    <tr>\n",
              "      <th>1</th>\n",
              "      <td>1.078877e+18</td>\n",
              "      <td>-2.208920e+18</td>\n",
              "      <td>2.0</td>\n",
              "      <td>1292.0</td>\n",
              "      <td>112.0</td>\n",
              "      <td>9.4</td>\n",
              "      <td>955.0</td>\n",
              "      <td>103.0</td>\n",
              "      <td>1174.0</td>\n",
              "      <td>92.0</td>\n",
              "      <td>1559.0</td>\n",
              "      <td>972.0</td>\n",
              "      <td>13.3</td>\n",
              "      <td>47.7</td>\n",
              "      <td>0.7255</td>\n",
              "    </tr>\n",
              "    <tr>\n",
              "      <th>2</th>\n",
              "      <td>1.078877e+18</td>\n",
              "      <td>-2.208917e+18</td>\n",
              "      <td>2.2</td>\n",
              "      <td>1402.0</td>\n",
              "      <td>88.0</td>\n",
              "      <td>9.0</td>\n",
              "      <td>939.0</td>\n",
              "      <td>131.0</td>\n",
              "      <td>1140.0</td>\n",
              "      <td>114.0</td>\n",
              "      <td>1555.0</td>\n",
              "      <td>1074.0</td>\n",
              "      <td>11.9</td>\n",
              "      <td>54.0</td>\n",
              "      <td>0.7502</td>\n",
              "    </tr>\n",
              "    <tr>\n",
              "      <th>3</th>\n",
              "      <td>1.078877e+18</td>\n",
              "      <td>-2.208913e+18</td>\n",
              "      <td>2.2</td>\n",
              "      <td>1376.0</td>\n",
              "      <td>80.0</td>\n",
              "      <td>9.2</td>\n",
              "      <td>948.0</td>\n",
              "      <td>172.0</td>\n",
              "      <td>1092.0</td>\n",
              "      <td>122.0</td>\n",
              "      <td>1584.0</td>\n",
              "      <td>1203.0</td>\n",
              "      <td>11.0</td>\n",
              "      <td>60.0</td>\n",
              "      <td>0.7867</td>\n",
              "    </tr>\n",
              "    <tr>\n",
              "      <th>4</th>\n",
              "      <td>1.078877e+18</td>\n",
              "      <td>-2.208910e+18</td>\n",
              "      <td>1.6</td>\n",
              "      <td>1272.0</td>\n",
              "      <td>51.0</td>\n",
              "      <td>6.5</td>\n",
              "      <td>836.0</td>\n",
              "      <td>131.0</td>\n",
              "      <td>1205.0</td>\n",
              "      <td>116.0</td>\n",
              "      <td>1490.0</td>\n",
              "      <td>1110.0</td>\n",
              "      <td>11.2</td>\n",
              "      <td>59.6</td>\n",
              "      <td>0.7888</td>\n",
              "    </tr>\n",
              "    <tr>\n",
              "      <th>...</th>\n",
              "      <td>...</td>\n",
              "      <td>...</td>\n",
              "      <td>...</td>\n",
              "      <td>...</td>\n",
              "      <td>...</td>\n",
              "      <td>...</td>\n",
              "      <td>...</td>\n",
              "      <td>...</td>\n",
              "      <td>...</td>\n",
              "      <td>...</td>\n",
              "      <td>...</td>\n",
              "      <td>...</td>\n",
              "      <td>...</td>\n",
              "      <td>...</td>\n",
              "      <td>...</td>\n",
              "    </tr>\n",
              "    <tr>\n",
              "      <th>695</th>\n",
              "      <td>1.081382e+18</td>\n",
              "      <td>-2.208928e+18</td>\n",
              "      <td>3.6</td>\n",
              "      <td>1297.0</td>\n",
              "      <td>538.0</td>\n",
              "      <td>19.7</td>\n",
              "      <td>1287.0</td>\n",
              "      <td>192.0</td>\n",
              "      <td>723.0</td>\n",
              "      <td>138.0</td>\n",
              "      <td>1798.0</td>\n",
              "      <td>1216.0</td>\n",
              "      <td>21.5</td>\n",
              "      <td>24.5</td>\n",
              "      <td>0.6203</td>\n",
              "    </tr>\n",
              "    <tr>\n",
              "      <th>696</th>\n",
              "      <td>1.081382e+18</td>\n",
              "      <td>-2.208924e+18</td>\n",
              "      <td>4.6</td>\n",
              "      <td>1408.0</td>\n",
              "      <td>808.0</td>\n",
              "      <td>24.0</td>\n",
              "      <td>1404.0</td>\n",
              "      <td>241.0</td>\n",
              "      <td>646.0</td>\n",
              "      <td>154.0</td>\n",
              "      <td>1972.0</td>\n",
              "      <td>1463.0</td>\n",
              "      <td>19.3</td>\n",
              "      <td>28.6</td>\n",
              "      <td>0.6357</td>\n",
              "    </tr>\n",
              "    <tr>\n",
              "      <th>697</th>\n",
              "      <td>1.081382e+18</td>\n",
              "      <td>-2.208920e+18</td>\n",
              "      <td>6.3</td>\n",
              "      <td>1618.0</td>\n",
              "      <td>974.0</td>\n",
              "      <td>29.1</td>\n",
              "      <td>1530.0</td>\n",
              "      <td>326.0</td>\n",
              "      <td>579.0</td>\n",
              "      <td>171.0</td>\n",
              "      <td>2167.0</td>\n",
              "      <td>1791.0</td>\n",
              "      <td>18.0</td>\n",
              "      <td>32.9</td>\n",
              "      <td>0.6737</td>\n",
              "    </tr>\n",
              "    <tr>\n",
              "      <th>698</th>\n",
              "      <td>1.081382e+18</td>\n",
              "      <td>-2.208917e+18</td>\n",
              "      <td>4.3</td>\n",
              "      <td>1319.0</td>\n",
              "      <td>544.0</td>\n",
              "      <td>15.8</td>\n",
              "      <td>1172.0</td>\n",
              "      <td>232.0</td>\n",
              "      <td>746.0</td>\n",
              "      <td>136.0</td>\n",
              "      <td>1699.0</td>\n",
              "      <td>1425.0</td>\n",
              "      <td>15.8</td>\n",
              "      <td>39.8</td>\n",
              "      <td>0.7096</td>\n",
              "    </tr>\n",
              "    <tr>\n",
              "      <th>699</th>\n",
              "      <td>1.081382e+18</td>\n",
              "      <td>-2.208913e+18</td>\n",
              "      <td>1.6</td>\n",
              "      <td>1045.0</td>\n",
              "      <td>138.0</td>\n",
              "      <td>7.0</td>\n",
              "      <td>857.0</td>\n",
              "      <td>92.0</td>\n",
              "      <td>968.0</td>\n",
              "      <td>93.0</td>\n",
              "      <td>1410.0</td>\n",
              "      <td>922.0</td>\n",
              "      <td>15.3</td>\n",
              "      <td>41.5</td>\n",
              "      <td>0.7194</td>\n",
              "    </tr>\n",
              "  </tbody>\n",
              "</table>\n",
              "<p>700 rows × 15 columns</p>\n",
              "</div>\n",
              "      <button class=\"colab-df-convert\" onclick=\"convertToInteractive('df-2d14a5c3-a8a9-4f34-b484-1262ee073f1c')\"\n",
              "              title=\"Convert this dataframe to an interactive table.\"\n",
              "              style=\"display:none;\">\n",
              "        \n",
              "  <svg xmlns=\"http://www.w3.org/2000/svg\" height=\"24px\"viewBox=\"0 0 24 24\"\n",
              "       width=\"24px\">\n",
              "    <path d=\"M0 0h24v24H0V0z\" fill=\"none\"/>\n",
              "    <path d=\"M18.56 5.44l.94 2.06.94-2.06 2.06-.94-2.06-.94-.94-2.06-.94 2.06-2.06.94zm-11 1L8.5 8.5l.94-2.06 2.06-.94-2.06-.94L8.5 2.5l-.94 2.06-2.06.94zm10 10l.94 2.06.94-2.06 2.06-.94-2.06-.94-.94-2.06-.94 2.06-2.06.94z\"/><path d=\"M17.41 7.96l-1.37-1.37c-.4-.4-.92-.59-1.43-.59-.52 0-1.04.2-1.43.59L10.3 9.45l-7.72 7.72c-.78.78-.78 2.05 0 2.83L4 21.41c.39.39.9.59 1.41.59.51 0 1.02-.2 1.41-.59l7.78-7.78 2.81-2.81c.8-.78.8-2.07 0-2.86zM5.41 20L4 18.59l7.72-7.72 1.47 1.35L5.41 20z\"/>\n",
              "  </svg>\n",
              "      </button>\n",
              "      \n",
              "  <style>\n",
              "    .colab-df-container {\n",
              "      display:flex;\n",
              "      flex-wrap:wrap;\n",
              "      gap: 12px;\n",
              "    }\n",
              "\n",
              "    .colab-df-convert {\n",
              "      background-color: #E8F0FE;\n",
              "      border: none;\n",
              "      border-radius: 50%;\n",
              "      cursor: pointer;\n",
              "      display: none;\n",
              "      fill: #1967D2;\n",
              "      height: 32px;\n",
              "      padding: 0 0 0 0;\n",
              "      width: 32px;\n",
              "    }\n",
              "\n",
              "    .colab-df-convert:hover {\n",
              "      background-color: #E2EBFA;\n",
              "      box-shadow: 0px 1px 2px rgba(60, 64, 67, 0.3), 0px 1px 3px 1px rgba(60, 64, 67, 0.15);\n",
              "      fill: #174EA6;\n",
              "    }\n",
              "\n",
              "    [theme=dark] .colab-df-convert {\n",
              "      background-color: #3B4455;\n",
              "      fill: #D2E3FC;\n",
              "    }\n",
              "\n",
              "    [theme=dark] .colab-df-convert:hover {\n",
              "      background-color: #434B5C;\n",
              "      box-shadow: 0px 1px 3px 1px rgba(0, 0, 0, 0.15);\n",
              "      filter: drop-shadow(0px 1px 2px rgba(0, 0, 0, 0.3));\n",
              "      fill: #FFFFFF;\n",
              "    }\n",
              "  </style>\n",
              "\n",
              "      <script>\n",
              "        const buttonEl =\n",
              "          document.querySelector('#df-2d14a5c3-a8a9-4f34-b484-1262ee073f1c button.colab-df-convert');\n",
              "        buttonEl.style.display =\n",
              "          google.colab.kernel.accessAllowed ? 'block' : 'none';\n",
              "\n",
              "        async function convertToInteractive(key) {\n",
              "          const element = document.querySelector('#df-2d14a5c3-a8a9-4f34-b484-1262ee073f1c');\n",
              "          const dataTable =\n",
              "            await google.colab.kernel.invokeFunction('convertToInteractive',\n",
              "                                                     [key], {});\n",
              "          if (!dataTable) return;\n",
              "\n",
              "          const docLinkHtml = 'Like what you see? Visit the ' +\n",
              "            '<a target=\"_blank\" href=https://colab.research.google.com/notebooks/data_table.ipynb>data table notebook</a>'\n",
              "            + ' to learn more about interactive tables.';\n",
              "          element.innerHTML = '';\n",
              "          dataTable['output_type'] = 'display_data';\n",
              "          await google.colab.output.renderOutput(dataTable, element);\n",
              "          const docLink = document.createElement('div');\n",
              "          docLink.innerHTML = docLinkHtml;\n",
              "          element.appendChild(docLink);\n",
              "        }\n",
              "      </script>\n",
              "    </div>\n",
              "  </div>\n",
              "  "
            ]
          },
          "metadata": {},
          "execution_count": 16
        }
      ]
    },
    {
      "cell_type": "code",
      "source": [
        "from sklearn.preprocessing import MinMaxScaler\n",
        "num = air_quality.keys()\n",
        "scaler = MinMaxScaler()\n",
        "scaler.fit(air_quality[num])\n",
        "air_quality[num] = scaler.transform(air_quality[num])"
      ],
      "metadata": {
        "id": "XdrKUWpUYl36"
      },
      "execution_count": 17,
      "outputs": []
    },
    {
      "cell_type": "code",
      "source": [
        "air_quality.head()"
      ],
      "metadata": {
        "colab": {
          "base_uri": "https://localhost:8080/",
          "height": 270
        },
        "id": "AwlUpt9RYnqs",
        "outputId": "1373081d-9a91-426b-ee71-79c84a001ff4"
      },
      "execution_count": 18,
      "outputs": [
        {
          "output_type": "execute_result",
          "data": {
            "text/plain": [
              "   Date      Time    CO(GT)  PT08.S1(CO)  NMHC(GT)  C6H6(GT)  PT08.S2(NMHC)  \\\n",
              "0   0.0  0.782609  0.294872     0.451170  0.132776  0.292746       0.454125   \n",
              "1   0.0  0.826087  0.217949     0.396287  0.097493  0.227979       0.383963   \n",
              "2   0.0  0.869565  0.243590     0.485069  0.075209  0.217617       0.371627   \n",
              "3   0.0  0.913043  0.243590     0.464084  0.067781  0.222798       0.378566   \n",
              "4   0.0  0.956522  0.166667     0.380145  0.040854  0.152850       0.292213   \n",
              "\n",
              "    NOx(GT)  PT08.S3(NOx)   NO2(GT)  PT08.S4(NO2)  PT08.S5(O3)         T  \\\n",
              "0  0.330472      0.390007  0.537143      0.394107     0.464934  0.323276   \n",
              "1  0.195279      0.471895  0.417143      0.312462     0.319765  0.310345   \n",
              "2  0.255365      0.448300  0.542857      0.310006     0.369789  0.250000   \n",
              "3  0.343348      0.414990  0.588571      0.327808     0.433055  0.211207   \n",
              "4  0.255365      0.493407  0.554286      0.270104     0.387445  0.219828   \n",
              "\n",
              "         RH        AH  \n",
              "0  0.497804  0.513580  \n",
              "1  0.480234  0.466917  \n",
              "2  0.572474  0.502600  \n",
              "3  0.660322  0.555331  \n",
              "4  0.654466  0.558365  "
            ],
            "text/html": [
              "\n",
              "  <div id=\"df-36dc1666-787c-4b90-b2d3-16144c4fc417\">\n",
              "    <div class=\"colab-df-container\">\n",
              "      <div>\n",
              "<style scoped>\n",
              "    .dataframe tbody tr th:only-of-type {\n",
              "        vertical-align: middle;\n",
              "    }\n",
              "\n",
              "    .dataframe tbody tr th {\n",
              "        vertical-align: top;\n",
              "    }\n",
              "\n",
              "    .dataframe thead th {\n",
              "        text-align: right;\n",
              "    }\n",
              "</style>\n",
              "<table border=\"1\" class=\"dataframe\">\n",
              "  <thead>\n",
              "    <tr style=\"text-align: right;\">\n",
              "      <th></th>\n",
              "      <th>Date</th>\n",
              "      <th>Time</th>\n",
              "      <th>CO(GT)</th>\n",
              "      <th>PT08.S1(CO)</th>\n",
              "      <th>NMHC(GT)</th>\n",
              "      <th>C6H6(GT)</th>\n",
              "      <th>PT08.S2(NMHC)</th>\n",
              "      <th>NOx(GT)</th>\n",
              "      <th>PT08.S3(NOx)</th>\n",
              "      <th>NO2(GT)</th>\n",
              "      <th>PT08.S4(NO2)</th>\n",
              "      <th>PT08.S5(O3)</th>\n",
              "      <th>T</th>\n",
              "      <th>RH</th>\n",
              "      <th>AH</th>\n",
              "    </tr>\n",
              "  </thead>\n",
              "  <tbody>\n",
              "    <tr>\n",
              "      <th>0</th>\n",
              "      <td>0.0</td>\n",
              "      <td>0.782609</td>\n",
              "      <td>0.294872</td>\n",
              "      <td>0.451170</td>\n",
              "      <td>0.132776</td>\n",
              "      <td>0.292746</td>\n",
              "      <td>0.454125</td>\n",
              "      <td>0.330472</td>\n",
              "      <td>0.390007</td>\n",
              "      <td>0.537143</td>\n",
              "      <td>0.394107</td>\n",
              "      <td>0.464934</td>\n",
              "      <td>0.323276</td>\n",
              "      <td>0.497804</td>\n",
              "      <td>0.513580</td>\n",
              "    </tr>\n",
              "    <tr>\n",
              "      <th>1</th>\n",
              "      <td>0.0</td>\n",
              "      <td>0.826087</td>\n",
              "      <td>0.217949</td>\n",
              "      <td>0.396287</td>\n",
              "      <td>0.097493</td>\n",
              "      <td>0.227979</td>\n",
              "      <td>0.383963</td>\n",
              "      <td>0.195279</td>\n",
              "      <td>0.471895</td>\n",
              "      <td>0.417143</td>\n",
              "      <td>0.312462</td>\n",
              "      <td>0.319765</td>\n",
              "      <td>0.310345</td>\n",
              "      <td>0.480234</td>\n",
              "      <td>0.466917</td>\n",
              "    </tr>\n",
              "    <tr>\n",
              "      <th>2</th>\n",
              "      <td>0.0</td>\n",
              "      <td>0.869565</td>\n",
              "      <td>0.243590</td>\n",
              "      <td>0.485069</td>\n",
              "      <td>0.075209</td>\n",
              "      <td>0.217617</td>\n",
              "      <td>0.371627</td>\n",
              "      <td>0.255365</td>\n",
              "      <td>0.448300</td>\n",
              "      <td>0.542857</td>\n",
              "      <td>0.310006</td>\n",
              "      <td>0.369789</td>\n",
              "      <td>0.250000</td>\n",
              "      <td>0.572474</td>\n",
              "      <td>0.502600</td>\n",
              "    </tr>\n",
              "    <tr>\n",
              "      <th>3</th>\n",
              "      <td>0.0</td>\n",
              "      <td>0.913043</td>\n",
              "      <td>0.243590</td>\n",
              "      <td>0.464084</td>\n",
              "      <td>0.067781</td>\n",
              "      <td>0.222798</td>\n",
              "      <td>0.378566</td>\n",
              "      <td>0.343348</td>\n",
              "      <td>0.414990</td>\n",
              "      <td>0.588571</td>\n",
              "      <td>0.327808</td>\n",
              "      <td>0.433055</td>\n",
              "      <td>0.211207</td>\n",
              "      <td>0.660322</td>\n",
              "      <td>0.555331</td>\n",
              "    </tr>\n",
              "    <tr>\n",
              "      <th>4</th>\n",
              "      <td>0.0</td>\n",
              "      <td>0.956522</td>\n",
              "      <td>0.166667</td>\n",
              "      <td>0.380145</td>\n",
              "      <td>0.040854</td>\n",
              "      <td>0.152850</td>\n",
              "      <td>0.292213</td>\n",
              "      <td>0.255365</td>\n",
              "      <td>0.493407</td>\n",
              "      <td>0.554286</td>\n",
              "      <td>0.270104</td>\n",
              "      <td>0.387445</td>\n",
              "      <td>0.219828</td>\n",
              "      <td>0.654466</td>\n",
              "      <td>0.558365</td>\n",
              "    </tr>\n",
              "  </tbody>\n",
              "</table>\n",
              "</div>\n",
              "      <button class=\"colab-df-convert\" onclick=\"convertToInteractive('df-36dc1666-787c-4b90-b2d3-16144c4fc417')\"\n",
              "              title=\"Convert this dataframe to an interactive table.\"\n",
              "              style=\"display:none;\">\n",
              "        \n",
              "  <svg xmlns=\"http://www.w3.org/2000/svg\" height=\"24px\"viewBox=\"0 0 24 24\"\n",
              "       width=\"24px\">\n",
              "    <path d=\"M0 0h24v24H0V0z\" fill=\"none\"/>\n",
              "    <path d=\"M18.56 5.44l.94 2.06.94-2.06 2.06-.94-2.06-.94-.94-2.06-.94 2.06-2.06.94zm-11 1L8.5 8.5l.94-2.06 2.06-.94-2.06-.94L8.5 2.5l-.94 2.06-2.06.94zm10 10l.94 2.06.94-2.06 2.06-.94-2.06-.94-.94-2.06-.94 2.06-2.06.94z\"/><path d=\"M17.41 7.96l-1.37-1.37c-.4-.4-.92-.59-1.43-.59-.52 0-1.04.2-1.43.59L10.3 9.45l-7.72 7.72c-.78.78-.78 2.05 0 2.83L4 21.41c.39.39.9.59 1.41.59.51 0 1.02-.2 1.41-.59l7.78-7.78 2.81-2.81c.8-.78.8-2.07 0-2.86zM5.41 20L4 18.59l7.72-7.72 1.47 1.35L5.41 20z\"/>\n",
              "  </svg>\n",
              "      </button>\n",
              "      \n",
              "  <style>\n",
              "    .colab-df-container {\n",
              "      display:flex;\n",
              "      flex-wrap:wrap;\n",
              "      gap: 12px;\n",
              "    }\n",
              "\n",
              "    .colab-df-convert {\n",
              "      background-color: #E8F0FE;\n",
              "      border: none;\n",
              "      border-radius: 50%;\n",
              "      cursor: pointer;\n",
              "      display: none;\n",
              "      fill: #1967D2;\n",
              "      height: 32px;\n",
              "      padding: 0 0 0 0;\n",
              "      width: 32px;\n",
              "    }\n",
              "\n",
              "    .colab-df-convert:hover {\n",
              "      background-color: #E2EBFA;\n",
              "      box-shadow: 0px 1px 2px rgba(60, 64, 67, 0.3), 0px 1px 3px 1px rgba(60, 64, 67, 0.15);\n",
              "      fill: #174EA6;\n",
              "    }\n",
              "\n",
              "    [theme=dark] .colab-df-convert {\n",
              "      background-color: #3B4455;\n",
              "      fill: #D2E3FC;\n",
              "    }\n",
              "\n",
              "    [theme=dark] .colab-df-convert:hover {\n",
              "      background-color: #434B5C;\n",
              "      box-shadow: 0px 1px 3px 1px rgba(0, 0, 0, 0.15);\n",
              "      filter: drop-shadow(0px 1px 2px rgba(0, 0, 0, 0.3));\n",
              "      fill: #FFFFFF;\n",
              "    }\n",
              "  </style>\n",
              "\n",
              "      <script>\n",
              "        const buttonEl =\n",
              "          document.querySelector('#df-36dc1666-787c-4b90-b2d3-16144c4fc417 button.colab-df-convert');\n",
              "        buttonEl.style.display =\n",
              "          google.colab.kernel.accessAllowed ? 'block' : 'none';\n",
              "\n",
              "        async function convertToInteractive(key) {\n",
              "          const element = document.querySelector('#df-36dc1666-787c-4b90-b2d3-16144c4fc417');\n",
              "          const dataTable =\n",
              "            await google.colab.kernel.invokeFunction('convertToInteractive',\n",
              "                                                     [key], {});\n",
              "          if (!dataTable) return;\n",
              "\n",
              "          const docLinkHtml = 'Like what you see? Visit the ' +\n",
              "            '<a target=\"_blank\" href=https://colab.research.google.com/notebooks/data_table.ipynb>data table notebook</a>'\n",
              "            + ' to learn more about interactive tables.';\n",
              "          element.innerHTML = '';\n",
              "          dataTable['output_type'] = 'display_data';\n",
              "          await google.colab.output.renderOutput(dataTable, element);\n",
              "          const docLink = document.createElement('div');\n",
              "          docLink.innerHTML = docLinkHtml;\n",
              "          element.appendChild(docLink);\n",
              "        }\n",
              "      </script>\n",
              "    </div>\n",
              "  </div>\n",
              "  "
            ]
          },
          "metadata": {},
          "execution_count": 18
        }
      ]
    },
    {
      "cell_type": "code",
      "source": [],
      "metadata": {
        "id": "PmRdt-ADYp_U"
      },
      "execution_count": 18,
      "outputs": []
    },
    {
      "cell_type": "code",
      "source": [
        "\n",
        "features=air_quality\n",
        "features=features.drop('C6H6(GT)',axis=1)"
      ],
      "metadata": {
        "id": "iwzy-Sl4Yr31"
      },
      "execution_count": 19,
      "outputs": []
    },
    {
      "cell_type": "code",
      "source": [
        "target=air_quality['C6H6(GT)']"
      ],
      "metadata": {
        "id": "mPIZrXr5Yt1r"
      },
      "execution_count": 20,
      "outputs": []
    },
    {
      "cell_type": "markdown",
      "source": [
        "**Correlation Matrix**"
      ],
      "metadata": {
        "id": "jXLIizdszcDY"
      }
    },
    {
      "cell_type": "code",
      "source": [
        "air_quality2=air_quality.corr('pearson')\n",
        "air_quality2"
      ],
      "metadata": {
        "colab": {
          "base_uri": "https://localhost:8080/",
          "height": 584
        },
        "id": "Ky9hdcu2YvQi",
        "outputId": "275158a4-4f71-4801-ebce-508bd2b94c39"
      },
      "execution_count": 21,
      "outputs": [
        {
          "output_type": "execute_result",
          "data": {
            "text/plain": [
              "                   Date      Time    CO(GT)  PT08.S1(CO)  NMHC(GT)  C6H6(GT)  \\\n",
              "Date           1.000000 -0.027234 -0.138847    -0.238764  0.216091 -0.108182   \n",
              "Time          -0.027234  1.000000  0.381230     0.396275  0.298131  0.409037   \n",
              "CO(GT)        -0.138847  0.381230  1.000000     0.887242  0.781451  0.939516   \n",
              "PT08.S1(CO)   -0.238764  0.396275  0.887242     1.000000  0.660631  0.921112   \n",
              "NMHC(GT)       0.216091  0.298131  0.781451     0.660631  1.000000  0.785104   \n",
              "C6H6(GT)      -0.108182  0.409037  0.939516     0.921112  0.785104  1.000000   \n",
              "PT08.S2(NMHC) -0.100357  0.462727  0.915099     0.929549  0.767217  0.983048   \n",
              "NOx(GT)       -0.176782  0.305118  0.908784     0.870633  0.700031  0.892561   \n",
              "PT08.S3(NOx)  -0.111442 -0.456602 -0.768200    -0.826674 -0.698157 -0.833453   \n",
              "NO2(GT)       -0.183142  0.468967  0.813585     0.815782  0.610857  0.817054   \n",
              "PT08.S4(NO2)  -0.119595  0.359949  0.909407     0.940387  0.755640  0.955618   \n",
              "PT08.S5(O3)   -0.238083  0.322324  0.844108     0.920533  0.634769  0.884428   \n",
              "T              0.125340  0.360385  0.290344     0.373676  0.326196  0.378879   \n",
              "RH            -0.067991 -0.371112 -0.207996    -0.208998 -0.228793 -0.301540   \n",
              "AH             0.122246 -0.044266  0.107896     0.245547  0.146801  0.076838   \n",
              "\n",
              "               PT08.S2(NMHC)   NOx(GT)  PT08.S3(NOx)   NO2(GT)  PT08.S4(NO2)  \\\n",
              "Date               -0.100357 -0.176782     -0.111442 -0.183142     -0.119595   \n",
              "Time                0.462727  0.305118     -0.456602  0.468967      0.359949   \n",
              "CO(GT)              0.915099  0.908784     -0.768200  0.813585      0.909407   \n",
              "PT08.S1(CO)         0.929549  0.870633     -0.826674  0.815782      0.940387   \n",
              "NMHC(GT)            0.767217  0.700031     -0.698157  0.610857      0.755640   \n",
              "C6H6(GT)            0.983048  0.892561     -0.833453  0.817054      0.955618   \n",
              "PT08.S2(NMHC)       1.000000  0.878591     -0.902573  0.843993      0.948784   \n",
              "NOx(GT)             0.878591  1.000000     -0.752060  0.873752      0.879101   \n",
              "PT08.S3(NOx)       -0.902573 -0.752060      1.000000 -0.772740     -0.855008   \n",
              "NO2(GT)             0.843993  0.873752     -0.772740  1.000000      0.779980   \n",
              "PT08.S4(NO2)        0.948784  0.879101     -0.855008  0.779980      1.000000   \n",
              "PT08.S5(O3)         0.892178  0.854288     -0.818526  0.811078      0.889868   \n",
              "T                   0.416916  0.234971     -0.430830  0.375775      0.345629   \n",
              "RH                 -0.332329 -0.153112      0.275391 -0.302507     -0.139255   \n",
              "AH                  0.082909  0.104448     -0.235596  0.064965      0.317581   \n",
              "\n",
              "               PT08.S5(O3)         T        RH        AH  \n",
              "Date             -0.238083  0.125340 -0.067991  0.122246  \n",
              "Time              0.322324  0.360385 -0.371112 -0.044266  \n",
              "CO(GT)            0.844108  0.290344 -0.207996  0.107896  \n",
              "PT08.S1(CO)       0.920533  0.373676 -0.208998  0.245547  \n",
              "NMHC(GT)          0.634769  0.326196 -0.228793  0.146801  \n",
              "C6H6(GT)          0.884428  0.378879 -0.301540  0.076838  \n",
              "PT08.S2(NMHC)     0.892178  0.416916 -0.332329  0.082909  \n",
              "NOx(GT)           0.854288  0.234971 -0.153112  0.104448  \n",
              "PT08.S3(NOx)     -0.818526 -0.430830  0.275391 -0.235596  \n",
              "NO2(GT)           0.811078  0.375775 -0.302507  0.064965  \n",
              "PT08.S4(NO2)      0.889868  0.345629 -0.139255  0.317581  \n",
              "PT08.S5(O3)       1.000000  0.285788 -0.161006  0.187721  \n",
              "T                 0.285788  1.000000 -0.816055  0.153549  \n",
              "RH               -0.161006 -0.816055  1.000000  0.410963  \n",
              "AH                0.187721  0.153549  0.410963  1.000000  "
            ],
            "text/html": [
              "\n",
              "  <div id=\"df-1278f32b-dd02-44f8-a15e-60b5b3223cd0\">\n",
              "    <div class=\"colab-df-container\">\n",
              "      <div>\n",
              "<style scoped>\n",
              "    .dataframe tbody tr th:only-of-type {\n",
              "        vertical-align: middle;\n",
              "    }\n",
              "\n",
              "    .dataframe tbody tr th {\n",
              "        vertical-align: top;\n",
              "    }\n",
              "\n",
              "    .dataframe thead th {\n",
              "        text-align: right;\n",
              "    }\n",
              "</style>\n",
              "<table border=\"1\" class=\"dataframe\">\n",
              "  <thead>\n",
              "    <tr style=\"text-align: right;\">\n",
              "      <th></th>\n",
              "      <th>Date</th>\n",
              "      <th>Time</th>\n",
              "      <th>CO(GT)</th>\n",
              "      <th>PT08.S1(CO)</th>\n",
              "      <th>NMHC(GT)</th>\n",
              "      <th>C6H6(GT)</th>\n",
              "      <th>PT08.S2(NMHC)</th>\n",
              "      <th>NOx(GT)</th>\n",
              "      <th>PT08.S3(NOx)</th>\n",
              "      <th>NO2(GT)</th>\n",
              "      <th>PT08.S4(NO2)</th>\n",
              "      <th>PT08.S5(O3)</th>\n",
              "      <th>T</th>\n",
              "      <th>RH</th>\n",
              "      <th>AH</th>\n",
              "    </tr>\n",
              "  </thead>\n",
              "  <tbody>\n",
              "    <tr>\n",
              "      <th>Date</th>\n",
              "      <td>1.000000</td>\n",
              "      <td>-0.027234</td>\n",
              "      <td>-0.138847</td>\n",
              "      <td>-0.238764</td>\n",
              "      <td>0.216091</td>\n",
              "      <td>-0.108182</td>\n",
              "      <td>-0.100357</td>\n",
              "      <td>-0.176782</td>\n",
              "      <td>-0.111442</td>\n",
              "      <td>-0.183142</td>\n",
              "      <td>-0.119595</td>\n",
              "      <td>-0.238083</td>\n",
              "      <td>0.125340</td>\n",
              "      <td>-0.067991</td>\n",
              "      <td>0.122246</td>\n",
              "    </tr>\n",
              "    <tr>\n",
              "      <th>Time</th>\n",
              "      <td>-0.027234</td>\n",
              "      <td>1.000000</td>\n",
              "      <td>0.381230</td>\n",
              "      <td>0.396275</td>\n",
              "      <td>0.298131</td>\n",
              "      <td>0.409037</td>\n",
              "      <td>0.462727</td>\n",
              "      <td>0.305118</td>\n",
              "      <td>-0.456602</td>\n",
              "      <td>0.468967</td>\n",
              "      <td>0.359949</td>\n",
              "      <td>0.322324</td>\n",
              "      <td>0.360385</td>\n",
              "      <td>-0.371112</td>\n",
              "      <td>-0.044266</td>\n",
              "    </tr>\n",
              "    <tr>\n",
              "      <th>CO(GT)</th>\n",
              "      <td>-0.138847</td>\n",
              "      <td>0.381230</td>\n",
              "      <td>1.000000</td>\n",
              "      <td>0.887242</td>\n",
              "      <td>0.781451</td>\n",
              "      <td>0.939516</td>\n",
              "      <td>0.915099</td>\n",
              "      <td>0.908784</td>\n",
              "      <td>-0.768200</td>\n",
              "      <td>0.813585</td>\n",
              "      <td>0.909407</td>\n",
              "      <td>0.844108</td>\n",
              "      <td>0.290344</td>\n",
              "      <td>-0.207996</td>\n",
              "      <td>0.107896</td>\n",
              "    </tr>\n",
              "    <tr>\n",
              "      <th>PT08.S1(CO)</th>\n",
              "      <td>-0.238764</td>\n",
              "      <td>0.396275</td>\n",
              "      <td>0.887242</td>\n",
              "      <td>1.000000</td>\n",
              "      <td>0.660631</td>\n",
              "      <td>0.921112</td>\n",
              "      <td>0.929549</td>\n",
              "      <td>0.870633</td>\n",
              "      <td>-0.826674</td>\n",
              "      <td>0.815782</td>\n",
              "      <td>0.940387</td>\n",
              "      <td>0.920533</td>\n",
              "      <td>0.373676</td>\n",
              "      <td>-0.208998</td>\n",
              "      <td>0.245547</td>\n",
              "    </tr>\n",
              "    <tr>\n",
              "      <th>NMHC(GT)</th>\n",
              "      <td>0.216091</td>\n",
              "      <td>0.298131</td>\n",
              "      <td>0.781451</td>\n",
              "      <td>0.660631</td>\n",
              "      <td>1.000000</td>\n",
              "      <td>0.785104</td>\n",
              "      <td>0.767217</td>\n",
              "      <td>0.700031</td>\n",
              "      <td>-0.698157</td>\n",
              "      <td>0.610857</td>\n",
              "      <td>0.755640</td>\n",
              "      <td>0.634769</td>\n",
              "      <td>0.326196</td>\n",
              "      <td>-0.228793</td>\n",
              "      <td>0.146801</td>\n",
              "    </tr>\n",
              "    <tr>\n",
              "      <th>C6H6(GT)</th>\n",
              "      <td>-0.108182</td>\n",
              "      <td>0.409037</td>\n",
              "      <td>0.939516</td>\n",
              "      <td>0.921112</td>\n",
              "      <td>0.785104</td>\n",
              "      <td>1.000000</td>\n",
              "      <td>0.983048</td>\n",
              "      <td>0.892561</td>\n",
              "      <td>-0.833453</td>\n",
              "      <td>0.817054</td>\n",
              "      <td>0.955618</td>\n",
              "      <td>0.884428</td>\n",
              "      <td>0.378879</td>\n",
              "      <td>-0.301540</td>\n",
              "      <td>0.076838</td>\n",
              "    </tr>\n",
              "    <tr>\n",
              "      <th>PT08.S2(NMHC)</th>\n",
              "      <td>-0.100357</td>\n",
              "      <td>0.462727</td>\n",
              "      <td>0.915099</td>\n",
              "      <td>0.929549</td>\n",
              "      <td>0.767217</td>\n",
              "      <td>0.983048</td>\n",
              "      <td>1.000000</td>\n",
              "      <td>0.878591</td>\n",
              "      <td>-0.902573</td>\n",
              "      <td>0.843993</td>\n",
              "      <td>0.948784</td>\n",
              "      <td>0.892178</td>\n",
              "      <td>0.416916</td>\n",
              "      <td>-0.332329</td>\n",
              "      <td>0.082909</td>\n",
              "    </tr>\n",
              "    <tr>\n",
              "      <th>NOx(GT)</th>\n",
              "      <td>-0.176782</td>\n",
              "      <td>0.305118</td>\n",
              "      <td>0.908784</td>\n",
              "      <td>0.870633</td>\n",
              "      <td>0.700031</td>\n",
              "      <td>0.892561</td>\n",
              "      <td>0.878591</td>\n",
              "      <td>1.000000</td>\n",
              "      <td>-0.752060</td>\n",
              "      <td>0.873752</td>\n",
              "      <td>0.879101</td>\n",
              "      <td>0.854288</td>\n",
              "      <td>0.234971</td>\n",
              "      <td>-0.153112</td>\n",
              "      <td>0.104448</td>\n",
              "    </tr>\n",
              "    <tr>\n",
              "      <th>PT08.S3(NOx)</th>\n",
              "      <td>-0.111442</td>\n",
              "      <td>-0.456602</td>\n",
              "      <td>-0.768200</td>\n",
              "      <td>-0.826674</td>\n",
              "      <td>-0.698157</td>\n",
              "      <td>-0.833453</td>\n",
              "      <td>-0.902573</td>\n",
              "      <td>-0.752060</td>\n",
              "      <td>1.000000</td>\n",
              "      <td>-0.772740</td>\n",
              "      <td>-0.855008</td>\n",
              "      <td>-0.818526</td>\n",
              "      <td>-0.430830</td>\n",
              "      <td>0.275391</td>\n",
              "      <td>-0.235596</td>\n",
              "    </tr>\n",
              "    <tr>\n",
              "      <th>NO2(GT)</th>\n",
              "      <td>-0.183142</td>\n",
              "      <td>0.468967</td>\n",
              "      <td>0.813585</td>\n",
              "      <td>0.815782</td>\n",
              "      <td>0.610857</td>\n",
              "      <td>0.817054</td>\n",
              "      <td>0.843993</td>\n",
              "      <td>0.873752</td>\n",
              "      <td>-0.772740</td>\n",
              "      <td>1.000000</td>\n",
              "      <td>0.779980</td>\n",
              "      <td>0.811078</td>\n",
              "      <td>0.375775</td>\n",
              "      <td>-0.302507</td>\n",
              "      <td>0.064965</td>\n",
              "    </tr>\n",
              "    <tr>\n",
              "      <th>PT08.S4(NO2)</th>\n",
              "      <td>-0.119595</td>\n",
              "      <td>0.359949</td>\n",
              "      <td>0.909407</td>\n",
              "      <td>0.940387</td>\n",
              "      <td>0.755640</td>\n",
              "      <td>0.955618</td>\n",
              "      <td>0.948784</td>\n",
              "      <td>0.879101</td>\n",
              "      <td>-0.855008</td>\n",
              "      <td>0.779980</td>\n",
              "      <td>1.000000</td>\n",
              "      <td>0.889868</td>\n",
              "      <td>0.345629</td>\n",
              "      <td>-0.139255</td>\n",
              "      <td>0.317581</td>\n",
              "    </tr>\n",
              "    <tr>\n",
              "      <th>PT08.S5(O3)</th>\n",
              "      <td>-0.238083</td>\n",
              "      <td>0.322324</td>\n",
              "      <td>0.844108</td>\n",
              "      <td>0.920533</td>\n",
              "      <td>0.634769</td>\n",
              "      <td>0.884428</td>\n",
              "      <td>0.892178</td>\n",
              "      <td>0.854288</td>\n",
              "      <td>-0.818526</td>\n",
              "      <td>0.811078</td>\n",
              "      <td>0.889868</td>\n",
              "      <td>1.000000</td>\n",
              "      <td>0.285788</td>\n",
              "      <td>-0.161006</td>\n",
              "      <td>0.187721</td>\n",
              "    </tr>\n",
              "    <tr>\n",
              "      <th>T</th>\n",
              "      <td>0.125340</td>\n",
              "      <td>0.360385</td>\n",
              "      <td>0.290344</td>\n",
              "      <td>0.373676</td>\n",
              "      <td>0.326196</td>\n",
              "      <td>0.378879</td>\n",
              "      <td>0.416916</td>\n",
              "      <td>0.234971</td>\n",
              "      <td>-0.430830</td>\n",
              "      <td>0.375775</td>\n",
              "      <td>0.345629</td>\n",
              "      <td>0.285788</td>\n",
              "      <td>1.000000</td>\n",
              "      <td>-0.816055</td>\n",
              "      <td>0.153549</td>\n",
              "    </tr>\n",
              "    <tr>\n",
              "      <th>RH</th>\n",
              "      <td>-0.067991</td>\n",
              "      <td>-0.371112</td>\n",
              "      <td>-0.207996</td>\n",
              "      <td>-0.208998</td>\n",
              "      <td>-0.228793</td>\n",
              "      <td>-0.301540</td>\n",
              "      <td>-0.332329</td>\n",
              "      <td>-0.153112</td>\n",
              "      <td>0.275391</td>\n",
              "      <td>-0.302507</td>\n",
              "      <td>-0.139255</td>\n",
              "      <td>-0.161006</td>\n",
              "      <td>-0.816055</td>\n",
              "      <td>1.000000</td>\n",
              "      <td>0.410963</td>\n",
              "    </tr>\n",
              "    <tr>\n",
              "      <th>AH</th>\n",
              "      <td>0.122246</td>\n",
              "      <td>-0.044266</td>\n",
              "      <td>0.107896</td>\n",
              "      <td>0.245547</td>\n",
              "      <td>0.146801</td>\n",
              "      <td>0.076838</td>\n",
              "      <td>0.082909</td>\n",
              "      <td>0.104448</td>\n",
              "      <td>-0.235596</td>\n",
              "      <td>0.064965</td>\n",
              "      <td>0.317581</td>\n",
              "      <td>0.187721</td>\n",
              "      <td>0.153549</td>\n",
              "      <td>0.410963</td>\n",
              "      <td>1.000000</td>\n",
              "    </tr>\n",
              "  </tbody>\n",
              "</table>\n",
              "</div>\n",
              "      <button class=\"colab-df-convert\" onclick=\"convertToInteractive('df-1278f32b-dd02-44f8-a15e-60b5b3223cd0')\"\n",
              "              title=\"Convert this dataframe to an interactive table.\"\n",
              "              style=\"display:none;\">\n",
              "        \n",
              "  <svg xmlns=\"http://www.w3.org/2000/svg\" height=\"24px\"viewBox=\"0 0 24 24\"\n",
              "       width=\"24px\">\n",
              "    <path d=\"M0 0h24v24H0V0z\" fill=\"none\"/>\n",
              "    <path d=\"M18.56 5.44l.94 2.06.94-2.06 2.06-.94-2.06-.94-.94-2.06-.94 2.06-2.06.94zm-11 1L8.5 8.5l.94-2.06 2.06-.94-2.06-.94L8.5 2.5l-.94 2.06-2.06.94zm10 10l.94 2.06.94-2.06 2.06-.94-2.06-.94-.94-2.06-.94 2.06-2.06.94z\"/><path d=\"M17.41 7.96l-1.37-1.37c-.4-.4-.92-.59-1.43-.59-.52 0-1.04.2-1.43.59L10.3 9.45l-7.72 7.72c-.78.78-.78 2.05 0 2.83L4 21.41c.39.39.9.59 1.41.59.51 0 1.02-.2 1.41-.59l7.78-7.78 2.81-2.81c.8-.78.8-2.07 0-2.86zM5.41 20L4 18.59l7.72-7.72 1.47 1.35L5.41 20z\"/>\n",
              "  </svg>\n",
              "      </button>\n",
              "      \n",
              "  <style>\n",
              "    .colab-df-container {\n",
              "      display:flex;\n",
              "      flex-wrap:wrap;\n",
              "      gap: 12px;\n",
              "    }\n",
              "\n",
              "    .colab-df-convert {\n",
              "      background-color: #E8F0FE;\n",
              "      border: none;\n",
              "      border-radius: 50%;\n",
              "      cursor: pointer;\n",
              "      display: none;\n",
              "      fill: #1967D2;\n",
              "      height: 32px;\n",
              "      padding: 0 0 0 0;\n",
              "      width: 32px;\n",
              "    }\n",
              "\n",
              "    .colab-df-convert:hover {\n",
              "      background-color: #E2EBFA;\n",
              "      box-shadow: 0px 1px 2px rgba(60, 64, 67, 0.3), 0px 1px 3px 1px rgba(60, 64, 67, 0.15);\n",
              "      fill: #174EA6;\n",
              "    }\n",
              "\n",
              "    [theme=dark] .colab-df-convert {\n",
              "      background-color: #3B4455;\n",
              "      fill: #D2E3FC;\n",
              "    }\n",
              "\n",
              "    [theme=dark] .colab-df-convert:hover {\n",
              "      background-color: #434B5C;\n",
              "      box-shadow: 0px 1px 3px 1px rgba(0, 0, 0, 0.15);\n",
              "      filter: drop-shadow(0px 1px 2px rgba(0, 0, 0, 0.3));\n",
              "      fill: #FFFFFF;\n",
              "    }\n",
              "  </style>\n",
              "\n",
              "      <script>\n",
              "        const buttonEl =\n",
              "          document.querySelector('#df-1278f32b-dd02-44f8-a15e-60b5b3223cd0 button.colab-df-convert');\n",
              "        buttonEl.style.display =\n",
              "          google.colab.kernel.accessAllowed ? 'block' : 'none';\n",
              "\n",
              "        async function convertToInteractive(key) {\n",
              "          const element = document.querySelector('#df-1278f32b-dd02-44f8-a15e-60b5b3223cd0');\n",
              "          const dataTable =\n",
              "            await google.colab.kernel.invokeFunction('convertToInteractive',\n",
              "                                                     [key], {});\n",
              "          if (!dataTable) return;\n",
              "\n",
              "          const docLinkHtml = 'Like what you see? Visit the ' +\n",
              "            '<a target=\"_blank\" href=https://colab.research.google.com/notebooks/data_table.ipynb>data table notebook</a>'\n",
              "            + ' to learn more about interactive tables.';\n",
              "          element.innerHTML = '';\n",
              "          dataTable['output_type'] = 'display_data';\n",
              "          await google.colab.output.renderOutput(dataTable, element);\n",
              "          const docLink = document.createElement('div');\n",
              "          docLink.innerHTML = docLinkHtml;\n",
              "          element.appendChild(docLink);\n",
              "        }\n",
              "      </script>\n",
              "    </div>\n",
              "  </div>\n",
              "  "
            ]
          },
          "metadata": {},
          "execution_count": 21
        }
      ]
    },
    {
      "cell_type": "code",
      "source": [
        "colormap = plt.cm.viridis\n",
        "plt.figure(figsize=(15,15))\n",
        "plt.title('Pearson Correlation of Features', y=1.05, size=15)\n",
        "sns.heatmap(air_quality.corr(),linewidths=0.1,vmax=1.0, square=True, cmap=colormap, linecolor='white',annot=True)"
      ],
      "metadata": {
        "colab": {
          "base_uri": "https://localhost:8080/",
          "height": 880
        },
        "id": "jnus_UyI6P1L",
        "outputId": "8022db37-8127-491b-ba7f-d92e50db4b8d"
      },
      "execution_count": 22,
      "outputs": [
        {
          "output_type": "execute_result",
          "data": {
            "text/plain": [
              "<matplotlib.axes._subplots.AxesSubplot at 0x7f32e21d9650>"
            ]
          },
          "metadata": {},
          "execution_count": 22
        },
        {
          "output_type": "display_data",
          "data": {
            "text/plain": [
              "<Figure size 1080x1080 with 2 Axes>"
            ],
            "image/png": "[encoded data removed]"
          },
          "metadata": {
            "needs_background": "light"
          }
        }
      ]
    },
    {
      "cell_type": "code",
      "source": [
        "#sns.pairplot(air_quality)"
      ],
      "metadata": {
        "id": "h9PCLYcp8v9k"
      },
      "execution_count": 23,
      "outputs": []
    },
    {
      "cell_type": "code",
      "source": [
        "abs(air_quality2['C6H6(GT)']).sort_values(ascending=False)"
      ],
      "metadata": {
        "colab": {
          "base_uri": "https://localhost:8080/"
        },
        "id": "8S2dHcODYxLi",
        "outputId": "7df6a4e8-ba48-45a0-b566-f9194ca1955a"
      },
      "execution_count": 24,
      "outputs": [
        {
          "output_type": "execute_result",
          "data": {
            "text/plain": [
              "C6H6(GT)         1.000000\n",
              "PT08.S2(NMHC)    0.983048\n",
              "PT08.S4(NO2)     0.955618\n",
              "CO(GT)           0.939516\n",
              "PT08.S1(CO)      0.921112\n",
              "NOx(GT)          0.892561\n",
              "PT08.S5(O3)      0.884428\n",
              "PT08.S3(NOx)     0.833453\n",
              "NO2(GT)          0.817054\n",
              "NMHC(GT)         0.785104\n",
              "Time             0.409037\n",
              "T                0.378879\n",
              "RH               0.301540\n",
              "Date             0.108182\n",
              "AH               0.076838\n",
              "Name: C6H6(GT), dtype: float64"
            ]
          },
          "metadata": {},
          "execution_count": 24
        }
      ]
    },
    {
      "cell_type": "code",
      "source": [
        "air_quality['C6H6(GT)'].value_counts().plot(kind='bar', color='lightblue', figsize=(50,10))"
      ],
      "metadata": {
        "colab": {
          "base_uri": "https://localhost:8080/",
          "height": 264
        },
        "id": "aq7IuyM2Yy1q",
        "outputId": "e2c701dd-018d-46b1-8c24-d0719317e89d"
      },
      "execution_count": 25,
      "outputs": [
        {
          "output_type": "execute_result",
          "data": {
            "text/plain": [
              "<matplotlib.axes._subplots.AxesSubplot at 0x7f32dd964e90>"
            ]
          },
          "metadata": {},
          "execution_count": 25
        },
        {
          "output_type": "display_data",
          "data": {
            "text/plain": [
              "<Figure size 3600x720 with 1 Axes>"
            ],
            "image/png": "[encoded data removed]"
          },
          "metadata": {
            "needs_background": "light"
          }
        }
      ]
    },
    {
      "cell_type": "code",
      "source": [
        "features=features.drop('Date',axis=1)\n",
        "features=features.drop('Time',axis=1)\n",
        "features=features.drop('T',axis=1)\n",
        "features=features.drop('RH',axis=1)\n",
        "features=features.drop('AH',axis=1)\n",
        "features=features.drop('NMHC(GT)',axis=1)\n",
        "features=features.drop('PT08.S2(NMHC)',axis=1)\n",
        "#features=features.drop('NOx(GT)',axis=1)\n",
        "#features=features.drop('PT08.S3(NOx)',axis=1)\n",
        "#features=features.drop('NO2(GT)',axis=1)\n",
        "#features=features.drop('PT08.S4(NO2)',axis=1)\n",
        "#features=features.drop('PT08.S5(O3)',axis=1)\n",
        "features.head()"
      ],
      "metadata": {
        "colab": {
          "base_uri": "https://localhost:8080/",
          "height": 206
        },
        "id": "-We9fUCEY1Rl",
        "outputId": "1d34394d-e35a-4cef-b96a-b696179f6c3e"
      },
      "execution_count": 26,
      "outputs": [
        {
          "output_type": "execute_result",
          "data": {
            "text/plain": [
              "     CO(GT)  PT08.S1(CO)   NOx(GT)  PT08.S3(NOx)   NO2(GT)  PT08.S4(NO2)  \\\n",
              "0  0.294872     0.451170  0.330472      0.390007  0.537143      0.394107   \n",
              "1  0.217949     0.396287  0.195279      0.471895  0.417143      0.312462   \n",
              "2  0.243590     0.485069  0.255365      0.448300  0.542857      0.310006   \n",
              "3  0.243590     0.464084  0.343348      0.414990  0.588571      0.327808   \n",
              "4  0.166667     0.380145  0.255365      0.493407  0.554286      0.270104   \n",
              "\n",
              "   PT08.S5(O3)  \n",
              "0     0.464934  \n",
              "1     0.319765  \n",
              "2     0.369789  \n",
              "3     0.433055  \n",
              "4     0.387445  "
            ],
            "text/html": [
              "\n",
              "  <div id=\"df-318222b6-5d22-458b-887e-c67f447204c0\">\n",
              "    <div class=\"colab-df-container\">\n",
              "      <div>\n",
              "<style scoped>\n",
              "    .dataframe tbody tr th:only-of-type {\n",
              "        vertical-align: middle;\n",
              "    }\n",
              "\n",
              "    .dataframe tbody tr th {\n",
              "        vertical-align: top;\n",
              "    }\n",
              "\n",
              "    .dataframe thead th {\n",
              "        text-align: right;\n",
              "    }\n",
              "</style>\n",
              "<table border=\"1\" class=\"dataframe\">\n",
              "  <thead>\n",
              "    <tr style=\"text-align: right;\">\n",
              "      <th></th>\n",
              "      <th>CO(GT)</th>\n",
              "      <th>PT08.S1(CO)</th>\n",
              "      <th>NOx(GT)</th>\n",
              "      <th>PT08.S3(NOx)</th>\n",
              "      <th>NO2(GT)</th>\n",
              "      <th>PT08.S4(NO2)</th>\n",
              "      <th>PT08.S5(O3)</th>\n",
              "    </tr>\n",
              "  </thead>\n",
              "  <tbody>\n",
              "    <tr>\n",
              "      <th>0</th>\n",
              "      <td>0.294872</td>\n",
              "      <td>0.451170</td>\n",
              "      <td>0.330472</td>\n",
              "      <td>0.390007</td>\n",
              "      <td>0.537143</td>\n",
              "      <td>0.394107</td>\n",
              "      <td>0.464934</td>\n",
              "    </tr>\n",
              "    <tr>\n",
              "      <th>1</th>\n",
              "      <td>0.217949</td>\n",
              "      <td>0.396287</td>\n",
              "      <td>0.195279</td>\n",
              "      <td>0.471895</td>\n",
              "      <td>0.417143</td>\n",
              "      <td>0.312462</td>\n",
              "      <td>0.319765</td>\n",
              "    </tr>\n",
              "    <tr>\n",
              "      <th>2</th>\n",
              "      <td>0.243590</td>\n",
              "      <td>0.485069</td>\n",
              "      <td>0.255365</td>\n",
              "      <td>0.448300</td>\n",
              "      <td>0.542857</td>\n",
              "      <td>0.310006</td>\n",
              "      <td>0.369789</td>\n",
              "    </tr>\n",
              "    <tr>\n",
              "      <th>3</th>\n",
              "      <td>0.243590</td>\n",
              "      <td>0.464084</td>\n",
              "      <td>0.343348</td>\n",
              "      <td>0.414990</td>\n",
              "      <td>0.588571</td>\n",
              "      <td>0.327808</td>\n",
              "      <td>0.433055</td>\n",
              "    </tr>\n",
              "    <tr>\n",
              "      <th>4</th>\n",
              "      <td>0.166667</td>\n",
              "      <td>0.380145</td>\n",
              "      <td>0.255365</td>\n",
              "      <td>0.493407</td>\n",
              "      <td>0.554286</td>\n",
              "      <td>0.270104</td>\n",
              "      <td>0.387445</td>\n",
              "    </tr>\n",
              "  </tbody>\n",
              "</table>\n",
              "</div>\n",
              "      <button class=\"colab-df-convert\" onclick=\"convertToInteractive('df-318222b6-5d22-458b-887e-c67f447204c0')\"\n",
              "              title=\"Convert this dataframe to an interactive table.\"\n",
              "              style=\"display:none;\">\n",
              "        \n",
              "  <svg xmlns=\"http://www.w3.org/2000/svg\" height=\"24px\"viewBox=\"0 0 24 24\"\n",
              "       width=\"24px\">\n",
              "    <path d=\"M0 0h24v24H0V0z\" fill=\"none\"/>\n",
              "    <path d=\"M18.56 5.44l.94 2.06.94-2.06 2.06-.94-2.06-.94-.94-2.06-.94 2.06-2.06.94zm-11 1L8.5 8.5l.94-2.06 2.06-.94-2.06-.94L8.5 2.5l-.94 2.06-2.06.94zm10 10l.94 2.06.94-2.06 2.06-.94-2.06-.94-.94-2.06-.94 2.06-2.06.94z\"/><path d=\"M17.41 7.96l-1.37-1.37c-.4-.4-.92-.59-1.43-.59-.52 0-1.04.2-1.43.59L10.3 9.45l-7.72 7.72c-.78.78-.78 2.05 0 2.83L4 21.41c.39.39.9.59 1.41.59.51 0 1.02-.2 1.41-.59l7.78-7.78 2.81-2.81c.8-.78.8-2.07 0-2.86zM5.41 20L4 18.59l7.72-7.72 1.47 1.35L5.41 20z\"/>\n",
              "  </svg>\n",
              "      </button>\n",
              "      \n",
              "  <style>\n",
              "    .colab-df-container {\n",
              "      display:flex;\n",
              "      flex-wrap:wrap;\n",
              "      gap: 12px;\n",
              "    }\n",
              "\n",
              "    .colab-df-convert {\n",
              "      background-color: #E8F0FE;\n",
              "      border: none;\n",
              "      border-radius: 50%;\n",
              "      cursor: pointer;\n",
              "      display: none;\n",
              "      fill: #1967D2;\n",
              "      height: 32px;\n",
              "      padding: 0 0 0 0;\n",
              "      width: 32px;\n",
              "    }\n",
              "\n",
              "    .colab-df-convert:hover {\n",
              "      background-color: #E2EBFA;\n",
              "      box-shadow: 0px 1px 2px rgba(60, 64, 67, 0.3), 0px 1px 3px 1px rgba(60, 64, 67, 0.15);\n",
              "      fill: #174EA6;\n",
              "    }\n",
              "\n",
              "    [theme=dark] .colab-df-convert {\n",
              "      background-color: #3B4455;\n",
              "      fill: #D2E3FC;\n",
              "    }\n",
              "\n",
              "    [theme=dark] .colab-df-convert:hover {\n",
              "      background-color: #434B5C;\n",
              "      box-shadow: 0px 1px 3px 1px rgba(0, 0, 0, 0.15);\n",
              "      filter: drop-shadow(0px 1px 2px rgba(0, 0, 0, 0.3));\n",
              "      fill: #FFFFFF;\n",
              "    }\n",
              "  </style>\n",
              "\n",
              "      <script>\n",
              "        const buttonEl =\n",
              "          document.querySelector('#df-318222b6-5d22-458b-887e-c67f447204c0 button.colab-df-convert');\n",
              "        buttonEl.style.display =\n",
              "          google.colab.kernel.accessAllowed ? 'block' : 'none';\n",
              "\n",
              "        async function convertToInteractive(key) {\n",
              "          const element = document.querySelector('#df-318222b6-5d22-458b-887e-c67f447204c0');\n",
              "          const dataTable =\n",
              "            await google.colab.kernel.invokeFunction('convertToInteractive',\n",
              "                                                     [key], {});\n",
              "          if (!dataTable) return;\n",
              "\n",
              "          const docLinkHtml = 'Like what you see? Visit the ' +\n",
              "            '<a target=\"_blank\" href=https://colab.research.google.com/notebooks/data_table.ipynb>data table notebook</a>'\n",
              "            + ' to learn more about interactive tables.';\n",
              "          element.innerHTML = '';\n",
              "          dataTable['output_type'] = 'display_data';\n",
              "          await google.colab.output.renderOutput(dataTable, element);\n",
              "          const docLink = document.createElement('div');\n",
              "          docLink.innerHTML = docLinkHtml;\n",
              "          element.appendChild(docLink);\n",
              "        }\n",
              "      </script>\n",
              "    </div>\n",
              "  </div>\n",
              "  "
            ]
          },
          "metadata": {},
          "execution_count": 26
        }
      ]
    },
    {
      "cell_type": "code",
      "source": [
        "features=features.values\n",
        "target=target.values\n",
        "from sklearn.model_selection import train_test_split"
      ],
      "metadata": {
        "id": "6wn9HQ1aY21M"
      },
      "execution_count": 27,
      "outputs": []
    },
    {
      "cell_type": "markdown",
      "source": [
        "### **LINEAR REGRESSION**"
      ],
      "metadata": {
        "id": "sB4WMDld4C2Q"
      }
    },
    {
      "cell_type": "markdown",
      "source": [
        "## Experiment:1 \n",
        "# Train:Test =  70:30 \n",
        "---\n",
        "\n"
      ],
      "metadata": {
        "id": "sg_jLQQPVqWX"
      }
    },
    {
      "cell_type": "code",
      "source": [
        "X_train, X_test, y_train, y_test = train_test_split(features, target, test_size=0.3)"
      ],
      "metadata": {
        "id": "3QHrjGIwY4YG"
      },
      "execution_count": 28,
      "outputs": []
    },
    {
      "cell_type": "code",
      "source": [
        "from sklearn.linear_model import LinearRegression\n",
        "regressor = LinearRegression(normalize=True)\n",
        "regressor.fit(X_train, y_train)"
      ],
      "metadata": {
        "colab": {
          "base_uri": "https://localhost:8080/"
        },
        "id": "uV2BwyyUY5kf",
        "outputId": "6354832b-9bb5-49da-8895-36db9219f87e"
      },
      "execution_count": 29,
      "outputs": [
        {
          "output_type": "execute_result",
          "data": {
            "text/plain": [
              "LinearRegression(normalize=True)"
            ]
          },
          "metadata": {},
          "execution_count": 29
        }
      ]
    },
    {
      "cell_type": "code",
      "source": [
        "print(\"Predicted values:\", regressor.predict(X_test))\n",
        "y_pred = regressor.predict(X_test)\n",
        "y_pred.shape"
      ],
      "metadata": {
        "colab": {
          "base_uri": "https://localhost:8080/"
        },
        "id": "HTe8D2BQY6xM",
        "outputId": "6852c8cc-b8ff-4c32-88d8-3df886bf113d"
      },
      "execution_count": 30,
      "outputs": [
        {
          "output_type": "stream",
          "name": "stdout",
          "text": [
            "Predicted values: [ 0.06996346  0.60197923  0.0262527   0.00898722  0.51111162  0.24795533\n",
            "  0.15488845  0.41630199  0.16518083  0.15355368 -0.01425184  0.11871666\n",
            "  0.22311092  0.22151471  0.15048214  0.55202012  0.29638035  0.12948725\n",
            "  0.11593085  0.08296291  0.23456562  0.5281544   0.4362648   0.38228425\n",
            "  0.27486355  0.09316265  0.20965917  0.08216545  0.05977442  0.32970607\n",
            "  0.16623564  0.51713479  0.02485718 -0.07331952  0.10705966  0.4354037\n",
            "  0.30774457  0.34244296  0.2284126   0.21383791  0.53598996  0.26456514\n",
            "  0.35666775  0.42423366  0.38067426  0.17912263  0.52035059  0.11129398\n",
            "  0.14224127  0.3912208   0.19851533  0.65629807  0.08662703  0.19344114\n",
            "  0.32612312  0.37934463  0.37719481  0.27868642  0.26088218  0.15755027\n",
            "  0.02976143  0.20841155  0.18060133  0.37012251  0.07914476  0.18802013\n",
            "  0.22699386  0.57293887  0.11366789  0.20160851 -0.00498194  0.06498646\n",
            "  0.13663748  0.26060798  0.37025994  0.1927112   0.1832553   0.12602081\n",
            "  0.30824157  0.34088989  0.13383245  0.20624108  0.18705881  0.26886673\n",
            "  0.12315742  0.21637542  0.30606743  0.33707747  0.30377732  0.33327406\n",
            "  0.29415802  0.77995683  0.10608017  0.1169789   0.08800847  0.33480868\n",
            "  0.15085708  0.26272666  0.31666185  0.29270723  0.2623525   0.23979198\n",
            "  0.19937589  0.31752031  0.3365595  -0.00800749  0.21718129  0.35472697\n",
            "  0.17060501  0.31190967  0.43696587  0.52081135  0.25639143  0.20608464\n",
            "  0.2539302   0.18445819  0.06760663  0.16530434  0.21449797  0.10215163\n",
            "  0.51194861  0.18002457  0.07582982  0.07761087  0.24180192  0.02911079\n",
            "  0.46990518  0.30103177  0.5079141   0.34688325  0.40417005  0.19424914\n",
            "  0.48521769  0.45623269  0.4670928   0.11113748  0.17947927  0.54037206\n",
            "  0.07187044  0.39354729  0.06795299  0.15691051  0.37102296  0.14122542\n",
            "  0.19470831  0.12644935  0.37471582  0.28590333  0.48669236  0.26040252\n",
            " -0.05912814  0.2621653   0.36050949  0.34248819  0.15916044  0.09064813\n",
            "  0.17555997  0.29201658  0.03806556  0.04642973  0.40317905  0.24915129\n",
            "  0.09676378  0.32316298  0.26961449  0.14144483  0.09929401  0.35811527\n",
            "  0.22563698  0.10762434 -0.02830568  0.62229603  0.37252251  0.28320439\n",
            "  0.17840531 -0.02664315 -0.03374885  0.01090846  0.76755596  0.16703859\n",
            "  0.31425823  0.69342075  0.17600709  0.41543908  0.05522943  0.27679078\n",
            "  0.07820806  0.5441557   0.28007688  0.28387172  0.31747192  0.18409383\n",
            "  0.02854604  0.35083339  0.49802343  0.2563847   0.41644756  0.1608472\n",
            "  0.39441392  0.07472448  0.0454187   0.16548728  0.32459215  0.21840749\n",
            "  0.8098959   0.47773336  0.49413273  0.32578617  0.22006844  0.25131792]\n"
          ]
        },
        {
          "output_type": "execute_result",
          "data": {
            "text/plain": [
              "(210,)"
            ]
          },
          "metadata": {},
          "execution_count": 30
        }
      ]
    },
    {
      "cell_type": "markdown",
      "source": [
        "# *Exp:1 Evaluation metrics*"
      ],
      "metadata": {
        "id": "iNHWlUpz3aew"
      }
    },
    {
      "cell_type": "code",
      "source": [
        "print(\"Evaluation metrics for exp 1\")\n",
        "print(\"R^2 score for liner regression: \", regressor.score(X_test, y_test))\n",
        "mse = sklearn.metrics.mean_squared_error(y_test, y_pred)\n",
        "print(\"MSE:\",mse)\n",
        "mae = sklearn.metrics.mean_absolute_error(y_test, y_pred)\n",
        "print(\"MAE:\",mae)\n",
        "mape = sklearn.metrics.mean_absolute_percentage_error(y_test, y_pred)\n",
        "print(\"MAPE:\",mape)"
      ],
      "metadata": {
        "colab": {
          "base_uri": "https://localhost:8080/"
        },
        "id": "ZrcXqWwXxvcc",
        "outputId": "06303cc5-f263-433f-d8f1-54b70dfb714e"
      },
      "execution_count": 31,
      "outputs": [
        {
          "output_type": "stream",
          "name": "stdout",
          "text": [
            "Evaluation metrics for exp 1\n",
            "R^2 score for liner regression:  0.9378774527546958\n",
            "MSE: 0.0017403310097797704\n",
            "MAE: 0.02936072078031799\n",
            "MAPE: 0.5298329351970774\n"
          ]
        }
      ]
    },
    {
      "cell_type": "code",
      "source": [
        "plt.scatter(y_test,y_pred,color='blue')\n",
        "plt.xlabel('Measured')\n",
        "plt.ylabel('Predicted')\n",
        "plt.title('Linear Regression Predicted vs Actual')\n",
        "plt.show()"
      ],
      "metadata": {
        "colab": {
          "base_uri": "https://localhost:8080/",
          "height": 295
        },
        "id": "n2gnGgogY9XN",
        "outputId": "36171e1f-753d-48ba-f01b-b0608a77f685"
      },
      "execution_count": 32,
      "outputs": [
        {
          "output_type": "display_data",
          "data": {
            "text/plain": [
              "<Figure size 432x288 with 1 Axes>"
            ],
            "image/png": "[encoded data removed]"
          },
          "metadata": {
            "needs_background": "light"
          }
        }
      ]
    },
    {
      "cell_type": "markdown",
      "source": [
        "**Experiment:2  60:40**"
      ],
      "metadata": {
        "id": "L7V9EWmgWAI_"
      }
    },
    {
      "cell_type": "code",
      "source": [
        "X_train, X_test, y_train, y_test = train_test_split(features, target, test_size=0.4)\n",
        "from sklearn.linear_model import LinearRegression\n",
        "regressor = LinearRegression(normalize=True)\n",
        "regressor.fit(X_train, y_train)\n",
        "print(\"Predicted values:\", regressor.predict(X_test))\n",
        "y_pred = regressor.predict(X_test)\n",
        "y_pred.shape\n",
        "\n"
      ],
      "metadata": {
        "colab": {
          "base_uri": "https://localhost:8080/"
        },
        "id": "RTQZKrTFWGkt",
        "outputId": "4f47efab-c363-48d6-fb95-3f218a2ae777"
      },
      "execution_count": 33,
      "outputs": [
        {
          "output_type": "stream",
          "name": "stdout",
          "text": [
            "Predicted values: [ 0.08211012  0.2251868   0.60465279  0.78142573  0.46655853  0.46819559\n",
            "  0.53205357  0.36767897  0.50791532  0.06055978  0.25502468  0.08282651\n",
            "  0.48948569  0.36475757  0.4854576   0.25251382  0.20401121  0.81519269\n",
            "  0.56487212  0.09828784  0.29091009  0.42588587  0.31696716  0.44941665\n",
            "  0.25665725  0.5346029   0.38368555  0.22504501  0.1984831   0.34232825\n",
            "  0.10074732  0.15465482  0.0077268   0.1131396   0.34405445  0.38818104\n",
            "  0.37515503  0.12131291  0.29816176  0.16654506  0.39671531  0.26830645\n",
            "  0.13509884  0.12260716  0.29097639  0.18843512  0.19678986  0.24971875\n",
            "  0.072823    0.14837479  0.32741876  0.81310539  0.14820908  0.15991722\n",
            "  0.18145216 -0.0180625   0.5602301   0.37468137  0.13396393  0.13102223\n",
            "  0.51607981  0.21418592  0.15816627  0.07698148  0.20928054  0.18067251\n",
            "  0.2403523   0.3170582   0.50540625  0.25788502 -0.05090182  0.13231759\n",
            "  0.23960726  0.06435019  0.10924038  0.15724876  0.20308382  0.18208547\n",
            "  0.29816654  0.32193022  0.32521223  0.30516759 -0.01848173  0.25014642\n",
            "  0.19662873  0.21695752  0.18187938  0.21094708  0.07575585  0.32711754\n",
            "  0.69011224  0.28125789  0.26230567 -0.00777867  0.13983443  0.34250199\n",
            "  0.37674276  0.09717509  0.35501292  0.10813684  0.07261251  0.09094035\n",
            "  0.09571971  0.30340493  0.30752156  0.61940004  0.39974244  0.96057441\n",
            "  0.21903301  0.40634629  0.36309713  0.12264408  0.2252352   0.70099213\n",
            "  0.15056471  0.23105065  0.05301398  0.23935334  0.35438432  0.43628803\n",
            "  0.32462193  0.31850787  0.27221728  0.33093577  0.26511034  0.1729308\n",
            "  0.05794709  0.22071288  0.11562618  0.12863821  0.34520757  0.59746442\n",
            "  0.49392913  0.13276307  0.25499527  0.48045141  0.95595509  0.26220871\n",
            "  0.22209012  0.18700998  0.13686362  0.45665659  0.08470291  0.23210605\n",
            "  0.00898605  0.07799642  0.36196695  0.36318453  0.12728912  0.36598448\n",
            "  0.04027312  0.08254486  0.29072984  0.05216733  0.31664556  0.37399824\n",
            "  0.09393674  0.141075    0.3424357   0.22770582  0.46208521  0.18000964\n",
            "  0.15018335  0.61861763  0.01152047  0.26249794  0.40292309  0.32065478\n",
            "  0.34874669  0.28375764  0.1997706   0.26568998  0.14756026  0.41431087\n",
            "  0.45579561  0.35714805  0.52241056  0.38639724  0.29204028  0.18419044\n",
            "  0.1217402   0.50737334  0.30634408  0.27296016  0.26266868  0.11138947\n",
            "  0.21790241  0.24135928  0.28397725  0.24166958  0.02783277  0.17261905\n",
            "  0.33354152  0.1435457  -0.06495309  0.57043552  0.21450395  0.23265462\n",
            "  0.80976066  0.02286098  0.53997002  0.28969762  0.41594169  0.20608632\n",
            "  0.12949153  0.0806858   0.26029259  0.22590131  0.00954982  0.42547088\n",
            "  0.21719708  0.43038307  0.2076648   0.09712194  0.33344595  0.35746234\n",
            "  0.37547398  0.3340338   0.37410965  0.00168247  0.18436528  0.25656788\n",
            "  0.54467909  0.22398162  0.22964982  0.18789092  0.32678643  0.20818406\n",
            "  0.17790291  0.47465567  0.14073742  0.21963114  0.19730761  0.0571013\n",
            "  0.23501306  0.17412618  0.53996036  0.14062392  0.19439512  0.21895258\n",
            "  0.19674955  0.07303023  0.38105799  0.22181121  0.26093517  0.25259829\n",
            "  0.19837507  0.12895183  0.21802577  0.20284744  0.01390314  0.09328587\n",
            "  0.08577438  0.28049925  0.48683584  0.34340163  0.09105635  0.39671515\n",
            "  0.07363195  0.17142257 -0.0333973   0.20556539  0.51084841  0.19464088\n",
            "  0.21916253  0.10664609  0.32030311  0.0614458   0.5253539   0.03459112\n",
            "  0.4091984   0.20068188  0.12392027  0.17197677  0.22414004  0.45903559\n",
            "  0.21768121  0.22473652  0.49284245  0.36252767]\n"
          ]
        },
        {
          "output_type": "execute_result",
          "data": {
            "text/plain": [
              "(280,)"
            ]
          },
          "metadata": {},
          "execution_count": 33
        }
      ]
    },
    {
      "cell_type": "code",
      "source": [
        "print(\"Evaluation metrics for exp 2\")\n",
        "print(\"R^2 score for liner regression: \", regressor.score(X_test, y_test))\n",
        "mse = sklearn.metrics.mean_squared_error(y_test, y_pred)\n",
        "print(\"MSE:\",mse)\n",
        "mae = sklearn.metrics.mean_absolute_error(y_test, y_pred)\n",
        "print(\"MAE:\",mae)\n",
        "mape = sklearn.metrics.mean_absolute_percentage_error(y_test, y_pred)\n",
        "print(\"MAPE:\",mape)"
      ],
      "metadata": {
        "colab": {
          "base_uri": "https://localhost:8080/"
        },
        "id": "JHQgK3iI3uxY",
        "outputId": "f1e505b4-3d68-44cd-8ff8-495f24eb7da3"
      },
      "execution_count": 34,
      "outputs": [
        {
          "output_type": "stream",
          "name": "stdout",
          "text": [
            "Evaluation metrics for exp 2\n",
            "R^2 score for liner regression:  0.9522039811774419\n",
            "MSE: 0.001548496412960792\n",
            "MAE: 0.03067384348596758\n",
            "MAPE: 0.2767136732001696\n"
          ]
        }
      ]
    },
    {
      "cell_type": "code",
      "source": [
        "\n",
        "plt.scatter(y_test,y_pred,color='red')\n",
        "plt.xlabel('Measured')\n",
        "plt.ylabel('Predicted')\n",
        "plt.title('Linear Regression Predicted vs Actual')\n",
        "plt.show()"
      ],
      "metadata": {
        "colab": {
          "base_uri": "https://localhost:8080/",
          "height": 295
        },
        "id": "0VHtauKw3xAY",
        "outputId": "1597deca-9533-4ea8-e2b0-26185a25e190"
      },
      "execution_count": 35,
      "outputs": [
        {
          "output_type": "display_data",
          "data": {
            "text/plain": [
              "<Figure size 432x288 with 1 Axes>"
            ],
            "image/png": "[encoded data removed]"
          },
          "metadata": {
            "needs_background": "light"
          }
        }
      ]
    },
    {
      "cell_type": "markdown",
      "source": [
        "**Experiment:3 50:50**"
      ],
      "metadata": {
        "id": "Xo3i2wcPWdRX"
      }
    },
    {
      "cell_type": "code",
      "source": [
        "X_train, X_test, y_train, y_test = train_test_split(features, target, test_size=0.5)\n",
        "from sklearn.linear_model import LinearRegression\n",
        "regressor = LinearRegression(normalize=True)\n",
        "regressor.fit(X_train, y_train)\n",
        "print(\"Predicted values:\", regressor.predict(X_test))\n",
        "y_pred = regressor.predict(X_test)\n",
        "y_pred.shape\n",
        "\n"
      ],
      "metadata": {
        "colab": {
          "base_uri": "https://localhost:8080/"
        },
        "id": "5mYJSq5aWx17",
        "outputId": "dee8e7d9-c203-4de6-8358-076f218261a9"
      },
      "execution_count": 36,
      "outputs": [
        {
          "output_type": "stream",
          "name": "stdout",
          "text": [
            "Predicted values: [ 0.16954108  0.31739881  0.37025445  0.51587536  0.47554366  0.37013363\n",
            "  0.12257579  0.12577912  0.15101263  0.20833541  0.15705775  0.01410223\n",
            "  0.02400318  0.11694761  0.32379307  0.24786766  0.4613028   0.46651408\n",
            "  0.23437539  0.09790449 -0.03348777  0.02676863  0.29557007  0.18632962\n",
            "  0.3868858   0.30532733  0.23793271  0.18766501  0.06067469  0.33578315\n",
            "  0.50461011  0.21399534  0.79622281  0.11484087  0.15242656  0.39396856\n",
            "  0.60603382  0.03768497  0.16996315  0.49092246  0.28156611  0.13815984\n",
            "  0.09664685  0.06849564  0.03897583  0.31805633  0.64653156  0.49014591\n",
            "  0.47392246  0.233561    0.27433988  0.2271039  -0.06906102 -0.04419485\n",
            "  0.22442129 -0.04100345  0.59140786  0.61487151  0.40514369  0.33599491\n",
            "  0.45754217  0.07000651  0.37586476  0.37893494  0.21687748  0.31707036\n",
            "  0.1069482   0.41576531  0.09718968  0.15394619  0.19273337  0.46747848\n",
            "  0.30537876  0.38224624  0.25586902  0.27234781  0.07821113  0.21451915\n",
            "  0.37746062  0.39269848  0.61826686  0.53583244  0.53684979  0.25107424\n",
            "  0.07829614  0.12114957  0.18336613  0.1790003   0.36246156  0.27370923\n",
            "  0.22197195  0.46324605  0.27834689  0.22398484  0.23831591 -0.06046339\n",
            "  0.34154768  0.19387032  0.55219389  0.10192132  0.22227854  0.16407618\n",
            "  0.28439096  0.07883852  0.46117628  0.16944335  0.19110518  0.17235026\n",
            "  0.35201027  0.05086026  0.2606416  -0.01690396  0.44821615  0.21986059\n",
            "  0.30048201  0.30254204  0.20203916  0.43108625  0.11382506  0.21927068\n",
            "  0.78025204  0.21688001  0.40838227  0.37865425  0.29109864  0.10912938\n",
            "  0.34295362  0.23421221  0.26978647  0.37516835  0.09558773  0.26511826\n",
            "  0.35775429  0.13410247  0.34344182  0.37197846  0.15791266  0.23622463\n",
            "  0.51132554  0.461151    0.37147017  0.24328295  0.07799072  0.40300298\n",
            " -0.0107096   0.35676038  0.1295295   0.45206454  0.18056641  0.2393054\n",
            "  0.34855435 -0.05183116  0.5268359   0.09066765  0.18091948  0.07735459\n",
            "  0.20363343  0.21529087  0.50749952  0.19849519  0.69326601  0.35219844\n",
            "  0.2940018   0.37010171  0.37129565  0.21281158  0.0540064   0.2220831\n",
            "  0.20211596  0.25937504  0.1373133   0.28776058  0.19145584  0.09922188\n",
            "  0.22570899  0.10930005  0.80298166  0.13058555  0.25744622  0.15201594\n",
            "  0.00928124  0.16799026  0.19438768  0.04567026  0.31709683  0.21502463\n",
            "  0.27153731  0.2290604   0.11869526  0.3208519   0.41372648  0.16509195\n",
            " -0.01972448  0.10222321  0.38894311  0.24835784  0.22321379  0.18246711\n",
            "  0.22528018  0.1428883   0.48835165  0.53137814  0.14703062  0.14439658\n",
            "  0.08225261  0.26446028  0.04861145  0.24706429  0.04369857  0.25190126\n",
            "  0.06226834  0.56596666  0.47572347  0.21035212  0.54698773  0.18269568\n",
            "  0.12781643  0.27820925  0.22414979  0.41699544  0.9599228   0.45803742\n",
            "  0.01294677  0.2307999   0.09794242  0.25217156  0.24900347  0.58536562\n",
            "  0.36853963  0.36801275  0.06659134  0.14753949  0.29538486  0.28669349\n",
            "  0.02887391  0.10144126  0.04607936 -0.03389647  0.26523352  0.07599829\n",
            "  0.17270936  0.08551766  0.56820579  0.19295847  0.21997216  0.29650367\n",
            "  0.14229573  0.48334428  0.66973124  0.33501407  0.218739    0.00788724\n",
            "  0.31373697  0.48416752  0.05052502  0.28832436  0.10207672  0.35732686\n",
            "  0.37111931  0.32112405  0.50331674  0.17817581  0.03784453  0.59154063\n",
            "  0.07163675  0.31489764  0.09458826  0.22494301  0.33451943  0.13548878\n",
            "  0.23302284  0.20130016  0.26920647  0.30462312  0.00792671 -0.00937162\n",
            "  0.29932067  0.15266342  0.16356781  0.39179561  0.20867114  0.16747879\n",
            "  0.33185681 -0.02994726  0.25986928  0.25285796  0.24114188  0.05713689\n",
            "  0.24477998  0.68924183  0.21930248  0.37063266 -0.02770131  0.44837695\n",
            "  0.44307183  0.11137455  0.37539812  0.203908    0.19440699  0.01390497\n",
            "  0.08066894  0.1367204   0.30212012  0.23097929  0.24210829  0.00975418\n",
            "  0.26656077  0.12491175  0.12946667  0.11450585  0.25379474  0.35478541\n",
            "  0.04189353  0.20917108  0.3357622   0.23822922  0.07395829  0.3001243\n",
            "  0.85467563  0.12146289  0.11245597  0.26554607  0.15447116  0.4390109\n",
            "  0.19567881  0.30823538  0.64512658  0.18329649  0.51229411  0.25571848\n",
            "  0.14729223  0.20723326  0.00789525  0.25396355  0.32580586  0.18953231\n",
            "  0.5608805   0.39414863  0.76825434  0.36221164  0.30871927  0.36060268\n",
            "  0.209687    0.19146122  0.46994057  0.11081667  0.01524861  0.61413036\n",
            "  0.08501614  0.52024789]\n"
          ]
        },
        {
          "output_type": "execute_result",
          "data": {
            "text/plain": [
              "(350,)"
            ]
          },
          "metadata": {},
          "execution_count": 36
        }
      ]
    },
    {
      "cell_type": "code",
      "source": [
        "print(\"Evaluation metrics for exp 3\")\n",
        "print(\"R^2 score for liner regression: \", regressor.score(X_test, y_test))\n",
        "\n",
        "mse = sklearn.metrics.mean_squared_error(y_test, y_pred)\n",
        "print(\"MSE:\",mse)\n",
        "mae = sklearn.metrics.mean_absolute_error(y_test, y_pred)\n",
        "print(\"MAE:\",mae)\n",
        "mape = sklearn.metrics.mean_absolute_percentage_error(y_test, y_pred)\n",
        "print(\"MAPE:\",mape)"
      ],
      "metadata": {
        "colab": {
          "base_uri": "https://localhost:8080/"
        },
        "id": "sFtRHC8131NI",
        "outputId": "b8caa11b-1306-478f-ceef-edc99eddc918"
      },
      "execution_count": 37,
      "outputs": [
        {
          "output_type": "stream",
          "name": "stdout",
          "text": [
            "Evaluation metrics for exp 3\n",
            "R^2 score for liner regression:  0.9389317461187343\n",
            "MSE: 0.002076704543570075\n",
            "MAE: 0.03357184401771201\n",
            "MAPE: 568674035435.6997\n"
          ]
        }
      ]
    },
    {
      "cell_type": "code",
      "source": [
        "\n",
        "plt.scatter(y_test,y_pred,color='yellow')\n",
        "plt.xlabel('Measured')\n",
        "plt.ylabel('Predicted')\n",
        "plt.title('Linear Regression Predicted vs Actual')\n",
        "plt.show()"
      ],
      "metadata": {
        "colab": {
          "base_uri": "https://localhost:8080/",
          "height": 295
        },
        "id": "sD0C8qyb3yuf",
        "outputId": "dabf48cf-0ee3-4c37-be6b-b07e09f595dc"
      },
      "execution_count": 38,
      "outputs": [
        {
          "output_type": "display_data",
          "data": {
            "text/plain": [
              "<Figure size 432x288 with 1 Axes>"
            ],
            "image/png": "[encoded data removed]"
          },
          "metadata": {
            "needs_background": "light"
          }
        }
      ]
    },
    {
      "cell_type": "markdown",
      "source": [
        "**Experiment:4   40:60**"
      ],
      "metadata": {
        "id": "SvRnYuOaZVuF"
      }
    },
    {
      "cell_type": "code",
      "source": [
        "X_train, X_test, y_train, y_test = train_test_split(features, target, test_size=0.6)\n",
        "from sklearn.linear_model import LinearRegression\n",
        "import sklearn.metrics\n",
        "from sklearn.metrics import precision_score, recall_score,f1_score, accuracy_score\n",
        "regressor = LinearRegression(normalize=True)\n",
        "regressor.fit(X_train, y_train)\n",
        "print(\"Predicted values:\", regressor.predict(X_test))\n",
        "y_pred = regressor.predict(X_test)\n",
        "y_pre=y_pred.round\n",
        "\n",
        "\n"
      ],
      "metadata": {
        "colab": {
          "base_uri": "https://localhost:8080/"
        },
        "id": "E3mrpTUSW4-V",
        "outputId": "40d31ac3-76e0-4899-a055-8581ebb43c97"
      },
      "execution_count": 39,
      "outputs": [
        {
          "output_type": "stream",
          "name": "stdout",
          "text": [
            "Predicted values: [ 8.31810353e-02  3.67852308e-01  4.89893554e-01  2.01851472e-01\n",
            "  3.01526900e-01  3.86197188e-01  1.99679188e-01  2.07974830e-01\n",
            "  2.72021449e-01  3.43267298e-01  5.61801486e-01  2.17005624e-01\n",
            "  3.46568794e-01  2.92283707e-01  7.86542538e-02  8.17518481e-02\n",
            "  5.28135991e-02  4.03695525e-02  2.30382060e-01  3.05094395e-02\n",
            "  2.81784237e-01  3.06909134e-01  5.04844202e-01  7.58615608e-02\n",
            "  5.63981348e-01  3.32758978e-01  2.22447405e-01  7.55799754e-02\n",
            "  2.07738275e-01  2.92332960e-01  1.14861966e-01  2.39556804e-01\n",
            " -3.36412000e-02  2.48228083e-01  6.37340283e-02  1.36960584e-01\n",
            "  1.60937144e-01  2.34408494e-01  1.78062372e-02  3.43025388e-01\n",
            " -2.24710490e-02  1.88769004e-01  1.57298904e-02  1.47610616e-01\n",
            "  7.73577793e-01  4.88333712e-02  1.04929892e-01  2.11177062e-01\n",
            "  3.07558543e-01  1.58259720e-01  8.38136182e-03  4.27835651e-01\n",
            "  2.18492107e-01  1.89352694e-01  3.20474495e-01  4.60065282e-01\n",
            "  6.37877916e-01  8.80272914e-02  2.18534592e-01  2.96732011e-01\n",
            "  5.10815707e-01  5.58496855e-01  1.86600496e-01  5.58210879e-01\n",
            "  1.82297097e-01  3.10425953e-01  8.09613999e-02  3.65781967e-02\n",
            "  3.81118894e-01 -2.18809597e-03  1.20621479e-01  2.19115504e-01\n",
            "  4.93835721e-01  2.96284426e-01  5.60152596e-01  4.21072801e-01\n",
            "  3.13178554e-01  1.00140915e-01  4.59341650e-01  2.33482727e-01\n",
            "  2.05224296e-01  1.99293207e-01  7.81439351e-01  2.21623402e-01\n",
            "  3.30450791e-01  7.04197869e-02  2.79683525e-01  5.29835060e-01\n",
            "  6.16361103e-01  2.66563214e-01  1.73326478e-01  5.28650435e-01\n",
            "  1.25658092e-01  4.39435798e-01  3.20148935e-01  3.70707131e-01\n",
            "  1.59311782e-01  8.60102370e-02  2.10642579e-01  3.17543999e-01\n",
            "  3.70575610e-01  9.54315582e-02  1.45804625e-01  5.41318793e-01\n",
            "  5.17789560e-01  2.74616503e-01  1.78862611e-01  3.45831380e-01\n",
            "  3.23731711e-01  1.10244329e-01  3.76280110e-01  1.39273258e-01\n",
            "  2.26600057e-03  3.20428841e-01  2.12153107e-01  6.08650316e-02\n",
            "  1.21462732e-01  1.52976033e-01  3.12653296e-01  2.11424692e-01\n",
            "  1.93891882e-01  4.64055381e-01  2.15107641e-01  2.28789246e-01\n",
            "  4.11178233e-01  6.92149206e-02  1.03915503e-01  1.87407402e-01\n",
            "  2.31487239e-01  1.77394802e-01  3.20412956e-01  2.88871535e-01\n",
            "  4.55762543e-02  2.02467164e-01 -6.25622123e-02  2.46419421e-01\n",
            "  1.92783520e-01  4.91742207e-02  2.51301281e-01  2.09868353e-01\n",
            "  1.25851008e-01  1.41147887e-01 -2.96973280e-03  1.64058777e-01\n",
            "  5.11266776e-02  3.47384948e-01  2.07391774e-01  4.68062190e-01\n",
            "  2.23405700e-01  6.93223426e-01  2.08958643e-01  4.95895589e-01\n",
            "  3.54338655e-01  4.54234825e-01  2.19879384e-01 -2.26196764e-02\n",
            "  2.56923122e-02  3.42571517e-01  2.00617587e-01  9.70170557e-01\n",
            "  1.03262775e-01  2.91477585e-01  1.62337765e-01  4.85519596e-01\n",
            "  6.48821607e-02 -9.66309758e-03  3.51779276e-01  7.71598066e-01\n",
            "  7.16459050e-01  5.22708008e-01  9.32598643e-04  1.31946041e-01\n",
            "  1.01619011e-01  2.47207006e-01  8.13694318e-02  1.06777860e-01\n",
            "  2.68281988e-01  3.87982863e-01  4.03016401e-01  2.48767291e-01\n",
            "  3.38400260e-01  7.54429050e-02  4.21537614e-01  3.37674933e-01\n",
            "  1.71225044e-01  1.41752236e-01  2.81695101e-01  9.62540040e-02\n",
            "  5.66183137e-02  5.06860193e-01  9.50540927e-02  3.88405421e-01\n",
            "  1.24681397e-01  2.54092296e-01  3.72353080e-01  7.31183327e-02\n",
            "  1.58518145e-01  2.21767783e-01  2.19086814e-01  3.64338546e-01\n",
            "  3.10627235e-01  8.32497846e-02  5.63085223e-02  3.97040397e-01\n",
            "  8.07376228e-01  1.84552721e-01  3.73490244e-01  8.35784957e-02\n",
            "  3.74350445e-01  3.61439222e-01  1.97521970e-01  1.45227682e-01\n",
            "  1.69476749e-01  2.31407638e-02  4.05149063e-01  3.22212887e-01\n",
            "  3.03842488e-01  2.84518695e-01  2.51322604e-01  2.19771708e-01\n",
            "  3.00497650e-01  2.72900440e-03  4.18045243e-01  5.08388534e-01\n",
            "  3.44059235e-01  6.89012934e-01  5.15763598e-01  9.47212049e-02\n",
            "  4.58023633e-01  3.27257347e-01  1.51061960e-01  3.84597853e-02\n",
            "  1.21979203e-01  1.42892249e-01  1.09303159e-01  3.60732734e-01\n",
            "  4.00004388e-01  3.95354784e-02 -6.47653202e-02  1.07486004e-01\n",
            "  2.57183703e-01  2.83028228e-01  1.12548525e-01  1.47708731e-01\n",
            "  3.13127161e-01  1.47786385e-01  4.58302024e-01  5.77313883e-02\n",
            "  8.27515391e-01  5.00123202e-01  2.99098017e-01  4.28196694e-01\n",
            "  1.34362657e-01  2.46640008e-01  1.91764642e-01  2.24494805e-01\n",
            "  2.66153277e-01  6.09233572e-02  5.92292732e-01  4.47535169e-02\n",
            "  1.53390453e-01  2.40411434e-01  9.02778365e-02  2.02805399e-02\n",
            "  1.00293077e-01  3.43378307e-01  2.09851373e-01 -2.13959622e-02\n",
            "  3.09116763e-01  3.34821907e-01  5.36874454e-01  6.45638659e-02\n",
            "  2.30646963e-01  3.48152157e-01  2.06854287e-01 -7.71392069e-03\n",
            "  6.28788208e-02  1.28634288e-01  3.25154229e-01  2.91514679e-01\n",
            "  2.92118178e-01  4.79828593e-01  4.09941311e-01  5.47040483e-01\n",
            "  3.58657165e-01  3.97594168e-01  4.82156643e-01  2.42098654e-01\n",
            "  1.88544470e-01  8.90098810e-01  2.85317448e-01  2.85382894e-01\n",
            "  1.61127280e-01  5.13590976e-01  7.11364082e-02  2.82284051e-01\n",
            "  1.73263418e-02  2.62460203e-01  2.56435598e-01  4.11936297e-01\n",
            "  1.51411300e-01  1.26654139e-01  1.66420553e-01  2.85482368e-02\n",
            "  2.25218943e-01  1.96668435e-01 -2.86985936e-02  8.91881394e-02\n",
            "  2.64069690e-01  4.77560955e-02  2.70088143e-02  1.40890837e-01\n",
            "  2.53280532e-01  2.21349196e-01  1.73240986e-01  8.25293278e-02\n",
            "  1.25975818e-01  4.02140729e-02  5.03600012e-01  4.49822800e-01\n",
            "  8.80627945e-02  1.45036046e-01  1.39100711e-01  1.21515394e-01\n",
            "  8.42532899e-02  2.32045284e-02  8.37717682e-01  2.73928856e-01\n",
            " -5.72219913e-02  1.20834903e-01  1.99875040e-01  4.87546407e-01\n",
            "  1.08432963e-01  1.96656345e-01  4.76050100e-01  1.96932617e-01\n",
            "  4.09130809e-01 -3.22211374e-02  1.38711406e-01  7.91429604e-01\n",
            "  1.21768867e-01  3.87246448e-01  2.24915753e-01  4.42761195e-01\n",
            "  3.63051930e-01  3.11951065e-01  1.51494524e-01  2.26570989e-01\n",
            "  3.07297233e-01  1.27744665e-01  7.74709684e-02  4.11820469e-01\n",
            "  3.26258092e-01 -4.16913035e-02  4.67953726e-01  6.94900988e-02\n",
            "  2.01869465e-01  5.80042618e-01  1.06264984e-01  1.58352106e-01\n",
            "  5.81637824e-02  6.48827477e-02  2.57562512e-01  5.80590884e-01\n",
            "  2.28819192e-01  5.43335604e-01  1.04799196e-01 -5.86615718e-02\n",
            "  2.33057750e-01  4.02707217e-01  3.45615208e-01 -3.16096587e-02\n",
            "  1.09176825e-01  1.74736282e-01  3.31193226e-01  1.78175576e-01\n",
            "  9.12820418e-02 -3.70035344e-03  1.78288732e-01  7.73410332e-01\n",
            "  7.73713984e-02  1.16698872e-01  1.98206166e-01  4.27098372e-01\n",
            "  4.60921795e-01  3.82968042e-01  3.26676347e-01  5.27163859e-01\n",
            "  6.64876864e-01  2.15416684e-01  3.06152854e-01  5.90114127e-02\n",
            "  5.12463867e-01  2.60720266e-01  3.37288878e-01  4.29293608e-01\n",
            "  2.15383419e-01  1.84444544e-01  1.29615577e-01  1.33191139e-01\n",
            "  2.29157060e-01  3.06383710e-01  3.87364300e-01  2.49730620e-01\n",
            "  4.75448146e-01  3.86412812e-01 -4.46572797e-02  2.28426343e-01\n",
            "  3.38408455e-01  3.29222042e-01  1.06659405e-01  2.62968630e-01\n",
            "  3.22725786e-01  4.03082009e-01  1.92395072e-01  3.91227391e-01\n",
            "  1.04347391e-01  4.53000476e-02  2.14288595e-01  6.83210117e-01]\n"
          ]
        }
      ]
    },
    {
      "cell_type": "code",
      "source": [
        "print(\"Evaluation metrics for exp 4\")\n",
        "print(\"R^2 score for liner regression: \", regressor.score(X_test, y_test))\n",
        "\n",
        "mse = sklearn.metrics.mean_squared_error(y_test, y_pred)\n",
        "print(\"MSE:\",mse)\n",
        "mae = sklearn.metrics.mean_absolute_error(y_test, y_pred)\n",
        "print(\"MAE:\",mae)\n",
        "mape = sklearn.metrics.mean_absolute_percentage_error(y_test, y_pred)\n",
        "print(\"MAPE:\",mape)"
      ],
      "metadata": {
        "colab": {
          "base_uri": "https://localhost:8080/"
        },
        "id": "8yHr-P6D34jJ",
        "outputId": "27f9a1d2-e4b6-4454-cb2b-edf1dfbb649a"
      },
      "execution_count": 40,
      "outputs": [
        {
          "output_type": "stream",
          "name": "stdout",
          "text": [
            "Evaluation metrics for exp 4\n",
            "R^2 score for liner regression:  0.9465128215978589\n",
            "MSE: 0.0018264518314212777\n",
            "MAE: 0.032209627540786115\n",
            "MAPE: 0.5175602111729913\n"
          ]
        }
      ]
    },
    {
      "cell_type": "code",
      "source": [
        "plt.scatter(y_test,y_pred,color='green')\n",
        "plt.xlabel('Measured')\n",
        "plt.ylabel('Predicted')\n",
        "plt.title('Linear Regression Predicted vs Actual')\n",
        "plt.show()"
      ],
      "metadata": {
        "colab": {
          "base_uri": "https://localhost:8080/",
          "height": 295
        },
        "id": "pCxbo8OUwB9x",
        "outputId": "c5e96fec-ca5b-465c-8a1b-bf34157f862c"
      },
      "execution_count": 41,
      "outputs": [
        {
          "output_type": "display_data",
          "data": {
            "text/plain": [
              "<Figure size 432x288 with 1 Axes>"
            ],
            "image/png": "[encoded data removed]"
          },
          "metadata": {
            "needs_background": "light"
          }
        }
      ]
    },
    {
      "cell_type": "markdown",
      "source": [
        "### **LASSO REGRESSION**\n",
        "# **Exp:1**"
      ],
      "metadata": {
        "id": "EmjpkznM7CNi"
      }
    },
    {
      "cell_type": "code",
      "source": [
        "X_train, X_test, y_train, y_test = train_test_split(features, target, test_size=0.3)\n",
        "\n",
        "print('Training data size:',X_train.shape)\n",
        "print('Test data size:',X_test.shape)"
      ],
      "metadata": {
        "colab": {
          "base_uri": "https://localhost:8080/"
        },
        "id": "bTvtE2D_6_cp",
        "outputId": "aa840d2c-b228-4dc6-9d6c-e3c164d5e692"
      },
      "execution_count": 42,
      "outputs": [
        {
          "output_type": "stream",
          "name": "stdout",
          "text": [
            "Training data size: (490, 7)\n",
            "Test data size: (210, 7)\n"
          ]
        }
      ]
    },
    {
      "cell_type": "code",
      "source": [
        "from sklearn.linear_model import Lasso\n",
        "lasso = Lasso()\n",
        "lasso.fit(X_train, y_train)"
      ],
      "metadata": {
        "colab": {
          "base_uri": "https://localhost:8080/"
        },
        "id": "HhFjKw8M7TDY",
        "outputId": "f2092c70-4b1c-4c8f-a07a-d90795fefa84"
      },
      "execution_count": 43,
      "outputs": [
        {
          "output_type": "execute_result",
          "data": {
            "text/plain": [
              "Lasso()"
            ]
          },
          "metadata": {},
          "execution_count": 43
        }
      ]
    },
    {
      "cell_type": "code",
      "source": [
        "print(\"Predicted values:\", lasso.predict(X_test))\n",
        "y_pred = lasso.predict(X_test)"
      ],
      "metadata": {
        "colab": {
          "base_uri": "https://localhost:8080/"
        },
        "id": "AHNY4XyJ7bJv",
        "outputId": "41131ed6-997d-455c-e80d-5217d2a26ad9"
      },
      "execution_count": 44,
      "outputs": [
        {
          "output_type": "stream",
          "name": "stdout",
          "text": [
            "Predicted values: [0.25295392 0.25295392 0.25295392 0.25295392 0.25295392 0.25295392\n",
            " 0.25295392 0.25295392 0.25295392 0.25295392 0.25295392 0.25295392\n",
            " 0.25295392 0.25295392 0.25295392 0.25295392 0.25295392 0.25295392\n",
            " 0.25295392 0.25295392 0.25295392 0.25295392 0.25295392 0.25295392\n",
            " 0.25295392 0.25295392 0.25295392 0.25295392 0.25295392 0.25295392\n",
            " 0.25295392 0.25295392 0.25295392 0.25295392 0.25295392 0.25295392\n",
            " 0.25295392 0.25295392 0.25295392 0.25295392 0.25295392 0.25295392\n",
            " 0.25295392 0.25295392 0.25295392 0.25295392 0.25295392 0.25295392\n",
            " 0.25295392 0.25295392 0.25295392 0.25295392 0.25295392 0.25295392\n",
            " 0.25295392 0.25295392 0.25295392 0.25295392 0.25295392 0.25295392\n",
            " 0.25295392 0.25295392 0.25295392 0.25295392 0.25295392 0.25295392\n",
            " 0.25295392 0.25295392 0.25295392 0.25295392 0.25295392 0.25295392\n",
            " 0.25295392 0.25295392 0.25295392 0.25295392 0.25295392 0.25295392\n",
            " 0.25295392 0.25295392 0.25295392 0.25295392 0.25295392 0.25295392\n",
            " 0.25295392 0.25295392 0.25295392 0.25295392 0.25295392 0.25295392\n",
            " 0.25295392 0.25295392 0.25295392 0.25295392 0.25295392 0.25295392\n",
            " 0.25295392 0.25295392 0.25295392 0.25295392 0.25295392 0.25295392\n",
            " 0.25295392 0.25295392 0.25295392 0.25295392 0.25295392 0.25295392\n",
            " 0.25295392 0.25295392 0.25295392 0.25295392 0.25295392 0.25295392\n",
            " 0.25295392 0.25295392 0.25295392 0.25295392 0.25295392 0.25295392\n",
            " 0.25295392 0.25295392 0.25295392 0.25295392 0.25295392 0.25295392\n",
            " 0.25295392 0.25295392 0.25295392 0.25295392 0.25295392 0.25295392\n",
            " 0.25295392 0.25295392 0.25295392 0.25295392 0.25295392 0.25295392\n",
            " 0.25295392 0.25295392 0.25295392 0.25295392 0.25295392 0.25295392\n",
            " 0.25295392 0.25295392 0.25295392 0.25295392 0.25295392 0.25295392\n",
            " 0.25295392 0.25295392 0.25295392 0.25295392 0.25295392 0.25295392\n",
            " 0.25295392 0.25295392 0.25295392 0.25295392 0.25295392 0.25295392\n",
            " 0.25295392 0.25295392 0.25295392 0.25295392 0.25295392 0.25295392\n",
            " 0.25295392 0.25295392 0.25295392 0.25295392 0.25295392 0.25295392\n",
            " 0.25295392 0.25295392 0.25295392 0.25295392 0.25295392 0.25295392\n",
            " 0.25295392 0.25295392 0.25295392 0.25295392 0.25295392 0.25295392\n",
            " 0.25295392 0.25295392 0.25295392 0.25295392 0.25295392 0.25295392\n",
            " 0.25295392 0.25295392 0.25295392 0.25295392 0.25295392 0.25295392\n",
            " 0.25295392 0.25295392 0.25295392 0.25295392 0.25295392 0.25295392\n",
            " 0.25295392 0.25295392 0.25295392 0.25295392 0.25295392 0.25295392]\n"
          ]
        }
      ]
    },
    {
      "cell_type": "code",
      "source": [
        "print(\"Evaluation metrics for exp 1\")\n",
        "print(\"R^2 score for lasso regression: \", regressor.score(X_test, y_test))\n",
        "\n",
        "mse = sklearn.metrics.mean_squared_error(y_test, y_pred)\n",
        "print(\"MSE:\",mse)\n",
        "mae = sklearn.metrics.mean_absolute_error(y_test, y_pred)\n",
        "print(\"MAE:\",mae)\n",
        "mape = sklearn.metrics.mean_absolute_percentage_error(y_test, y_pred)\n",
        "print(\"MAPE:\",mape)"
      ],
      "metadata": {
        "colab": {
          "base_uri": "https://localhost:8080/"
        },
        "id": "Q5i8_N3j7rZx",
        "outputId": "5d974f78-3a28-4706-8f8d-e6eb7d2c8fdf"
      },
      "execution_count": 45,
      "outputs": [
        {
          "output_type": "stream",
          "name": "stdout",
          "text": [
            "Evaluation metrics for exp 1\n",
            "R^2 score for lasso regression:  0.9342862813150911\n",
            "MSE: 0.027272077936362875\n",
            "MAE: 0.1356244668978422\n",
            "MAPE: 5424777049061.975\n"
          ]
        }
      ]
    },
    {
      "cell_type": "code",
      "source": [
        "plt.scatter(y_test,y_pred)\n",
        "plt.xlabel('Measured')\n",
        "plt.ylabel('Predicted')\n",
        "plt.title('Lasso Regression Predicted vs Actual')"
      ],
      "metadata": {
        "colab": {
          "base_uri": "https://localhost:8080/",
          "height": 312
        },
        "id": "y2vYu7-x7zMd",
        "outputId": "3eac0d4e-b003-499a-f108-604783da924e"
      },
      "execution_count": 46,
      "outputs": [
        {
          "output_type": "execute_result",
          "data": {
            "text/plain": [
              "Text(0.5, 1.0, 'Lasso Regression Predicted vs Actual')"
            ]
          },
          "metadata": {},
          "execution_count": 46
        },
        {
          "output_type": "display_data",
          "data": {
            "text/plain": [
              "<Figure size 432x288 with 1 Axes>"
            ],
            "image/png": "[encoded data removed]"
          },
          "metadata": {
            "needs_background": "light"
          }
        }
      ]
    },
    {
      "cell_type": "markdown",
      "source": [
        "# **Exp:2**"
      ],
      "metadata": {
        "id": "z26y-8LyCjhr"
      }
    },
    {
      "cell_type": "code",
      "source": [
        "\n",
        "X_train, X_test, y_train, y_test = train_test_split(features, target, test_size=0.4)\n",
        "\n",
        "print('Training data size:',X_train.shape)\n",
        "print('Test data size:',X_test.shape)"
      ],
      "metadata": {
        "colab": {
          "base_uri": "https://localhost:8080/"
        },
        "id": "X4lFzXaP79GK",
        "outputId": "b738fc87-e8ea-40a8-e3e6-b8ce1b495779"
      },
      "execution_count": 47,
      "outputs": [
        {
          "output_type": "stream",
          "name": "stdout",
          "text": [
            "Training data size: (420, 7)\n",
            "Test data size: (280, 7)\n"
          ]
        }
      ]
    },
    {
      "cell_type": "code",
      "source": [
        "from sklearn.linear_model import Lasso\n",
        "lasso = Lasso()\n",
        "lasso.fit(X_train, y_train)"
      ],
      "metadata": {
        "colab": {
          "base_uri": "https://localhost:8080/"
        },
        "id": "jtuFQ5efCS78",
        "outputId": "63dd253c-6c34-4c3a-b216-cc3c4f267358"
      },
      "execution_count": 48,
      "outputs": [
        {
          "output_type": "execute_result",
          "data": {
            "text/plain": [
              "Lasso()"
            ]
          },
          "metadata": {},
          "execution_count": 48
        }
      ]
    },
    {
      "cell_type": "code",
      "source": [
        "print(\"Predicted values:\", lasso.predict(X_test))\n",
        "y_pred = lasso.predict(X_test)"
      ],
      "metadata": {
        "colab": {
          "base_uri": "https://localhost:8080/"
        },
        "id": "NxTxAu33CWPT",
        "outputId": "80615716-be68-4b69-c2b0-c5aba90d52f6"
      },
      "execution_count": 49,
      "outputs": [
        {
          "output_type": "stream",
          "name": "stdout",
          "text": [
            "Predicted values: [0.24140669 0.24140669 0.24140669 0.24140669 0.24140669 0.24140669\n",
            " 0.24140669 0.24140669 0.24140669 0.24140669 0.24140669 0.24140669\n",
            " 0.24140669 0.24140669 0.24140669 0.24140669 0.24140669 0.24140669\n",
            " 0.24140669 0.24140669 0.24140669 0.24140669 0.24140669 0.24140669\n",
            " 0.24140669 0.24140669 0.24140669 0.24140669 0.24140669 0.24140669\n",
            " 0.24140669 0.24140669 0.24140669 0.24140669 0.24140669 0.24140669\n",
            " 0.24140669 0.24140669 0.24140669 0.24140669 0.24140669 0.24140669\n",
            " 0.24140669 0.24140669 0.24140669 0.24140669 0.24140669 0.24140669\n",
            " 0.24140669 0.24140669 0.24140669 0.24140669 0.24140669 0.24140669\n",
            " 0.24140669 0.24140669 0.24140669 0.24140669 0.24140669 0.24140669\n",
            " 0.24140669 0.24140669 0.24140669 0.24140669 0.24140669 0.24140669\n",
            " 0.24140669 0.24140669 0.24140669 0.24140669 0.24140669 0.24140669\n",
            " 0.24140669 0.24140669 0.24140669 0.24140669 0.24140669 0.24140669\n",
            " 0.24140669 0.24140669 0.24140669 0.24140669 0.24140669 0.24140669\n",
            " 0.24140669 0.24140669 0.24140669 0.24140669 0.24140669 0.24140669\n",
            " 0.24140669 0.24140669 0.24140669 0.24140669 0.24140669 0.24140669\n",
            " 0.24140669 0.24140669 0.24140669 0.24140669 0.24140669 0.24140669\n",
            " 0.24140669 0.24140669 0.24140669 0.24140669 0.24140669 0.24140669\n",
            " 0.24140669 0.24140669 0.24140669 0.24140669 0.24140669 0.24140669\n",
            " 0.24140669 0.24140669 0.24140669 0.24140669 0.24140669 0.24140669\n",
            " 0.24140669 0.24140669 0.24140669 0.24140669 0.24140669 0.24140669\n",
            " 0.24140669 0.24140669 0.24140669 0.24140669 0.24140669 0.24140669\n",
            " 0.24140669 0.24140669 0.24140669 0.24140669 0.24140669 0.24140669\n",
            " 0.24140669 0.24140669 0.24140669 0.24140669 0.24140669 0.24140669\n",
            " 0.24140669 0.24140669 0.24140669 0.24140669 0.24140669 0.24140669\n",
            " 0.24140669 0.24140669 0.24140669 0.24140669 0.24140669 0.24140669\n",
            " 0.24140669 0.24140669 0.24140669 0.24140669 0.24140669 0.24140669\n",
            " 0.24140669 0.24140669 0.24140669 0.24140669 0.24140669 0.24140669\n",
            " 0.24140669 0.24140669 0.24140669 0.24140669 0.24140669 0.24140669\n",
            " 0.24140669 0.24140669 0.24140669 0.24140669 0.24140669 0.24140669\n",
            " 0.24140669 0.24140669 0.24140669 0.24140669 0.24140669 0.24140669\n",
            " 0.24140669 0.24140669 0.24140669 0.24140669 0.24140669 0.24140669\n",
            " 0.24140669 0.24140669 0.24140669 0.24140669 0.24140669 0.24140669\n",
            " 0.24140669 0.24140669 0.24140669 0.24140669 0.24140669 0.24140669\n",
            " 0.24140669 0.24140669 0.24140669 0.24140669 0.24140669 0.24140669\n",
            " 0.24140669 0.24140669 0.24140669 0.24140669 0.24140669 0.24140669\n",
            " 0.24140669 0.24140669 0.24140669 0.24140669 0.24140669 0.24140669\n",
            " 0.24140669 0.24140669 0.24140669 0.24140669 0.24140669 0.24140669\n",
            " 0.24140669 0.24140669 0.24140669 0.24140669 0.24140669 0.24140669\n",
            " 0.24140669 0.24140669 0.24140669 0.24140669 0.24140669 0.24140669\n",
            " 0.24140669 0.24140669 0.24140669 0.24140669 0.24140669 0.24140669\n",
            " 0.24140669 0.24140669 0.24140669 0.24140669 0.24140669 0.24140669\n",
            " 0.24140669 0.24140669 0.24140669 0.24140669 0.24140669 0.24140669\n",
            " 0.24140669 0.24140669 0.24140669 0.24140669 0.24140669 0.24140669\n",
            " 0.24140669 0.24140669 0.24140669 0.24140669 0.24140669 0.24140669\n",
            " 0.24140669 0.24140669 0.24140669 0.24140669 0.24140669 0.24140669\n",
            " 0.24140669 0.24140669 0.24140669 0.24140669]\n"
          ]
        }
      ]
    },
    {
      "cell_type": "code",
      "source": [
        "print(\"Evaluation metrics for exp 2\")\n",
        "print(\"R^2 score for lasso regression: \", regressor.score(X_test, y_test))\n",
        "\n",
        "mse = sklearn.metrics.mean_squared_error(y_test, y_pred)\n",
        "print(\"MSE:\",mse)\n",
        "mae = sklearn.metrics.mean_absolute_error(y_test, y_pred)\n",
        "print(\"MAE:\",mae)\n",
        "mape = sklearn.metrics.mean_absolute_percentage_error(y_test, y_pred)\n",
        "print(\"MAPE:\",mape)"
      ],
      "metadata": {
        "colab": {
          "base_uri": "https://localhost:8080/"
        },
        "id": "4ZwNG9nhCZvC",
        "outputId": "b95d56a5-ee76-4f28-e711-694b3798c4af"
      },
      "execution_count": 50,
      "outputs": [
        {
          "output_type": "stream",
          "name": "stdout",
          "text": [
            "Evaluation metrics for exp 2\n",
            "R^2 score for lasso regression:  0.9486284899660308\n",
            "MSE: 0.03695305026946997\n",
            "MAE: 0.15198428910297848\n",
            "MAPE: 3882853818418.664\n"
          ]
        }
      ]
    },
    {
      "cell_type": "code",
      "source": [
        "plt.scatter(y_test,y_pred)\n",
        "plt.xlabel('Measured')\n",
        "plt.ylabel('Predicted')\n",
        "plt.title('Lasso Regression Predicted vs Actual')"
      ],
      "metadata": {
        "colab": {
          "base_uri": "https://localhost:8080/",
          "height": 312
        },
        "id": "OtoMp5ycCb5p",
        "outputId": "17df1523-26a8-44bc-ea2b-97dcf0ec464c"
      },
      "execution_count": 51,
      "outputs": [
        {
          "output_type": "execute_result",
          "data": {
            "text/plain": [
              "Text(0.5, 1.0, 'Lasso Regression Predicted vs Actual')"
            ]
          },
          "metadata": {},
          "execution_count": 51
        },
        {
          "output_type": "display_data",
          "data": {
            "text/plain": [
              "<Figure size 432x288 with 1 Axes>"
            ],
            "image/png": "[encoded data removed]"
          },
          "metadata": {
            "needs_background": "light"
          }
        }
      ]
    },
    {
      "cell_type": "markdown",
      "source": [
        "Exp:3"
      ],
      "metadata": {
        "id": "V8IrZZkODAjb"
      }
    },
    {
      "cell_type": "code",
      "source": [
        "\n",
        "X_train, X_test, y_train, y_test = train_test_split(features, target, test_size=0.5)\n",
        "\n",
        "print('Training data size:',X_train.shape)\n",
        "print('Test data size:',X_test.shape)"
      ],
      "metadata": {
        "colab": {
          "base_uri": "https://localhost:8080/"
        },
        "id": "HyYxVNswC935",
        "outputId": "ba65058d-b6a6-440d-fe66-ceac7c74bc5d"
      },
      "execution_count": 52,
      "outputs": [
        {
          "output_type": "stream",
          "name": "stdout",
          "text": [
            "Training data size: (350, 7)\n",
            "Test data size: (350, 7)\n"
          ]
        }
      ]
    },
    {
      "cell_type": "code",
      "source": [
        "from sklearn.linear_model import Lasso\n",
        "lasso = Lasso()\n",
        "lasso.fit(X_train, y_train)"
      ],
      "metadata": {
        "colab": {
          "base_uri": "https://localhost:8080/"
        },
        "id": "jZUJ7COdC937",
        "outputId": "792f7a84-acf5-434f-9c5c-965c36264eaf"
      },
      "execution_count": 53,
      "outputs": [
        {
          "output_type": "execute_result",
          "data": {
            "text/plain": [
              "Lasso()"
            ]
          },
          "metadata": {},
          "execution_count": 53
        }
      ]
    },
    {
      "cell_type": "code",
      "source": [
        "print(\"Predicted values:\", lasso.predict(X_test))\n",
        "y_pred = lasso.predict(X_test)"
      ],
      "metadata": {
        "colab": {
          "base_uri": "https://localhost:8080/"
        },
        "id": "2n6nonLdCu-u",
        "outputId": "876461af-6c38-4659-e97f-5f835c10eba7"
      },
      "execution_count": 54,
      "outputs": [
        {
          "output_type": "stream",
          "name": "stdout",
          "text": [
            "Predicted values: [0.24268471 0.24268471 0.24268471 0.24268471 0.24268471 0.24268471\n",
            " 0.24268471 0.24268471 0.24268471 0.24268471 0.24268471 0.24268471\n",
            " 0.24268471 0.24268471 0.24268471 0.24268471 0.24268471 0.24268471\n",
            " 0.24268471 0.24268471 0.24268471 0.24268471 0.24268471 0.24268471\n",
            " 0.24268471 0.24268471 0.24268471 0.24268471 0.24268471 0.24268471\n",
            " 0.24268471 0.24268471 0.24268471 0.24268471 0.24268471 0.24268471\n",
            " 0.24268471 0.24268471 0.24268471 0.24268471 0.24268471 0.24268471\n",
            " 0.24268471 0.24268471 0.24268471 0.24268471 0.24268471 0.24268471\n",
            " 0.24268471 0.24268471 0.24268471 0.24268471 0.24268471 0.24268471\n",
            " 0.24268471 0.24268471 0.24268471 0.24268471 0.24268471 0.24268471\n",
            " 0.24268471 0.24268471 0.24268471 0.24268471 0.24268471 0.24268471\n",
            " 0.24268471 0.24268471 0.24268471 0.24268471 0.24268471 0.24268471\n",
            " 0.24268471 0.24268471 0.24268471 0.24268471 0.24268471 0.24268471\n",
            " 0.24268471 0.24268471 0.24268471 0.24268471 0.24268471 0.24268471\n",
            " 0.24268471 0.24268471 0.24268471 0.24268471 0.24268471 0.24268471\n",
            " 0.24268471 0.24268471 0.24268471 0.24268471 0.24268471 0.24268471\n",
            " 0.24268471 0.24268471 0.24268471 0.24268471 0.24268471 0.24268471\n",
            " 0.24268471 0.24268471 0.24268471 0.24268471 0.24268471 0.24268471\n",
            " 0.24268471 0.24268471 0.24268471 0.24268471 0.24268471 0.24268471\n",
            " 0.24268471 0.24268471 0.24268471 0.24268471 0.24268471 0.24268471\n",
            " 0.24268471 0.24268471 0.24268471 0.24268471 0.24268471 0.24268471\n",
            " 0.24268471 0.24268471 0.24268471 0.24268471 0.24268471 0.24268471\n",
            " 0.24268471 0.24268471 0.24268471 0.24268471 0.24268471 0.24268471\n",
            " 0.24268471 0.24268471 0.24268471 0.24268471 0.24268471 0.24268471\n",
            " 0.24268471 0.24268471 0.24268471 0.24268471 0.24268471 0.24268471\n",
            " 0.24268471 0.24268471 0.24268471 0.24268471 0.24268471 0.24268471\n",
            " 0.24268471 0.24268471 0.24268471 0.24268471 0.24268471 0.24268471\n",
            " 0.24268471 0.24268471 0.24268471 0.24268471 0.24268471 0.24268471\n",
            " 0.24268471 0.24268471 0.24268471 0.24268471 0.24268471 0.24268471\n",
            " 0.24268471 0.24268471 0.24268471 0.24268471 0.24268471 0.24268471\n",
            " 0.24268471 0.24268471 0.24268471 0.24268471 0.24268471 0.24268471\n",
            " 0.24268471 0.24268471 0.24268471 0.24268471 0.24268471 0.24268471\n",
            " 0.24268471 0.24268471 0.24268471 0.24268471 0.24268471 0.24268471\n",
            " 0.24268471 0.24268471 0.24268471 0.24268471 0.24268471 0.24268471\n",
            " 0.24268471 0.24268471 0.24268471 0.24268471 0.24268471 0.24268471\n",
            " 0.24268471 0.24268471 0.24268471 0.24268471 0.24268471 0.24268471\n",
            " 0.24268471 0.24268471 0.24268471 0.24268471 0.24268471 0.24268471\n",
            " 0.24268471 0.24268471 0.24268471 0.24268471 0.24268471 0.24268471\n",
            " 0.24268471 0.24268471 0.24268471 0.24268471 0.24268471 0.24268471\n",
            " 0.24268471 0.24268471 0.24268471 0.24268471 0.24268471 0.24268471\n",
            " 0.24268471 0.24268471 0.24268471 0.24268471 0.24268471 0.24268471\n",
            " 0.24268471 0.24268471 0.24268471 0.24268471 0.24268471 0.24268471\n",
            " 0.24268471 0.24268471 0.24268471 0.24268471 0.24268471 0.24268471\n",
            " 0.24268471 0.24268471 0.24268471 0.24268471 0.24268471 0.24268471\n",
            " 0.24268471 0.24268471 0.24268471 0.24268471 0.24268471 0.24268471\n",
            " 0.24268471 0.24268471 0.24268471 0.24268471 0.24268471 0.24268471\n",
            " 0.24268471 0.24268471 0.24268471 0.24268471 0.24268471 0.24268471\n",
            " 0.24268471 0.24268471 0.24268471 0.24268471 0.24268471 0.24268471\n",
            " 0.24268471 0.24268471 0.24268471 0.24268471 0.24268471 0.24268471\n",
            " 0.24268471 0.24268471 0.24268471 0.24268471 0.24268471 0.24268471\n",
            " 0.24268471 0.24268471 0.24268471 0.24268471 0.24268471 0.24268471\n",
            " 0.24268471 0.24268471 0.24268471 0.24268471 0.24268471 0.24268471\n",
            " 0.24268471 0.24268471 0.24268471 0.24268471 0.24268471 0.24268471\n",
            " 0.24268471 0.24268471 0.24268471 0.24268471 0.24268471 0.24268471\n",
            " 0.24268471 0.24268471 0.24268471 0.24268471 0.24268471 0.24268471\n",
            " 0.24268471 0.24268471 0.24268471 0.24268471 0.24268471 0.24268471\n",
            " 0.24268471 0.24268471 0.24268471 0.24268471 0.24268471 0.24268471\n",
            " 0.24268471 0.24268471 0.24268471 0.24268471 0.24268471 0.24268471\n",
            " 0.24268471 0.24268471]\n"
          ]
        }
      ]
    },
    {
      "cell_type": "code",
      "source": [
        "print(\"Evaluation metrics for exp 3\")\n",
        "print(\"R^2 score for lasso regression: \", regressor.score(X_test, y_test))\n",
        "\n",
        "mse = sklearn.metrics.mean_squared_error(y_test, y_pred)\n",
        "print(\"MSE:\",mse)\n",
        "mae = sklearn.metrics.mean_absolute_error(y_test, y_pred)\n",
        "print(\"MAE:\",mae)\n",
        "mape = sklearn.metrics.mean_absolute_percentage_error(y_test, y_pred)\n",
        "print(\"MAPE:\",mape)"
      ],
      "metadata": {
        "colab": {
          "base_uri": "https://localhost:8080/"
        },
        "id": "s55fCiA4Cu-u",
        "outputId": "0d2a7ed5-3bca-4764-99f5-0300b2786769"
      },
      "execution_count": 55,
      "outputs": [
        {
          "output_type": "stream",
          "name": "stdout",
          "text": [
            "Evaluation metrics for exp 3\n",
            "R^2 score for lasso regression:  0.9482971348953978\n",
            "MSE: 0.03284364222251033\n",
            "MAE: 0.13927086434725539\n",
            "MAPE: 2.235638850352123\n"
          ]
        }
      ]
    },
    {
      "cell_type": "code",
      "source": [
        "plt.scatter(y_test,y_pred)\n",
        "plt.xlabel('Measured')\n",
        "plt.ylabel('Predicted')\n",
        "plt.title('Lasso Regression Predicted vs Actual')"
      ],
      "metadata": {
        "colab": {
          "base_uri": "https://localhost:8080/",
          "height": 312
        },
        "id": "7cBVk6_qCu-v",
        "outputId": "edc6c795-4f3e-40ec-a5bb-3454f6dc4274"
      },
      "execution_count": 56,
      "outputs": [
        {
          "output_type": "execute_result",
          "data": {
            "text/plain": [
              "Text(0.5, 1.0, 'Lasso Regression Predicted vs Actual')"
            ]
          },
          "metadata": {},
          "execution_count": 56
        },
        {
          "output_type": "display_data",
          "data": {
            "text/plain": [
              "<Figure size 432x288 with 1 Axes>"
            ],
            "image/png": "[encoded data removed]"
          },
          "metadata": {
            "needs_background": "light"
          }
        }
      ]
    },
    {
      "cell_type": "markdown",
      "source": [
        "Exp:4"
      ],
      "metadata": {
        "id": "-D4CaIbMDHgT"
      }
    },
    {
      "cell_type": "code",
      "source": [
        "\n",
        "X_train, X_test, y_train, y_test = train_test_split(features, target, test_size=0.6)\n",
        "\n",
        "print('Training data size:',X_train.shape)\n",
        "print('Test data size:',X_test.shape)"
      ],
      "metadata": {
        "colab": {
          "base_uri": "https://localhost:8080/"
        },
        "id": "IT3nno9ACxIh",
        "outputId": "a8fec84e-de00-44af-e597-d448b6589437"
      },
      "execution_count": 57,
      "outputs": [
        {
          "output_type": "stream",
          "name": "stdout",
          "text": [
            "Training data size: (280, 7)\n",
            "Test data size: (420, 7)\n"
          ]
        }
      ]
    },
    {
      "cell_type": "code",
      "source": [
        "from sklearn.linear_model import Lasso\n",
        "lasso = Lasso()\n",
        "lasso.fit(X_train, y_train)"
      ],
      "metadata": {
        "colab": {
          "base_uri": "https://localhost:8080/"
        },
        "id": "IAhAusmmCxIi",
        "outputId": "251a6514-1193-4420-adab-9e86eaf34107"
      },
      "execution_count": 58,
      "outputs": [
        {
          "output_type": "execute_result",
          "data": {
            "text/plain": [
              "Lasso()"
            ]
          },
          "metadata": {},
          "execution_count": 58
        }
      ]
    },
    {
      "cell_type": "code",
      "source": [
        "print(\"Predicted values:\", lasso.predict(X_test))\n",
        "y_pred = lasso.predict(X_test)"
      ],
      "metadata": {
        "colab": {
          "base_uri": "https://localhost:8080/"
        },
        "id": "7G8PQ2BuCxIi",
        "outputId": "88fc8dba-7078-4574-deea-c74003f231fe"
      },
      "execution_count": 59,
      "outputs": [
        {
          "output_type": "stream",
          "name": "stdout",
          "text": [
            "Predicted values: [0.24950826 0.24950826 0.24950826 0.24950826 0.24950826 0.24950826\n",
            " 0.24950826 0.24950826 0.24950826 0.24950826 0.24950826 0.24950826\n",
            " 0.24950826 0.24950826 0.24950826 0.24950826 0.24950826 0.24950826\n",
            " 0.24950826 0.24950826 0.24950826 0.24950826 0.24950826 0.24950826\n",
            " 0.24950826 0.24950826 0.24950826 0.24950826 0.24950826 0.24950826\n",
            " 0.24950826 0.24950826 0.24950826 0.24950826 0.24950826 0.24950826\n",
            " 0.24950826 0.24950826 0.24950826 0.24950826 0.24950826 0.24950826\n",
            " 0.24950826 0.24950826 0.24950826 0.24950826 0.24950826 0.24950826\n",
            " 0.24950826 0.24950826 0.24950826 0.24950826 0.24950826 0.24950826\n",
            " 0.24950826 0.24950826 0.24950826 0.24950826 0.24950826 0.24950826\n",
            " 0.24950826 0.24950826 0.24950826 0.24950826 0.24950826 0.24950826\n",
            " 0.24950826 0.24950826 0.24950826 0.24950826 0.24950826 0.24950826\n",
            " 0.24950826 0.24950826 0.24950826 0.24950826 0.24950826 0.24950826\n",
            " 0.24950826 0.24950826 0.24950826 0.24950826 0.24950826 0.24950826\n",
            " 0.24950826 0.24950826 0.24950826 0.24950826 0.24950826 0.24950826\n",
            " 0.24950826 0.24950826 0.24950826 0.24950826 0.24950826 0.24950826\n",
            " 0.24950826 0.24950826 0.24950826 0.24950826 0.24950826 0.24950826\n",
            " 0.24950826 0.24950826 0.24950826 0.24950826 0.24950826 0.24950826\n",
            " 0.24950826 0.24950826 0.24950826 0.24950826 0.24950826 0.24950826\n",
            " 0.24950826 0.24950826 0.24950826 0.24950826 0.24950826 0.24950826\n",
            " 0.24950826 0.24950826 0.24950826 0.24950826 0.24950826 0.24950826\n",
            " 0.24950826 0.24950826 0.24950826 0.24950826 0.24950826 0.24950826\n",
            " 0.24950826 0.24950826 0.24950826 0.24950826 0.24950826 0.24950826\n",
            " 0.24950826 0.24950826 0.24950826 0.24950826 0.24950826 0.24950826\n",
            " 0.24950826 0.24950826 0.24950826 0.24950826 0.24950826 0.24950826\n",
            " 0.24950826 0.24950826 0.24950826 0.24950826 0.24950826 0.24950826\n",
            " 0.24950826 0.24950826 0.24950826 0.24950826 0.24950826 0.24950826\n",
            " 0.24950826 0.24950826 0.24950826 0.24950826 0.24950826 0.24950826\n",
            " 0.24950826 0.24950826 0.24950826 0.24950826 0.24950826 0.24950826\n",
            " 0.24950826 0.24950826 0.24950826 0.24950826 0.24950826 0.24950826\n",
            " 0.24950826 0.24950826 0.24950826 0.24950826 0.24950826 0.24950826\n",
            " 0.24950826 0.24950826 0.24950826 0.24950826 0.24950826 0.24950826\n",
            " 0.24950826 0.24950826 0.24950826 0.24950826 0.24950826 0.24950826\n",
            " 0.24950826 0.24950826 0.24950826 0.24950826 0.24950826 0.24950826\n",
            " 0.24950826 0.24950826 0.24950826 0.24950826 0.24950826 0.24950826\n",
            " 0.24950826 0.24950826 0.24950826 0.24950826 0.24950826 0.24950826\n",
            " 0.24950826 0.24950826 0.24950826 0.24950826 0.24950826 0.24950826\n",
            " 0.24950826 0.24950826 0.24950826 0.24950826 0.24950826 0.24950826\n",
            " 0.24950826 0.24950826 0.24950826 0.24950826 0.24950826 0.24950826\n",
            " 0.24950826 0.24950826 0.24950826 0.24950826 0.24950826 0.24950826\n",
            " 0.24950826 0.24950826 0.24950826 0.24950826 0.24950826 0.24950826\n",
            " 0.24950826 0.24950826 0.24950826 0.24950826 0.24950826 0.24950826\n",
            " 0.24950826 0.24950826 0.24950826 0.24950826 0.24950826 0.24950826\n",
            " 0.24950826 0.24950826 0.24950826 0.24950826 0.24950826 0.24950826\n",
            " 0.24950826 0.24950826 0.24950826 0.24950826 0.24950826 0.24950826\n",
            " 0.24950826 0.24950826 0.24950826 0.24950826 0.24950826 0.24950826\n",
            " 0.24950826 0.24950826 0.24950826 0.24950826 0.24950826 0.24950826\n",
            " 0.24950826 0.24950826 0.24950826 0.24950826 0.24950826 0.24950826\n",
            " 0.24950826 0.24950826 0.24950826 0.24950826 0.24950826 0.24950826\n",
            " 0.24950826 0.24950826 0.24950826 0.24950826 0.24950826 0.24950826\n",
            " 0.24950826 0.24950826 0.24950826 0.24950826 0.24950826 0.24950826\n",
            " 0.24950826 0.24950826 0.24950826 0.24950826 0.24950826 0.24950826\n",
            " 0.24950826 0.24950826 0.24950826 0.24950826 0.24950826 0.24950826\n",
            " 0.24950826 0.24950826 0.24950826 0.24950826 0.24950826 0.24950826\n",
            " 0.24950826 0.24950826 0.24950826 0.24950826 0.24950826 0.24950826\n",
            " 0.24950826 0.24950826 0.24950826 0.24950826 0.24950826 0.24950826\n",
            " 0.24950826 0.24950826 0.24950826 0.24950826 0.24950826 0.24950826\n",
            " 0.24950826 0.24950826 0.24950826 0.24950826 0.24950826 0.24950826\n",
            " 0.24950826 0.24950826 0.24950826 0.24950826 0.24950826 0.24950826\n",
            " 0.24950826 0.24950826 0.24950826 0.24950826 0.24950826 0.24950826\n",
            " 0.24950826 0.24950826 0.24950826 0.24950826 0.24950826 0.24950826\n",
            " 0.24950826 0.24950826 0.24950826 0.24950826 0.24950826 0.24950826\n",
            " 0.24950826 0.24950826 0.24950826 0.24950826 0.24950826 0.24950826\n",
            " 0.24950826 0.24950826 0.24950826 0.24950826 0.24950826 0.24950826\n",
            " 0.24950826 0.24950826 0.24950826 0.24950826 0.24950826 0.24950826\n",
            " 0.24950826 0.24950826 0.24950826 0.24950826 0.24950826 0.24950826\n",
            " 0.24950826 0.24950826 0.24950826 0.24950826 0.24950826 0.24950826\n",
            " 0.24950826 0.24950826 0.24950826 0.24950826 0.24950826 0.24950826\n",
            " 0.24950826 0.24950826 0.24950826 0.24950826 0.24950826 0.24950826\n",
            " 0.24950826 0.24950826 0.24950826 0.24950826 0.24950826 0.24950826]\n"
          ]
        }
      ]
    },
    {
      "cell_type": "code",
      "source": [
        "print(\"Evaluation metrics for exp 4\")\n",
        "print(\"R^2 score for lasso regression: \", regressor.score(X_test, y_test))\n",
        "\n",
        "mse = sklearn.metrics.mean_squared_error(y_test, y_pred)\n",
        "print(\"MSE:\",mse)\n",
        "mae = sklearn.metrics.mean_absolute_error(y_test, y_pred)\n",
        "print(\"MAE:\",mae)\n",
        "mape = sklearn.metrics.mean_absolute_percentage_error(y_test, y_pred)\n",
        "print(\"MAPE:\",mape)"
      ],
      "metadata": {
        "colab": {
          "base_uri": "https://localhost:8080/"
        },
        "id": "Vs6Ug-JeCxIj",
        "outputId": "3733eb34-886c-42a5-be64-e00d71dfdcfc"
      },
      "execution_count": 60,
      "outputs": [
        {
          "output_type": "stream",
          "name": "stdout",
          "text": [
            "Evaluation metrics for exp 4\n",
            "R^2 score for lasso regression:  0.950789417753899\n",
            "MSE: 0.03234850920750306\n",
            "MAE: 0.14171755091522265\n",
            "MAPE: 5350882310571.827\n"
          ]
        }
      ]
    },
    {
      "cell_type": "code",
      "source": [
        "plt.scatter(y_test,y_pred)\n",
        "plt.xlabel('Measured')\n",
        "plt.ylabel('Predicted')\n",
        "plt.title('Lasso Regression Predicted vs Actual')"
      ],
      "metadata": {
        "colab": {
          "base_uri": "https://localhost:8080/",
          "height": 312
        },
        "id": "loz3SKjdCxIj",
        "outputId": "201578ce-dde2-45a5-d288-9e743a761a1f"
      },
      "execution_count": 61,
      "outputs": [
        {
          "output_type": "execute_result",
          "data": {
            "text/plain": [
              "Text(0.5, 1.0, 'Lasso Regression Predicted vs Actual')"
            ]
          },
          "metadata": {},
          "execution_count": 61
        },
        {
          "output_type": "display_data",
          "data": {
            "text/plain": [
              "<Figure size 432x288 with 1 Axes>"
            ],
            "image/png": "[encoded data removed]"
          },
          "metadata": {
            "needs_background": "light"
          }
        }
      ]
    },
    {
      "cell_type": "markdown",
      "source": [
        "### **RIDGE REGRESSION**\n",
        "# Exp:1"
      ],
      "metadata": {
        "id": "gjbfTKvEEks7"
      }
    },
    {
      "cell_type": "code",
      "source": [
        "X_train, X_test, y_train, y_test = train_test_split(features, target, test_size=0.3)\n",
        "\n",
        "print('Training data size:',X_train.shape)\n",
        "print('Test data size:',X_test.shape)"
      ],
      "metadata": {
        "colab": {
          "base_uri": "https://localhost:8080/"
        },
        "outputId": "d24e5464-e543-476c-ade0-325ee8321284",
        "id": "Wr5N-eqrEPU7"
      },
      "execution_count": 62,
      "outputs": [
        {
          "output_type": "stream",
          "name": "stdout",
          "text": [
            "Training data size: (490, 7)\n",
            "Test data size: (210, 7)\n"
          ]
        }
      ]
    },
    {
      "cell_type": "code",
      "source": [
        "from sklearn.linear_model import Ridge\n",
        "Ridge = Ridge()\n",
        "Ridge.fit(X_train, y_train)"
      ],
      "metadata": {
        "colab": {
          "base_uri": "https://localhost:8080/"
        },
        "outputId": "d78d8322-d72a-49ab-e95a-587f20f7e784",
        "id": "F3cIyGx-EPU8"
      },
      "execution_count": 63,
      "outputs": [
        {
          "output_type": "execute_result",
          "data": {
            "text/plain": [
              "Ridge()"
            ]
          },
          "metadata": {},
          "execution_count": 63
        }
      ]
    },
    {
      "cell_type": "code",
      "source": [
        "print(\"Predicted values:\", Ridge.predict(X_test))\n",
        "y_pred = Ridge.predict(X_test)"
      ],
      "metadata": {
        "colab": {
          "base_uri": "https://localhost:8080/"
        },
        "outputId": "91cd946f-2b76-4063-a789-2a32c75ea7b3",
        "id": "FjClcinTEPU9"
      },
      "execution_count": 64,
      "outputs": [
        {
          "output_type": "stream",
          "name": "stdout",
          "text": [
            "Predicted values: [ 0.37729957  0.04880179  0.31854553  0.14545407  0.18200695  0.43140927\n",
            "  0.34633804  0.20771351  0.01945097  0.19541065  0.21060424  0.38473313\n",
            "  0.41348709  0.08201307  0.50282026  0.03219876  0.04862591  0.20103654\n",
            " -0.00941575  0.48524429  0.53788356  0.21725501  0.04462128  0.49456867\n",
            "  0.20487483  0.03563367  0.45832063  0.19316907  0.06985798  0.30220994\n",
            "  0.17601144  0.20771023  0.15931927  0.06260645  0.18514745  0.32546788\n",
            "  0.09397433  0.5288652   0.07302227  0.4062302   0.35231977 -0.00487623\n",
            "  0.31875786  0.33063872  0.0359445   0.72873074  0.07718037  0.03100131\n",
            "  0.27122194  0.10802805  0.15061765  0.09763891  0.28223555  0.08366773\n",
            "  0.36146593  0.04247723  0.15454975  0.54229533  0.12757497  0.17602463\n",
            "  0.39393838  0.00129669  0.37129122  0.02977684  0.11392605  0.4751743\n",
            "  0.32946199  0.59624145  0.2507022   0.32707164  0.19931587  0.21263858\n",
            "  0.01924401  0.24210608  0.07243007 -0.01292612  0.39551659  0.32204056\n",
            "  0.12019537  0.04661269 -0.075626    0.10018344  0.20870376  0.52283421\n",
            "  0.45111751  0.33577963  0.35241751  0.16811003  0.08616673  0.74660866\n",
            "  0.15374843  0.31153551  0.58997495  0.06632579  0.26697078  0.26882925\n",
            "  0.29194734  0.180102    0.36389329  0.09568431  0.60980287  0.43136168\n",
            "  0.0896317   0.26019786  0.31865019  0.02039673 -0.04942175  0.2798986\n",
            "  0.18217875  0.08950508  0.04838336  0.74020276  0.16676769  0.16230594\n",
            "  0.6959965   0.43170525  0.37116852  0.04394226  0.07629323  0.46020229\n",
            "  0.3398199   0.29288201  0.03217446  0.07844144  0.1761487   0.22337153\n",
            "  0.31523374  0.29438668  0.06399042  0.59094781  0.02389515 -0.00476935\n",
            "  0.01466501  0.3019305   0.20606885  0.32678961 -0.08123394  0.17510763\n",
            "  0.39566005 -0.08485744  0.16785591  0.17477939  0.03394566  0.19696155\n",
            "  0.14494373  0.49219307  0.17913522  0.11333282  0.14549028  0.3044874\n",
            "  0.29997104  0.2666688   0.37693993  0.32228583  0.09513572  0.27246577\n",
            " -0.0182624   0.13844743  0.16188546  0.20966643  0.15072334  0.0872583\n",
            "  0.19644332  0.33530964  0.02252289  0.67212539  0.33698569  0.30472377\n",
            "  0.2200377   0.31998059  0.50770729  0.08698925  0.06537831  0.16584933\n",
            "  0.21573346  0.36781944  0.14452246  0.58975318  0.06423958  0.09772582\n",
            "  0.42598403  0.44223719  0.3150123   0.02439718  0.24585114  0.20012896\n",
            "  0.20599027  0.33792807  0.06806069  0.73785643  0.36563348  0.11769574\n",
            " -0.05251358  0.49307662  0.13804219  0.36738084  0.1423039   0.32814004\n",
            "  0.09457533  0.15008762  0.14282992  0.05798438  0.13085268  0.25435829\n",
            "  0.4201319   0.16124825  0.38212266  0.79627371  0.32560583  0.22012063]\n"
          ]
        }
      ]
    },
    {
      "cell_type": "code",
      "source": [
        "print(\"Evaluation metrics for exp 1\")\n",
        "print(\"R^2 score for Ridge regression: \", Ridge.score(X_test, y_test))\n",
        "\n",
        "mse = sklearn.metrics.mean_squared_error(y_test, y_pred)\n",
        "print(\"MSE:\",mse)\n",
        "mae = sklearn.metrics.mean_absolute_error(y_test, y_pred)\n",
        "print(\"MAE:\",mae)\n",
        "mape = sklearn.metrics.mean_absolute_percentage_error(y_test, y_pred)\n",
        "print(\"MAPE:\",mape)"
      ],
      "metadata": {
        "colab": {
          "base_uri": "https://localhost:8080/"
        },
        "outputId": "6f475c5f-1dba-4726-9411-ede8922e4060",
        "id": "_ZkEsAwAEPU-"
      },
      "execution_count": 65,
      "outputs": [
        {
          "output_type": "stream",
          "name": "stdout",
          "text": [
            "Evaluation metrics for exp 1\n",
            "R^2 score for Ridge regression:  0.944723460607544\n",
            "MSE: 0.001967859902833817\n",
            "MAE: 0.034190810150785546\n",
            "MAPE: 1621853486426.3494\n"
          ]
        }
      ]
    },
    {
      "cell_type": "code",
      "source": [
        "plt.scatter(y_test,y_pred)\n",
        "plt.xlabel('Measured')\n",
        "plt.ylabel('Predicted')\n",
        "plt.title('Ridge Regression Predicted vs Actual')"
      ],
      "metadata": {
        "colab": {
          "base_uri": "https://localhost:8080/",
          "height": 312
        },
        "outputId": "d2df43a1-8786-455d-e8af-f80534e45f12",
        "id": "MxrqyEjMEPU_"
      },
      "execution_count": 66,
      "outputs": [
        {
          "output_type": "execute_result",
          "data": {
            "text/plain": [
              "Text(0.5, 1.0, 'Ridge Regression Predicted vs Actual')"
            ]
          },
          "metadata": {},
          "execution_count": 66
        },
        {
          "output_type": "display_data",
          "data": {
            "text/plain": [
              "<Figure size 432x288 with 1 Axes>"
            ],
            "image/png": "[encoded data removed]"
          },
          "metadata": {
            "needs_background": "light"
          }
        }
      ]
    },
    {
      "cell_type": "markdown",
      "source": [
        "# Exp:2"
      ],
      "metadata": {
        "id": "6tpEqp__FCKZ"
      }
    },
    {
      "cell_type": "code",
      "source": [
        "X_train, X_test, y_train, y_test = train_test_split(features, target, test_size=0.4)\n",
        "\n",
        "print('Training data size:',X_train.shape)\n",
        "print('Test data size:',X_test.shape)"
      ],
      "metadata": {
        "colab": {
          "base_uri": "https://localhost:8080/"
        },
        "outputId": "44c10ae7-a858-440e-b4eb-fca56d8b6e1a",
        "id": "fKg3Kx-LE8wz"
      },
      "execution_count": 67,
      "outputs": [
        {
          "output_type": "stream",
          "name": "stdout",
          "text": [
            "Training data size: (420, 7)\n",
            "Test data size: (280, 7)\n"
          ]
        }
      ]
    },
    {
      "cell_type": "code",
      "source": [
        "from sklearn.linear_model import Ridge\n",
        "Ridge = Ridge()\n",
        "Ridge.fit(X_train, y_train)"
      ],
      "metadata": {
        "colab": {
          "base_uri": "https://localhost:8080/"
        },
        "outputId": "529da304-65ba-4e73-a8a7-08905614516b",
        "id": "f6yyJbKCE8w0"
      },
      "execution_count": 68,
      "outputs": [
        {
          "output_type": "execute_result",
          "data": {
            "text/plain": [
              "Ridge()"
            ]
          },
          "metadata": {},
          "execution_count": 68
        }
      ]
    },
    {
      "cell_type": "code",
      "source": [
        "print(\"Predicted values:\", Ridge.predict(X_test))\n",
        "y_pred = Ridge.predict(X_test)"
      ],
      "metadata": {
        "colab": {
          "base_uri": "https://localhost:8080/"
        },
        "outputId": "c151e28a-222f-401d-8e65-206b30c1ed9d",
        "id": "fSHLruD5E8w1"
      },
      "execution_count": 69,
      "outputs": [
        {
          "output_type": "stream",
          "name": "stdout",
          "text": [
            "Predicted values: [ 0.04921141  0.21143743  0.19171914  0.27289473  0.65555544  0.43807174\n",
            "  0.2405622   0.07392923  0.05514299  0.31829108  0.10260638  0.0963838\n",
            "  0.74402961  0.35829193  0.10293138  0.17356147  0.37184161  0.10634995\n",
            "  0.58829191  0.54504491  0.2587904   0.10494428  0.36150284  0.21040702\n",
            "  0.10879767  0.3187839   0.1856583   0.39508919  0.45429209  0.23917895\n",
            "  0.03360848  0.79041001  0.21674354  0.48489244  0.19745729  0.32169813\n",
            "  0.45422451  0.20503545 -0.00152547  0.43248717  0.48104237  0.23688625\n",
            "  0.14508207  0.18524087  0.48538449  0.30553243  0.12466531  0.08471875\n",
            "  0.28295082  0.27880593 -0.06906733  0.31994115  0.3594829   0.03761275\n",
            "  0.02150237  0.56789541  0.31170781  0.47108188  0.1805926   0.41135378\n",
            "  0.22505043  0.19172796  0.34738118  0.11247189  0.83284748  0.17798817\n",
            "  0.01795115  0.24576758  0.53460997  0.12620718  0.32305962  0.02415147\n",
            "  0.3660523   0.34969289  0.45516173 -0.00474883  0.657557    0.21296878\n",
            "  0.07092613  0.02571602  0.69365662  0.32386333  0.08256071  0.27042779\n",
            "  0.37099773  0.30589777  0.15976344  0.20998768  0.20864602  0.01257267\n",
            "  0.32295392  0.33999041  0.16100913  0.4765995   0.20057191  0.06299977\n",
            "  0.20348612  0.10810438  0.22185916  0.26761923  0.18212872  0.23254298\n",
            " -0.02582927  0.40328484  0.08563008  0.21369075  0.12754602  0.03397339\n",
            "  0.33019644  0.52817236 -0.0063845   0.32888665  0.33358244  0.24536295\n",
            "  0.22487203 -0.01216399  0.3918048   0.16090317  0.34183177  0.28349731\n",
            "  0.07486651  0.26251098 -0.00170749 -0.07807773  0.40075081  0.24393836\n",
            "  0.20992175  0.2382954   0.3241587   0.29090727  0.29864336  0.21081733\n",
            "  0.29744023  0.20931097  0.27753997  0.32463378  0.36231984  0.51983997\n",
            "  0.45310002  0.27869349  0.08649158  0.2230592   0.02462305  0.5921294\n",
            "  0.04629245  0.31816349  0.23406558  0.36354234  0.43984063  0.07407979\n",
            "  0.07137656  0.36165258  0.09390515  0.24923551  0.04463856  0.03820113\n",
            " -0.00271931  0.27907504  0.20548524  0.74994608  0.31820711  0.36920795\n",
            "  0.65381926  0.43973341  0.07237418  0.24591406  0.62116938  0.20662655\n",
            " -0.01022039  0.34341709 -0.01310926  0.2696103   0.15460015  0.5843616\n",
            "  0.26969364  0.22921564  0.16904864  0.35010542  0.323988    0.21928448\n",
            "  0.33715841  0.67618496  0.15666701  0.02195607  0.06958129  0.53548866\n",
            "  0.379543    0.09177202  0.05999046  0.30524825  0.26811579  0.27404053\n",
            "  0.3252151  -0.00411457  0.15592225  0.26813463  0.01562604  0.24291348\n",
            "  0.16628329  0.42057766  0.17829067  0.4924531   0.17441248  0.32281186\n",
            "  0.13953116  0.30828677  0.08814927  0.48059342  0.13120037  0.43516787\n",
            "  0.03175501  0.0690298   0.21848478  0.1603983   0.09726357  0.08813591\n",
            "  0.74171147  0.22207152 -0.00850458  0.21985261  0.42064482  0.24434622\n",
            "  0.1303946   0.49111739  0.51632862  0.13811133  0.18901799 -0.01024394\n",
            "  0.19979973  0.5920175   0.49012858  0.10197187  0.18589398  0.34693047\n",
            "  0.4266017   0.1174401   0.16989577  0.64546114  0.45524426  0.0357222\n",
            "  0.20575984  0.03782099  0.14085648  0.22181001  0.14941702 -0.05942036\n",
            "  0.34384312  0.50684328  0.0640156   0.32415471  0.12844239  0.33197064\n",
            "  0.22085131 -0.05699869  0.4202924   0.09038824  0.22071692  0.23857244\n",
            "  0.03777512  0.09237726  0.29100103  0.04606066  0.05221671  0.14597384\n",
            "  0.5271314   0.26546868  0.34176756  0.08708563  0.32174715  0.48408893\n",
            "  0.18682482  0.22761352  0.32707959  0.18960284  0.46921767  0.2614366\n",
            "  0.05784969  0.138631    0.47920746  0.12064866]\n"
          ]
        }
      ]
    },
    {
      "cell_type": "code",
      "source": [
        "print(\"Evaluation metrics for exp 2\")\n",
        "print(\"R^2 score for Ridge regression: \", Ridge.score(X_test, y_test))\n",
        "\n",
        "mse = sklearn.metrics.mean_squared_error(y_test, y_pred)\n",
        "print(\"MSE:\",mse)\n",
        "mae = sklearn.metrics.mean_absolute_error(y_test, y_pred)\n",
        "print(\"MAE:\",mae)\n",
        "mape = sklearn.metrics.mean_absolute_percentage_error(y_test, y_pred)\n",
        "print(\"MAPE:\",mape)"
      ],
      "metadata": {
        "colab": {
          "base_uri": "https://localhost:8080/"
        },
        "outputId": "a1995504-b64c-4efe-9237-8964ed564662",
        "id": "K_Xz82RdE8w2"
      },
      "execution_count": 70,
      "outputs": [
        {
          "output_type": "stream",
          "name": "stdout",
          "text": [
            "Evaluation metrics for exp 2\n",
            "R^2 score for Ridge regression:  0.9406884103447521\n",
            "MSE: 0.002077058242990715\n",
            "MAE: 0.03560734053161215\n",
            "MAPE: 0.42471803838499617\n"
          ]
        }
      ]
    },
    {
      "cell_type": "code",
      "source": [
        "plt.scatter(y_test,y_pred)\n",
        "plt.xlabel('Measured')\n",
        "plt.ylabel('Predicted')\n",
        "plt.title('Ridge Regression Predicted vs Actual')"
      ],
      "metadata": {
        "colab": {
          "base_uri": "https://localhost:8080/",
          "height": 312
        },
        "outputId": "88ad6fff-895d-460b-c77c-617bdff256cc",
        "id": "HhmYf_DcE8w3"
      },
      "execution_count": 71,
      "outputs": [
        {
          "output_type": "execute_result",
          "data": {
            "text/plain": [
              "Text(0.5, 1.0, 'Ridge Regression Predicted vs Actual')"
            ]
          },
          "metadata": {},
          "execution_count": 71
        },
        {
          "output_type": "display_data",
          "data": {
            "text/plain": [
              "<Figure size 432x288 with 1 Axes>"
            ],
            "image/png": "[encoded data removed]"
          },
          "metadata": {
            "needs_background": "light"
          }
        }
      ]
    },
    {
      "cell_type": "markdown",
      "source": [
        "Exp:3"
      ],
      "metadata": {
        "id": "qtaowpSYFI6P"
      }
    },
    {
      "cell_type": "code",
      "source": [
        "X_train, X_test, y_train, y_test = train_test_split(features, target, test_size=0.5)\n",
        "\n",
        "print('Training data size:',X_train.shape)\n",
        "print('Test data size:',X_test.shape)"
      ],
      "metadata": {
        "colab": {
          "base_uri": "https://localhost:8080/"
        },
        "outputId": "449a4f38-ed46-4ba1-953c-47435bb57ff7",
        "id": "vaHQGCVFE97a"
      },
      "execution_count": 72,
      "outputs": [
        {
          "output_type": "stream",
          "name": "stdout",
          "text": [
            "Training data size: (350, 7)\n",
            "Test data size: (350, 7)\n"
          ]
        }
      ]
    },
    {
      "cell_type": "code",
      "source": [
        "from sklearn.linear_model import Ridge\n",
        "Ridge = Ridge()\n",
        "Ridge.fit(X_train, y_train)"
      ],
      "metadata": {
        "colab": {
          "base_uri": "https://localhost:8080/"
        },
        "outputId": "257de3fb-41b6-4bc4-d63f-2b6f204c6480",
        "id": "pmteMBSCE97c"
      },
      "execution_count": 73,
      "outputs": [
        {
          "output_type": "execute_result",
          "data": {
            "text/plain": [
              "Ridge()"
            ]
          },
          "metadata": {},
          "execution_count": 73
        }
      ]
    },
    {
      "cell_type": "code",
      "source": [
        "print(\"Predicted values:\", Ridge.predict(X_test))\n",
        "y_pred = Ridge.predict(X_test)"
      ],
      "metadata": {
        "colab": {
          "base_uri": "https://localhost:8080/"
        },
        "outputId": "9f599eb8-e116-4ba4-b635-ce4fa2a399b7",
        "id": "or3fMnYjE97c"
      },
      "execution_count": 74,
      "outputs": [
        {
          "output_type": "stream",
          "name": "stdout",
          "text": [
            "Predicted values: [ 0.09237433  0.33889467  0.28888428  0.50268173  0.27570579  0.73645283\n",
            "  0.20990295  0.14642306  0.36640721  0.24668046  0.17401161 -0.04124411\n",
            "  0.10375909  0.26816768  0.18839803  0.14682967  0.07671179  0.19786037\n",
            "  0.3270591   0.12647991  0.34741941  0.48466329  0.05926381 -0.06619371\n",
            "  0.53494497  0.73202221  0.30220928  0.18027635 -0.03239183  0.35478427\n",
            "  0.16646751  0.24408915  0.20750169  0.0349016   0.02343981  0.21641295\n",
            " -0.00465951  0.14635419  0.26417734  0.15898095  0.78760012  0.22512304\n",
            "  0.19328108  0.17741969 -0.00615101  0.32380072  0.32990125  0.26904113\n",
            "  0.0937044   0.3356692  -0.02934996  0.22173495  0.16863515  0.48928413\n",
            "  0.23134549  0.17446599  0.0682495   0.18852323  0.90982541  0.22205485\n",
            "  0.64745859  0.13280255  0.11444648  0.19793667  0.35623854  0.19548093\n",
            "  0.13016674  0.14091905  0.30406347  0.5201598   0.62016447  0.22495697\n",
            "  0.27917553  0.23706178  0.1294186   0.06979171  0.04167306  0.25716015\n",
            "  0.4980257   0.32772018  0.21698405  0.12129965  0.38408071  0.41088286\n",
            "  0.04574923  0.11626467  0.07954631  0.20883546  0.27635619  0.49604624\n",
            "  0.74286862  0.09878543  0.26717532  0.24119209  0.31966478  0.34310562\n",
            "  0.05338582  0.20007377  0.20924706  0.19936625  0.07857712  0.08521439\n",
            "  0.2459695   0.22715608  0.31882345  0.07298806  0.41205088  0.07487397\n",
            "  0.38271299  0.12623046  0.77940456  0.23118744  0.33408497  0.27469601\n",
            "  0.47857983  0.15139186  0.35435405  0.1289673   0.12837197  0.75599017\n",
            "  0.29110396  0.22032118 -0.00512151  0.36873981  0.00463864  0.33263217\n",
            "  0.21043078  0.17080415  0.07012224  0.58291891  0.26362517  0.23191047\n",
            "  0.0062316   0.03836521  0.22878187  0.17066234  0.69161669  0.39406125\n",
            "  0.65245707  0.31991942  0.34365117  0.17989627  0.42660229  0.18329493\n",
            "  0.11235074  0.05196032  0.03219915  0.48411786  0.12016256  0.20027556\n",
            "  0.10613039  0.19817576  0.22199073  0.65517538  0.17773304  0.36261353\n",
            "  0.02494142  0.01923756  0.20521448  0.07548906  0.3841032   0.58674584\n",
            "  0.21128947  0.24247192  0.27683908  0.36139493  0.36766387  0.04065458\n",
            "  0.25958049  0.33571096  0.22840654  0.17875174  0.48026883  0.4039522\n",
            "  0.10216555  0.25931851  0.30491303  0.16358121  0.04332468  0.03322775\n",
            "  0.30643121  0.18366775  0.12030878  0.20855083  0.09624709  0.29034632\n",
            "  0.01404381  0.19950581  0.18296389  0.24086462  0.17711628  0.06594672\n",
            "  0.50695926  0.27687288  0.48291631  0.03607719  0.04970238  0.25881939\n",
            "  0.4307889   0.19715615  0.28519533  0.21562456  0.25874775  0.21254855\n",
            "  0.07691404  0.1334552   0.09833591  0.25208135  0.16053235  0.04989899\n",
            "  0.21494022  0.11374797  0.5329712   0.20514719  0.40824534  0.18253644\n",
            "  0.45574861  0.26899553  0.30038092  0.28968024  0.01977812  0.72660363\n",
            "  0.04558169  0.35052802  0.17536317  0.21287228  0.1672957   0.13396045\n",
            "  0.36378734  0.10941679  0.26027543  0.27344161  0.14935285  0.40055382\n",
            "  0.10592128  0.25562558  0.21701616  0.51632823  0.50920192  0.01948573\n",
            "  0.27692576 -0.00355674  0.14051604  0.52657568  0.44954331  0.28010356\n",
            "  0.22775179  0.38034335  0.03485769  0.66427112  0.34519529  0.40136483\n",
            "  0.15507427  0.01662749  0.24251814  0.15502151  0.32149451  0.09953034\n",
            "  0.046702    0.29703011  0.28401466  0.37327031  0.45020333  0.34918372\n",
            "  0.10120534  0.23574771  0.07323735  0.49065371  0.36530407  0.09803874\n",
            "  0.08236482  0.36742382  0.09056025  0.47734187  0.06734708  0.13294567\n",
            "  0.1238633   0.3232998   0.4160209   0.08663441  0.14587901  0.3596801\n",
            "  0.34214664  0.10457291  0.21730861  0.21426329  0.00183127  0.47322801\n",
            "  0.3193739   0.11160445  0.43375781  0.18400628  0.56851735  0.0268192\n",
            "  0.06698183  0.28996332  0.39137571  0.30247987  0.10076147  0.40817281\n",
            "  0.39104287  0.06998757  0.29943196  0.58618029  0.20231064  0.20615943\n",
            " -0.01787145  0.06270714  0.14994369  0.49877573  0.35591514  0.27119558\n",
            " -0.06762828  0.49874197  0.14050523  0.13842607  0.04429812  0.24409665\n",
            "  0.03531806  0.22888844  0.04375103  0.25933132  0.26618402  0.16680517\n",
            "  0.73199649  0.31560775  0.05275051  0.37767384  0.0738245   0.19343501\n",
            "  0.33913571  0.20367525 -0.06512241  0.60043943  0.13603724  0.48547896\n",
            "  0.31782825  0.1623257   0.09051719  0.40189784  0.58197949  0.16594965\n",
            "  0.45049342  0.10680423  0.13802893  0.32892669  0.33202233  0.24883148\n",
            "  0.43242737  0.32520132]\n"
          ]
        }
      ]
    },
    {
      "cell_type": "code",
      "source": [
        "print(\"Evaluation metrics for exp 3\")\n",
        "print(\"R^2 score for Ridge regression: \", Ridge.score(X_test, y_test))\n",
        "\n",
        "mse = sklearn.metrics.mean_squared_error(y_test, y_pred)\n",
        "print(\"MSE:\",mse)\n",
        "mae = sklearn.metrics.mean_absolute_error(y_test, y_pred)\n",
        "print(\"MAE:\",mae)\n",
        "mape = sklearn.metrics.mean_absolute_percentage_error(y_test, y_pred)\n",
        "print(\"MAPE:\",mape)"
      ],
      "metadata": {
        "colab": {
          "base_uri": "https://localhost:8080/"
        },
        "outputId": "03d8a393-1648-4035-ac79-a536ce7c7aa5",
        "id": "stGwlmUpE97d"
      },
      "execution_count": 75,
      "outputs": [
        {
          "output_type": "stream",
          "name": "stdout",
          "text": [
            "Evaluation metrics for exp 3\n",
            "R^2 score for Ridge regression:  0.943388600962104\n",
            "MSE: 0.0019726131689720107\n",
            "MAE: 0.03356931362686631\n",
            "MAPE: 1708159874798.115\n"
          ]
        }
      ]
    },
    {
      "cell_type": "code",
      "source": [
        "plt.scatter(y_test,y_pred)\n",
        "plt.xlabel('Measured')\n",
        "plt.ylabel('Predicted')\n",
        "plt.title('Ridge Regression Predicted vs Actual')"
      ],
      "metadata": {
        "colab": {
          "base_uri": "https://localhost:8080/",
          "height": 312
        },
        "outputId": "158c4bdd-0191-4399-b657-13bdff3ba92c",
        "id": "b2PENN_rE97e"
      },
      "execution_count": 76,
      "outputs": [
        {
          "output_type": "execute_result",
          "data": {
            "text/plain": [
              "Text(0.5, 1.0, 'Ridge Regression Predicted vs Actual')"
            ]
          },
          "metadata": {},
          "execution_count": 76
        },
        {
          "output_type": "display_data",
          "data": {
            "text/plain": [
              "<Figure size 432x288 with 1 Axes>"
            ],
            "image/png": "[encoded data removed]"
          },
          "metadata": {
            "needs_background": "light"
          }
        }
      ]
    },
    {
      "cell_type": "markdown",
      "source": [
        "# Exp:4"
      ],
      "metadata": {
        "id": "KVNo-GXRFbDm"
      }
    },
    {
      "cell_type": "code",
      "source": [
        "X_train, X_test, y_train, y_test = train_test_split(features, target, test_size=0.6)\n",
        "\n",
        "print('Training data size:',X_train.shape)\n",
        "print('Test data size:',X_test.shape)"
      ],
      "metadata": {
        "colab": {
          "base_uri": "https://localhost:8080/"
        },
        "outputId": "bdd2c8ef-359d-49e9-9688-b67f6a81c2b2",
        "id": "Frid2EwnFaDj"
      },
      "execution_count": 77,
      "outputs": [
        {
          "output_type": "stream",
          "name": "stdout",
          "text": [
            "Training data size: (280, 7)\n",
            "Test data size: (420, 7)\n"
          ]
        }
      ]
    },
    {
      "cell_type": "code",
      "source": [
        "from sklearn.linear_model import Ridge\n",
        "Ridge = Ridge()\n",
        "Ridge.fit(X_train, y_train)"
      ],
      "metadata": {
        "colab": {
          "base_uri": "https://localhost:8080/"
        },
        "outputId": "61ec4661-e049-424b-e8cd-b552c683d4ac",
        "id": "ZpmJo6NtFaDm"
      },
      "execution_count": 78,
      "outputs": [
        {
          "output_type": "execute_result",
          "data": {
            "text/plain": [
              "Ridge()"
            ]
          },
          "metadata": {},
          "execution_count": 78
        }
      ]
    },
    {
      "cell_type": "code",
      "source": [
        "print(\"Predicted values:\", Ridge.predict(X_test))\n",
        "y_pred = Ridge.predict(X_test)"
      ],
      "metadata": {
        "colab": {
          "base_uri": "https://localhost:8080/"
        },
        "outputId": "35d4f4a7-46b5-4de2-d7b1-c7eebe171fc9",
        "id": "IYhIZq-dFaDm"
      },
      "execution_count": 79,
      "outputs": [
        {
          "output_type": "stream",
          "name": "stdout",
          "text": [
            "Predicted values: [ 8.53420450e-02  3.83433056e-01  1.00943025e-01  1.84903727e-01\n",
            " -8.43828455e-02  2.59632685e-01  1.24551406e-01  4.11149733e-01\n",
            "  2.42000246e-01  8.31783681e-03  4.88081205e-02  3.46334585e-01\n",
            "  6.63071514e-02  2.08976312e-01  1.09061585e-01  2.87487403e-02\n",
            "  1.57496374e-01  1.85506340e-01  2.43850125e-01  1.22794178e-01\n",
            "  2.15655529e-01  3.64424368e-01 -6.82816567e-02  3.32338054e-01\n",
            "  1.09832084e-01  1.21004989e-01  9.48983716e-02  2.10997420e-01\n",
            "  1.01735859e-01  4.28807699e-01  2.67128066e-01  8.43839682e-02\n",
            "  1.12986194e-01  1.60738215e-01  2.81059578e-01  2.02643606e-01\n",
            "  5.90359960e-04  4.61972175e-01  4.81086553e-01  3.34470475e-01\n",
            "  3.99133244e-01  3.22719795e-01 -2.42321666e-02  3.96663986e-01\n",
            "  6.48361926e-01  1.07548506e-01  1.55696463e-01  3.56093907e-01\n",
            "  2.15741107e-01  3.07860463e-01  2.52107773e-01  7.64244762e-01\n",
            "  1.13112810e-01  2.12241352e-01  2.32486641e-01  1.69880496e-01\n",
            "  4.66198306e-01  2.43531081e-01  5.31103754e-01  1.39241587e-01\n",
            "  3.33176288e-01  8.52954651e-02  6.02270890e-02  7.60486133e-02\n",
            "  7.11512052e-01  2.19434975e-01  4.87371879e-01  2.46948224e-01\n",
            "  5.66428899e-01  1.86046779e-01  3.25553726e-01  3.59790111e-01\n",
            "  2.15599487e-01  3.22863684e-01  3.80620694e-01  2.10713676e-01\n",
            "  4.01774995e-01  1.46025345e-01  4.83302900e-01  1.83904694e-01\n",
            "  4.77269752e-01  6.76760029e-02  3.35253702e-02  1.53202982e-01\n",
            "  3.91052644e-03 -7.90298134e-03  9.70873163e-02  1.88965680e-01\n",
            "  2.47827651e-01  8.39861766e-02  4.85506532e-02  4.02862865e-01\n",
            "  2.00043940e-01  3.90975205e-01  3.54358064e-01  3.15705974e-01\n",
            "  2.30533933e-01  2.23946421e-01  1.93626730e-01  1.78338936e-01\n",
            "  3.20119185e-01  5.27333622e-01  8.42038327e-02  8.08764671e-02\n",
            "  1.42780588e-01  2.05704400e-01  2.81908254e-01  1.72720690e-01\n",
            "  2.94731068e-01  1.99373859e-01  2.47714432e-01  8.18111440e-02\n",
            " -3.62643167e-02  1.07194016e-01  4.00509646e-01  9.68149732e-02\n",
            " -1.59408603e-02  2.45831919e-01  3.34288256e-01  8.12133335e-02\n",
            "  7.35559138e-01  9.10391856e-02  5.19871042e-01  2.97657669e-01\n",
            "  2.67436167e-03  1.10945526e-01  4.44469688e-01  3.48941816e-01\n",
            "  1.51156481e-02  2.16151784e-01  1.80258406e-01  2.28574386e-01\n",
            "  4.97763301e-01  2.15884781e-01  2.42434299e-01  4.64550262e-03\n",
            "  5.67961952e-01 -8.58629403e-02  3.81065097e-01  1.91674556e-01\n",
            "  7.10030800e-01  3.29008863e-01  2.27161393e-01 -7.12865390e-02\n",
            "  2.96567899e-01  5.35181914e-01 -4.78353668e-02  3.17568528e-01\n",
            "  8.08646541e-02  2.15543171e-01  4.59449067e-01  1.12195073e-01\n",
            "  3.02059143e-01  4.02750607e-01  1.00748337e-01  3.61505017e-01\n",
            "  2.47412301e-01 -5.32194785e-03  2.85715687e-01  3.35150896e-01\n",
            "  4.53409233e-01  1.13206411e-01  2.74831582e-02  1.73048413e-01\n",
            "  1.66729235e-01  1.20022844e-01  3.01327922e-01  1.01857201e-01\n",
            "  2.18228992e-01  2.30918281e-01  1.04032223e-01  3.99006215e-01\n",
            "  5.12172175e-01  1.32056571e-01  3.32563985e-01  5.29207132e-01\n",
            "  9.49762036e-02  3.30861956e-02  7.26892499e-02  1.33152797e-02\n",
            "  3.75213381e-01  4.97775992e-02  4.05432443e-03  1.99489498e-01\n",
            "  6.92081232e-01  4.77683381e-01  5.91806469e-02  3.48006503e-01\n",
            " -9.34016952e-02  2.41682340e-01  1.78899860e-01  3.31500197e-01\n",
            "  2.62798220e-01  6.48249004e-02  4.43632598e-01  2.04596615e-01\n",
            "  1.94331675e-01  1.38433953e-01  3.66396927e-01  3.49035448e-01\n",
            "  2.17700837e-01  2.63986386e-01  4.59547285e-01  3.51071880e-01\n",
            "  1.52287408e-01  2.41709806e-01  8.90840933e-02  8.41337128e-02\n",
            "  1.66705553e-02  2.89723845e-01  2.38687723e-01 -4.91325346e-03\n",
            "  2.60885769e-01  2.84164923e-01  5.88639567e-02  7.20254267e-02\n",
            "  3.29535338e-01  1.02406329e-01  4.99994491e-01  4.07880165e-01\n",
            "  7.16036708e-01  9.27757812e-02  1.11324688e-01  1.77186366e-01\n",
            "  2.35355342e-01  2.75317769e-01  4.26463828e-01  2.35032131e-01\n",
            "  8.37322658e-02  2.79174293e-01  1.93079470e-01  2.32172558e-01\n",
            " -5.65650941e-02  6.36920330e-01  1.10579382e-01 -7.23108206e-02\n",
            "  3.38052062e-01  7.22603168e-03  2.78011234e-01  1.58372240e-02\n",
            "  6.30230275e-02  1.37155571e-01  3.16592781e-01  3.21898500e-01\n",
            "  5.59538038e-02  2.81493360e-01  6.49722114e-02  1.85847785e-01\n",
            "  2.81916220e-01  1.29254627e-01  3.19785626e-01  1.05011748e-01\n",
            "  6.49405488e-01  1.93518120e-01  3.92073186e-01  3.67580839e-01\n",
            "  2.28359287e-01  4.20780465e-01  2.53405019e-01  1.37056548e-01\n",
            "  8.70756496e-02  1.03443646e-01  2.27906414e-01  1.94946221e-01\n",
            "  7.26700063e-02  2.14394594e-01  2.30192998e-01  4.99168057e-01\n",
            "  1.25082407e-01  1.65503402e-01  2.88370757e-01  2.10574736e-01\n",
            "  8.97793714e-02  1.67744246e-01  3.26742432e-01  4.28915137e-01\n",
            "  1.29590552e-01  1.73472748e-01  1.92001429e-01  4.95121791e-01\n",
            "  2.36262998e-01  2.18694900e-01  8.48623461e-02  2.32291986e-01\n",
            "  2.07826869e-01  7.69680682e-02  6.61397215e-02  1.54127474e-01\n",
            "  9.15155355e-03  9.36633890e-02  9.50603948e-02  9.54851937e-02\n",
            "  3.82291684e-01  2.71010107e-01  6.72371824e-01  4.17317959e-02\n",
            "  1.73990796e-01  1.46329245e-01  4.74403279e-01  2.12635404e-01\n",
            "  1.95066244e-01  2.11552156e-01  2.12885565e-01  5.04738797e-01\n",
            "  2.76495383e-01  2.70566600e-01 -3.02793917e-03  4.68588889e-02\n",
            "  2.19198423e-01  7.12993583e-01  2.15487279e-01  2.27886368e-01\n",
            "  1.20687666e-01  3.27758443e-01  2.60156730e-01  5.50344525e-01\n",
            "  3.47487877e-01  7.92700713e-02  9.72750445e-02  8.14858124e-01\n",
            "  3.50982585e-01  4.85536867e-01 -2.07303278e-02 -9.62142709e-03\n",
            "  2.70447476e-01  3.15664733e-01  1.14131332e-01  1.14142862e-01\n",
            "  4.74760727e-01  2.46988519e-02  2.66434620e-01  5.41613201e-02\n",
            "  1.59248568e-01  4.52743602e-02  3.73440682e-01  2.14692572e-01\n",
            "  1.12166060e-01  1.93645864e-01  8.75898024e-01  3.02764369e-01\n",
            "  3.61813229e-01  2.60404841e-01  1.42851682e-01  1.90371415e-01\n",
            "  1.80748307e-01  7.69432697e-01  2.64392611e-01  2.03946423e-01\n",
            "  6.47469214e-02  2.52614667e-01  1.99711781e-01  1.32678097e-01\n",
            "  2.60236855e-01  2.81074719e-01  3.67616215e-02  1.40334351e-01\n",
            "  1.84634668e-01  2.98450080e-02 -1.49455777e-02  4.26392765e-01\n",
            "  4.17469453e-01  3.64395969e-01  6.66213587e-02  5.17522045e-01\n",
            "  2.38946905e-01  3.23352550e-01  5.26326035e-01  2.91998515e-01\n",
            "  1.07277461e-01  4.01093541e-01  2.02559947e-01  1.68498001e-01\n",
            "  3.87068227e-01  2.69141505e-01  3.01616907e-02  7.36651647e-02\n",
            "  2.22610528e-01  9.43465538e-02  4.43479667e-01  2.25399927e-01\n",
            "  5.77296621e-01  1.98565457e-01  1.67955047e-01  5.01796370e-01\n",
            "  2.47406405e-01  1.42330192e-02  2.03538936e-01 -1.32924358e-02\n",
            "  3.01674999e-01  4.22983080e-01  1.77953375e-01  3.31285791e-01\n",
            "  3.02406040e-01  1.79086953e-01 -9.60616997e-03  1.46548020e-01\n",
            "  3.75328208e-01  5.43168568e-01  4.68544574e-01  8.03955976e-02\n",
            "  2.85553504e-01  4.35165113e-01  3.47455815e-01  2.57812352e-01\n",
            "  1.44358760e-01  3.61636318e-01  5.00116903e-01  3.23680718e-01\n",
            "  2.75739878e-01  1.17791659e-01  7.43089117e-01  3.47913212e-01\n",
            "  5.69501012e-01  2.67228038e-01  4.68167650e-01  1.09338538e-02\n",
            "  5.63809883e-01  1.96300198e-01  3.20092880e-01  1.17705405e-01]\n"
          ]
        }
      ]
    },
    {
      "cell_type": "code",
      "source": [
        "print(\"Evaluation metrics for exp 4\")\n",
        "print(\"R^2 score for Ridge regression: \", Ridge.score(X_test, y_test))\n",
        "\n",
        "mse = sklearn.metrics.mean_squared_error(y_test, y_pred)\n",
        "print(\"MSE:\",mse)\n",
        "mae = sklearn.metrics.mean_absolute_error(y_test, y_pred)\n",
        "print(\"MAE:\",mae)\n",
        "mape = sklearn.metrics.mean_absolute_percentage_error(y_test, y_pred)\n",
        "print(\"MAPE:\",mape)"
      ],
      "metadata": {
        "colab": {
          "base_uri": "https://localhost:8080/"
        },
        "outputId": "bfc979e9-ea9c-45c1-d389-c4dda8bc8778",
        "id": "4OeWPcDZFaDn"
      },
      "execution_count": 80,
      "outputs": [
        {
          "output_type": "stream",
          "name": "stdout",
          "text": [
            "Evaluation metrics for exp 4\n",
            "R^2 score for Ridge regression:  0.9349985950030046\n",
            "MSE: 0.002322200927412684\n",
            "MAE: 0.03574302509703117\n",
            "MAPE: 920695966795.3019\n"
          ]
        }
      ]
    },
    {
      "cell_type": "code",
      "source": [
        "plt.scatter(y_test,y_pred)\n",
        "plt.xlabel('Measured')\n",
        "plt.ylabel('Predicted')\n",
        "plt.title('Ridge Regression Predicted vs Actual')"
      ],
      "metadata": {
        "colab": {
          "base_uri": "https://localhost:8080/",
          "height": 312
        },
        "outputId": "0e01bae1-bdf5-429a-e309-dbee3b7c5cdd",
        "id": "wlf-5MDwFaDo"
      },
      "execution_count": 81,
      "outputs": [
        {
          "output_type": "execute_result",
          "data": {
            "text/plain": [
              "Text(0.5, 1.0, 'Ridge Regression Predicted vs Actual')"
            ]
          },
          "metadata": {},
          "execution_count": 81
        },
        {
          "output_type": "display_data",
          "data": {
            "text/plain": [
              "<Figure size 432x288 with 1 Axes>"
            ],
            "image/png": "[encoded data removed]"
          },
          "metadata": {
            "needs_background": "light"
          }
        }
      ]
    }
  ]
}